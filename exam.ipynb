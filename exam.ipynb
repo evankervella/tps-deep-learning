{
 "cells": [
  {
   "cell_type": "markdown",
   "metadata": {
    "colab_type": "text",
    "id": "h2Seq0a2EL9a"
   },
   "source": [
    "# Examen Deep Learning 19 Février 2018"
   ]
  },
  {
   "cell_type": "markdown",
   "metadata": {
    "colab_type": "text",
    "id": "kY4ntdY6EL9d"
   },
   "source": [
    "NB n°1 : Les performances pures que vous obtiendrez ici n'ont pas trop d'importance car vous n'aurez pas le temps de faire une exploration complète des paramétrages des modèles. Le plus important est de produire le code qui vous permettrait, si vous aviez plus de temps pour les expérimentations, de réaliser efficacement les systèmes qui vous sont demandés.  "
   ]
  },
  {
   "cell_type": "markdown",
   "metadata": {
    "colab_type": "text",
    "id": "gJep6xY_EL9h"
   },
   "source": [
    "NB n°2 : Même si les performances pures n'ont pas réellement d'importance il faut que le code que vous produisez tourne et que l'apprentissage des modèles et leur évaluation produise des résultats.   \n"
   ]
  },
  {
   "cell_type": "markdown",
   "metadata": {
    "colab_type": "text",
    "id": "mtdvti7SEL9k"
   },
   "source": [
    "### Contexte"
   ]
  },
  {
   "cell_type": "markdown",
   "metadata": {
    "colab_type": "text",
    "id": "X8CfZGGyEL9p"
   },
   "source": [
    "La classification supervisée consiste à apprendre un classifieur sur des données appartenant à un nombre fixé $K$ de classes. Les modèles obtenus sont évalués sur des données non utilisées en apprentissage mais appartenant aux mêmes classes que les données d'apprentissage.\n",
    "\n",
    "Du fait de cette stratégie d'apprentissage, les classifieurs sont appris pour réaliser de la  classification dite fermée, c'est à dire que n'importe quelle donnée, qu'elle appartiennne à l'ensemble des $K$ classes ou pas, sera reconnue par le classifieur comme appartenant à une des $K$ classes connues.\n",
    "Il s'agit bien entendu d'un comportement inadéquat pour une utilisation réelle de ces modèles.\n",
    "\n",
    "Par ailleurs les classifieurs ne sont en général pas parfaits et on aimerait disposer d'une technique permettant de refuser de prendre une décision sur une partie des exemples (on parle de rejet) pour lesquels la décision est incertaine pour augmenter la précision de la décision sur les exemples non rejetés. \n",
    "\n",
    "Dans les deux cas il s'agit de mettre au point un système permettant de rejeter des données, soit parce qu'elles ne correspondant pas aux classes apprises (classification ouverte), soit parce que le système n'est pas confiant dans sa décision. \n",
    "\n",
    "Le travail qui vous est demandé consiste à proposer et mettre au point un système neuronal pour les cas de figures décrits ci dessus, pour obtenir  un classifieur qui  rejette une partie des données mais qui obtient sur les données qu'il ne rejette pas une bonne précision.   \n",
    "\n",
    "Durant tout l'examen vous utiliserez les données Mnist que nous avons déjà utilisées en TP.\n",
    "\n",
    "\n"
   ]
  },
  {
   "cell_type": "markdown",
   "metadata": {
    "colab_type": "text",
    "id": "JiK3eX8QEL9s"
   },
   "source": [
    "#### Question préliminaire: \n",
    "- En reprenant le code des TPs précédents, construisez un classifieur pour les données Mnist (de préférence convolutionnel), apprenez le sur le train et testez le. \n",
    "- Mettez en évidence le problème de ce classifieur en mode ouvert en déterminant la classe reconnue de quelques exemples d'imagettes construites aléatoirement, que vous afficherez. "
   ]
  },
  {
   "cell_type": "markdown",
   "metadata": {
    "colab_type": "text",
    "id": "jrxTrzHcEL9t"
   },
   "source": [
    "### Sujet : Architecture neuronale pour le rejet et la classification ouverte"
   ]
  },
  {
   "cell_type": "markdown",
   "metadata": {
    "colab_type": "text",
    "id": "uzjCMkGfEL9v"
   },
   "source": [
    "\n",
    "L'architecture que vous devez mettre au point est une architecture basée sur l'adversarial learning. \n",
    "\n",
    "Dans une architecture adversarial learning telle que vous l'avez vue en TP, le système est constitué de deux réseaux, un générateur et un classifieur. Le discriminateur est appris à distinguer les données générées par le générateur des données issues d'une distribution empirique d'un ensemble $D$ de données d'apprentissage. Le générateur étant appris à tromper le discriminateur il tend progressivement à générer des données qui ressemblent de plus en plus aux données de la distribution empirique. Cela signifie que dans les premières itérations les données que le générateur génère ne sont pas suffisamment réalistes mais ne sont pas non plus des données aléatoires. \n",
    "\n",
    "L'hypothèse que vous utiliserez est que les données générées par le générateur dans les premières itérations pourraient constituer des bonnes données pour apprendre un classifieur à rejeter tout ce qui ne correspond pas aux données des classes apprises. De façon plus générale toutes les données générées par le générateur et qui sont significativement reconnues $FAKE$ par le discriminateur sont des données intéressantes pour apprendre un classifieur qui rejette les $mauvaises$ données.   \n",
    "\n",
    "On suppose que vous disposez de données d'apprentissage, l'ensemble $D$, (et de test, $T$) qui appartiennent à $K$ classes. \n",
    "\n",
    "L'architecture qu'il vous est demandé de concevoir est composée de:\n",
    "- Un générateur (appelé $generator$) et un discriminateur (appelé $discriminator$) comme dans le cas de l'adversarial learning. Le générateur prend en entrée un bruit gaussien en dimension 50 à 100 et produit des images de format $(28,28)$. Le discriminateur prend en entrée une image $(28,28)$ et produit une sortie entre 0 et 1 (plus proche de 1 si l'exemple est consédéré $True$ et plus proche de 0 si il est considéré $Fake$) \n",
    "- Un classifieur, appelé ${prediction\\_model}$, qui fait de la classification de données en $K$ classes. Il prend en entrée une image $(28,28)$ et produit en sortie un vecteur de  $K$ valeurs correspondant à la classification de l'exemple dans les $K$ classes\n",
    "- Un classifieur, appelé $rejection\\_model$, prenant en entrée des images $(28,28)$ et produisant en sortie une sortie entre 0 et 1 (1 signifiant que l'exemple est considéré valide et 0 que l'exemple doit être rejeté).\n",
    "\n",
    "Une fois appris le système composé de ces 4 modèles, on dispose d'un système de classification capable de rejeter, qui s'utilise comme suit pour le traitement d'une donnée $x$:\n",
    "- La donnée $x$ est passée dans le $rejection\\_model$ qui produit une décision. Si la décision est que l'exemple n'est pas valide il est rejeté.\n",
    "- SI l'exemple n'a pas été rejeté par le $rejection\\_model$ il est traité par le $prediction\\_model$ qui le classe dans une des $K$ classes.\n",
    "\n",
    "La performance du système est évaluée sur un jeu de test $T$ à l'aide des mesures suivantes :\n",
    "- taux de rejet: C'est le pourcentage d'exemples de test qui sont rejetés: $\\frac{N_{Rejetés}}{N}$\n",
    "- taux de faux negatifs :  C'est le pourcentage d'exemples de test qui sont rejetés alors qu'ils seraient bien classés par le $prediction\\_model$:  $\\frac{N_{Rejetés\\_et\\_bien\\_classés}}{N_{Rejetés}}$\n",
    "- taux de vrais négatifs : C'est le pourcentage d'exemples de test qui sont rejetés et qui ne seraient pas bien classés par le $prediction\\_model$ : $\\frac{N_{Rejetés\\_et\\_mal\\_classés}}{N_{Rejetés}}$\n",
    "- taux de faux positifs : C'est le pourcentage d'exemples de test qui ne sont pas rejetés alors qu'ils sont mal classés par le $prediction\\_model$: $\\frac{N_{Acceptés\\_et\\_mal\\_classés}}{N_{Acceptés}}$\n",
    "- taux de vrais positifs : C'est le pourcentage d'exemples de test qui ne sont pas rejetés et qui sont bien classés par le $prediction\\_model$: $\\frac{N_{Acceptés\\_et\\_bien\\_classés}}{N_{Acceptés}}$\n",
    "- précicion : C'est le pourcentage d'exemples non rejetés et qui sont  bien classés sur le nombre d'exemples non rejetés: $\\frac{N_{Acceptés\\_et\\_bien\\_classés}}{N_{Acceptés}}$"
   ]
  },
  {
   "cell_type": "markdown",
   "metadata": {
    "colab_type": "text",
    "id": "qB_NMlCHEL9w"
   },
   "source": [
    "### Partie 1"
   ]
  },
  {
   "cell_type": "markdown",
   "metadata": {
    "colab_type": "text",
    "id": "Zf0R9pwDEL9x"
   },
   "source": [
    "Vous vous intéresserez tout d'abord à construire un système pour le rejet de données sur lesquelles le classifieur est incertain. Votre classifieur, le $prediction\\_model$ opère sur les données de 10 classes et votre $rejection\\_model$ également. Le but est que le $rejection\\_model$ prédise (et donc rejette) les données de la base de test Mnist sur lequelles le $prediction\\_model$  va se tromper."
   ]
  },
  {
   "cell_type": "markdown",
   "metadata": {
    "colab_type": "text",
    "id": "HiZYAbBKEL90"
   },
   "source": [
    "\n",
    "\n",
    "#### Question2 \n",
    "\n",
    "Ecrivez le code correspondant à la construction des modèles nécessaires. Vous ferez attention à l'utilisation de $trainable = False$ qui permet si il est utilisé sur un modèle avant la compilation de ne pas apprendre ses poids.\n",
    "\n",
    "#### Question3 \n",
    "\n",
    "Ecrivez le code correspondant à l'évaluation des modèles. \n",
    "\n",
    "#### Question 4\n",
    "\n",
    "Ecrivez le code correspondant à la construction de batchs d'apprentissage pour les différents modèles. \n",
    "\n",
    "Il vous faudra au fur et à mesure conserver l'ensemble ou un sous ensemble des données générés par le générateur au long des itérations comme exemples potentiellement négatifs pour le $rejection\\_model$.\n",
    "\n",
    "\n",
    "#### Question 5 \n",
    "\n",
    "Ecrivez le code de l'apprentissage. Les deux modèles $prediction\\_model$ et $rejection\\_model$ doivent être appris par batch tout comme le $discriminator$ et le $generator$. \n",
    "\n",
    "- L'apprentissage consiste en une boucle sur les itérations d'apprentissage (les epochs). \n",
    "- Chaque epoch consiste en une itération sur des batchs. \n",
    "- Pour chaque batch (on utilise une taille batchSize d'exemples) on fait une étape de réestimation du $discriminator$, du $generator$, du $prediction\\_model$ et du $rejection\\_model$.\n",
    "\n"
   ]
  },
  {
   "cell_type": "markdown",
   "metadata": {
    "colab_type": "text",
    "id": "3N0wAnXWEL91"
   },
   "source": [
    "### Partie 2"
   ]
  },
  {
   "cell_type": "markdown",
   "metadata": {
    "colab_type": "text",
    "id": "v_PCFCdDEL92"
   },
   "source": [
    "Il s'agit ici de s'intéresser au problème de classification ouverte. Le mode d'apprentisssage est donc un peu différent. En apprentissage vous ne disposez de données d'apprentissage que pour un ensemble limité de classes (par exemple $P <10$). En test vous disposez de données des $P$ classes apprises et des $K-P$ autres classes. \n",
    "\n",
    "Le $prediction\\_model$ a donc seulement $P$ sorties (mais en réalité vous pouvez utiliser le même classifieur à 10 sorties, seules $P$ seront utilisées en réalité). Le $rejection\\_model$ doit être capable de ne pas rejeter les données des $P$ classes apprises, surtout si le $prediction\\_model$ les classe bien, et doit rejeter au maximum les données des  $K-P$ autres classes puisque sa décision sera nécessairement fausse sur ces données.\n",
    "\n",
    "#### Questions 1 à 5\n",
    "Adaptez les codes de la partie 1 pour ce cas d'études.\n",
    "La création des modèles, les mesures d'évaluation, la constitution des batchs d'apprentissage etc doivent être adaptés pour cette nouvelle situation.  "
   ]
  },
  {
   "cell_type": "markdown",
   "metadata": {
    "colab_type": "text",
    "id": "HeHbYvq3EL95"
   },
   "source": [
    "## Pour démarrer\n",
    "\n",
    "Le code est prévu pour colab mais peut fonctionner sur les machines de l'école pourvu que vous enleviez certains imports et quelques appels aux fonctions de download de fichiers distants. "
   ]
  },
  {
   "cell_type": "markdown",
   "metadata": {
    "colab_type": "text",
    "id": "B0RFi1OWEL97"
   },
   "source": [
    "#### Installation et imports nécessaires sur colab\n",
    "Changez le type des cellules suivantes en $Code$ pour les executer "
   ]
  },
  {
   "cell_type": "code",
   "execution_count": 1,
   "metadata": {
    "colab": {
     "autoexec": {
      "startup": false,
      "wait_interval": 0
     },
     "base_uri": "https://localhost:8080/",
     "height": 35,
     "output_extras": [
      {
       "item_id": 1
      }
     ]
    },
    "colab_type": "code",
    "executionInfo": {
     "elapsed": 7733,
     "status": "ok",
     "timestamp": 1519044224543,
     "user": {
      "displayName": "Martin Babeau",
      "photoUrl": "//lh3.googleusercontent.com/-duOcFlsIRWE/AAAAAAAAAAI/AAAAAAAAAFo/FUSa1rS__YQ/s50-c-k-no/photo.jpg",
      "userId": "100863656344882306521"
     },
     "user_tz": -60
    },
    "id": "gVygAHPnEpy6",
    "outputId": "02b158ef-9b50-4ba3-dbd1-e0af2bdc668c"
   },
   "outputs": [
    {
     "name": "stdout",
     "output_type": "stream",
     "text": [
      "Found GPU at: /device:GPU:0\n"
     ]
    }
   ],
   "source": [
    "import tensorflow as tf\n",
    "device_name = tf.test.gpu_device_name()\n",
    "if device_name != '/device:GPU:0':\n",
    "  raise SystemError('GPU device not found')\n",
    "print('Found GPU at: {}'.format(device_name))\n",
    "\n",
    "\n",
    "import tensorflow as tf\n",
    "import timeit"
   ]
  },
  {
   "cell_type": "code",
   "execution_count": 2,
   "metadata": {
    "colab": {
     "autoexec": {
      "startup": false,
      "wait_interval": 0
     },
     "base_uri": "https://localhost:8080/",
     "height": 35,
     "output_extras": [
      {
       "item_id": 1
      }
     ]
    },
    "colab_type": "code",
    "executionInfo": {
     "elapsed": 3610,
     "status": "ok",
     "timestamp": 1519044229841,
     "user": {
      "displayName": "Martin Babeau",
      "photoUrl": "//lh3.googleusercontent.com/-duOcFlsIRWE/AAAAAAAAAAI/AAAAAAAAAFo/FUSa1rS__YQ/s50-c-k-no/photo.jpg",
      "userId": "100863656344882306521"
     },
     "user_tz": -60
    },
    "id": "Zv9xlIL6Ev8M",
    "outputId": "b7d7cb9d-7960-4bb7-e112-02418efddc03"
   },
   "outputs": [
    {
     "name": "stderr",
     "output_type": "stream",
     "text": [
      "Using TensorFlow backend.\n"
     ]
    }
   ],
   "source": [
    "!pip install -q keras\n",
    "import keras\n",
    "\n",
    "!pip install -q tqdm\n",
    "import tqdm"
   ]
  },
  {
   "cell_type": "markdown",
   "metadata": {
    "colab_type": "text",
    "id": "AchctDuHEL9-"
   },
   "source": [
    "#### Import des données"
   ]
  },
  {
   "cell_type": "code",
   "execution_count": null,
   "metadata": {},
   "outputs": [],
   "source": [
    "import os"
   ]
  },
  {
   "cell_type": "code",
   "execution_count": null,
   "metadata": {
    "colab": {
     "autoexec": {
      "startup": false,
      "wait_interval": 0
     }
    },
    "colab_type": "code",
    "id": "IQ9LuvL_EL-A"
   },
   "outputs": [],
   "source": [
    "import tensorflow as tf\n",
    "import timeit\n",
    "\n",
    "\n",
    "import os\n",
    "os.environ[\"KERAS_BACKEND\"] = \"tensorflow\"\n",
    "import numpy as np\n",
    "from tqdm import tqdm\n",
    "import matplotlib.pyplot as plt\n",
    "\n",
    "from keras.layers import Input\n",
    "from keras.models import Model, Sequential\n",
    "from keras.layers import Dense, Dropout, Activation, Flatten, Reshape\n",
    "from keras.layers.advanced_activations import LeakyReLU\n",
    "from keras.layers.convolutional import Conv2D, UpSampling2D, MaxPooling2D\n",
    "from keras.datasets import mnist\n",
    "from keras.optimizers import Adam\n",
    "from keras import backend as K\n",
    "from keras import initializers\n",
    "from keras.utils import np_utils\n",
    "from __future__ import print_function\n",
    "from __future__ import absolute_import\n",
    "import pylab as pl\n",
    "import pandas as pd\n",
    "import matplotlib.cm as cm\n",
    "from keras import backend as K \n",
    "from keras.models import load_model\n",
    "%matplotlib inline\n",
    "\n",
    "K.set_image_dim_ordering('th')\n",
    "\n",
    "# Deterministic output.\n",
    "# Tired of seeing the same results every time? Remove the line below.\n",
    "np.random.seed(1337)  # for reproducibility\n",
    "\n",
    "# The results are a little better when the dimensionality of the random vector is only 10.\n",
    "# The dimensionality has been left at 100 for consistency with other GAN implementations.\n",
    "randomDim = 100\n",
    "\n",
    "# Load MNIST data\n",
    "(X_train, y_train), (X_test, y_test) = mnist.load_data()\n",
    "\n",
    "nb_classes = 10\n",
    "X_train = (X_train.astype(np.float32) - 127.5)/127.5\n",
    "X_train = X_train[:, np.newaxis, :, :]\n",
    "Y_train = np_utils.to_categorical(y_train, nb_classes)\n",
    "\n",
    "X_test = (X_test.astype(np.float32) - 127.5)/127.5\n",
    "X_test = X_test[:, np.newaxis, :, :]\n",
    "Y_test = np_utils.to_categorical(y_test, nb_classes)\n",
    "\n"
   ]
  },
  {
   "cell_type": "code",
   "execution_count": 13,
   "metadata": {
    "colab": {
     "autoexec": {
      "startup": false,
      "wait_interval": 0
     },
     "base_uri": "https://localhost:8080/",
     "height": 35,
     "output_extras": [
      {
       "item_id": 1
      }
     ]
    },
    "colab_type": "code",
    "executionInfo": {
     "elapsed": 699,
     "status": "ok",
     "timestamp": 1519044860638,
     "user": {
      "displayName": "Martin Babeau",
      "photoUrl": "//lh3.googleusercontent.com/-duOcFlsIRWE/AAAAAAAAAAI/AAAAAAAAAFo/FUSa1rS__YQ/s50-c-k-no/photo.jpg",
      "userId": "100863656344882306521"
     },
     "user_tz": -60
    },
    "id": "OIrVMyu_IQQE",
    "outputId": "995c6d0a-aa02-43d6-d0e1-6c319540a9ad"
   },
   "outputs": [
    {
     "data": {
      "text/plain": [
       "(60000, 1, 28, 28)"
      ]
     },
     "execution_count": 13,
     "metadata": {
      "tags": []
     },
     "output_type": "execute_result"
    }
   ],
   "source": [
    "X_train.shape"
   ]
  },
  {
   "cell_type": "markdown",
   "metadata": {
    "colab_type": "text",
    "id": "Qnq6CV_pEL-H"
   },
   "source": [
    "#### Plots des critères d'apprentissage et des images générées"
   ]
  },
  {
   "cell_type": "code",
   "execution_count": null,
   "metadata": {
    "colab": {
     "autoexec": {
      "startup": false,
      "wait_interval": 0
     }
    },
    "colab_type": "code",
    "id": "BS-5c2EOEL-J"
   },
   "outputs": [],
   "source": [
    "## Code adapté à colab\n",
    "\n",
    "from google.colab import files\n",
    "\n",
    "# Plot the loss from each batch\n",
    "# dLosses et gLosses sont des listes des loss par epoque pour le discriminateur et le generateur\n",
    "def plotLoss(dLosses, gLosses):\n",
    "    plt.figure(figsize=(10, 8))\n",
    "    plt.plot(dLosses, label='Discriminitive loss')\n",
    "    plt.plot(gLosses, label='Generative loss')\n",
    "    plt.xlabel('Epoch')\n",
    "    plt.ylabel('Loss')\n",
    "    plt.legend()\n",
    "\n",
    "# Create a wall of generated MNIST images\n",
    "# genere des donnees avec le modele generateur passe en parametre avec une couche d'entree de taille\n",
    "# randomDim, et recupere le fichier des données générées\n",
    "def plotGeneratedImages(epoch, examples=100, dim=(10, 10), figsize=(10, 10)):\n",
    "    noise = np.random.normal(0, 1, size=[examples, randomDim])\n",
    "    generatedImages = generator.predict(noise)\n",
    "\n",
    "    plt.figure(figsize=figsize)\n",
    "    for i in range(generatedImages.shape[0]):\n",
    "        plt.subplot(dim[0], dim[1], i+1)\n",
    "        plt.imshow(generatedImages[i, 0], interpolation='nearest', cmap='gray_r')\n",
    "        plt.axis('off')\n",
    "    plt.tight_layout()\n",
    "\n",
    "    "
   ]
  },
  {
   "cell_type": "markdown",
   "metadata": {
    "colab_type": "text",
    "id": "mZsVKOkrEL-O"
   },
   "source": [
    "#### Basic model & training function"
   ]
  },
  {
   "cell_type": "code",
   "execution_count": 15,
   "metadata": {
    "colab": {
     "autoexec": {
      "startup": false,
      "wait_interval": 0
     },
     "base_uri": "https://localhost:8080/",
     "height": 663,
     "output_extras": [
      {
       "item_id": 1
      },
      {
       "item_id": 2
      }
     ]
    },
    "colab_type": "code",
    "executionInfo": {
     "elapsed": 500,
     "status": "ok",
     "timestamp": 1519044879204,
     "user": {
      "displayName": "Martin Babeau",
      "photoUrl": "//lh3.googleusercontent.com/-duOcFlsIRWE/AAAAAAAAAAI/AAAAAAAAAFo/FUSa1rS__YQ/s50-c-k-no/photo.jpg",
      "userId": "100863656344882306521"
     },
     "user_tz": -60
    },
    "id": "N8ujBYh0GKGF",
    "outputId": "04fa0384-bafa-4e0d-abde-54e6a52cc900"
   },
   "outputs": [
    {
     "name": "stdout",
     "output_type": "stream",
     "text": [
      "_________________________________________________________________\n",
      "Layer (type)                 Output Shape              Param #   \n",
      "=================================================================\n",
      "conv2d_6 (Conv2D)            (None, 32, 26, 26)        320       \n",
      "_________________________________________________________________\n",
      "activation_2 (Activation)    (None, 32, 26, 26)        0         \n",
      "_________________________________________________________________\n",
      "max_pooling2d_1 (MaxPooling2 (None, 32, 13, 13)        0         \n",
      "_________________________________________________________________\n",
      "conv2d_7 (Conv2D)            (None, 32, 11, 11)        9248      \n",
      "_________________________________________________________________\n",
      "activation_3 (Activation)    (None, 32, 11, 11)        0         \n",
      "_________________________________________________________________\n",
      "max_pooling2d_2 (MaxPooling2 (None, 32, 5, 5)          0         \n",
      "_________________________________________________________________\n",
      "dropout_1 (Dropout)          (None, 32, 5, 5)          0         \n",
      "_________________________________________________________________\n",
      "flatten_1 (Flatten)          (None, 800)               0         \n",
      "_________________________________________________________________\n",
      "dense_1 (Dense)              (None, 100)               80100     \n",
      "_________________________________________________________________\n",
      "activation_4 (Activation)    (None, 100)               0         \n",
      "_________________________________________________________________\n",
      "dropout_2 (Dropout)          (None, 100)               0         \n",
      "_________________________________________________________________\n",
      "dense_2 (Dense)              (None, 10)                1010      \n",
      "_________________________________________________________________\n",
      "activation_5 (Activation)    (None, 10)                0         \n",
      "=================================================================\n",
      "Total params: 90,678\n",
      "Trainable params: 90,678\n",
      "Non-trainable params: 0\n",
      "_________________________________________________________________\n"
     ]
    },
    {
     "name": "stderr",
     "output_type": "stream",
     "text": [
      "/usr/local/lib/python2.7/dist-packages/ipykernel_launcher.py:5: UserWarning: Update your `Conv2D` call to the Keras 2 API: `Conv2D(32, (3, 3), padding=\"valid\", input_shape=(1, 28, 28...)`\n",
      "  \"\"\"\n"
     ]
    }
   ],
   "source": [
    "model1 = Sequential()\n",
    "\n",
    "model1.add(Conv2D(32, (3,3),\n",
    "                             border_mode='valid',\n",
    "                             input_shape=(1,28,28)))\n",
    "model1.add(Activation('relu'))\n",
    "model1.add(MaxPooling2D(pool_size=(2,2)))\n",
    "model1.add(Conv2D(32, (3,3)))\n",
    "model1.add(Activation('relu'))\n",
    "model1.add(MaxPooling2D(pool_size=(2,2)))\n",
    "model1.add(Dropout(0.5))\n",
    "\n",
    "model1.add(Flatten())\n",
    "model1.add(Dense(100))\n",
    "model1.add(Activation('relu'))\n",
    "model1.add(Dropout(0.5))\n",
    "model1.add(Dense(nb_classes))\n",
    "model1.add(Activation('softmax'))\n",
    "\n",
    "model1.compile(loss='categorical_crossentropy',\n",
    "                   optimizer='adadelta',\n",
    "                   metrics=['accuracy'])\n",
    "model1.summary()"
   ]
  },
  {
   "cell_type": "code",
   "execution_count": 16,
   "metadata": {
    "colab": {
     "autoexec": {
      "startup": false,
      "wait_interval": 0
     },
     "base_uri": "https://localhost:8080/",
     "height": 198,
     "output_extras": [
      {
       "item_id": 1
      },
      {
       "item_id": 105
      },
      {
       "item_id": 106
      }
     ]
    },
    "colab_type": "code",
    "executionInfo": {
     "elapsed": 27549,
     "status": "ok",
     "timestamp": 1519044953780,
     "user": {
      "displayName": "Martin Babeau",
      "photoUrl": "//lh3.googleusercontent.com/-duOcFlsIRWE/AAAAAAAAAAI/AAAAAAAAAFo/FUSa1rS__YQ/s50-c-k-no/photo.jpg",
      "userId": "100863656344882306521"
     },
     "user_tz": -60
    },
    "id": "1O2EDxJuHV81",
    "outputId": "7f26452b-603a-435c-ce70-7b2f2e2dc7ae"
   },
   "outputs": [
    {
     "name": "stderr",
     "output_type": "stream",
     "text": [
      "/usr/local/lib/python2.7/dist-packages/keras/models.py:942: UserWarning: The `nb_epoch` argument in `fit` has been renamed `epochs`.\n",
      "  warnings.warn('The `nb_epoch` argument in `fit` '\n"
     ]
    },
    {
     "name": "stdout",
     "output_type": "stream",
     "text": [
      "Epoch 1/3\n",
      "60000/60000 [==============================] - 10s 159us/step - loss: 0.3740 - acc: 0.8831\n",
      "Epoch 2/3\n",
      "60000/60000 [==============================] - 9s 144us/step - loss: 0.1594 - acc: 0.9525\n",
      "Epoch 3/3\n",
      "60000/60000 [==============================] - 9s 142us/step - loss: 0.1289 - acc: 0.9620\n"
     ]
    },
    {
     "data": {
      "text/plain": [
       "<keras.callbacks.History at 0x7fc0f1b3cc90>"
      ]
     },
     "execution_count": 16,
     "metadata": {
      "tags": []
     },
     "output_type": "execute_result"
    }
   ],
   "source": [
    "model1.fit(X_train, Y_train, batch_size=64, nb_epoch=3)"
   ]
  },
  {
   "cell_type": "code",
   "execution_count": 17,
   "metadata": {
    "colab": {
     "autoexec": {
      "startup": false,
      "wait_interval": 0
     },
     "base_uri": "https://localhost:8080/",
     "height": 53,
     "output_extras": [
      {
       "item_id": 1
      }
     ]
    },
    "colab_type": "code",
    "executionInfo": {
     "elapsed": 1297,
     "status": "ok",
     "timestamp": 1519045001229,
     "user": {
      "displayName": "Martin Babeau",
      "photoUrl": "//lh3.googleusercontent.com/-duOcFlsIRWE/AAAAAAAAAAI/AAAAAAAAAFo/FUSa1rS__YQ/s50-c-k-no/photo.jpg",
      "userId": "100863656344882306521"
     },
     "user_tz": -60
    },
    "id": "JNcBgS0uIrbF",
    "outputId": "ab41451a-0e0b-4950-8c35-8926d04e23eb"
   },
   "outputs": [
    {
     "name": "stdout",
     "output_type": "stream",
     "text": [
      "Test score: 0.04571910453605233\n",
      "Test accuracy: 0.9859\n"
     ]
    }
   ],
   "source": [
    "\n",
    "score = model1.evaluate(X_test, Y_test, verbose=0)\n",
    "print('Test score:', score[0])\n",
    "print('Test accuracy:', score[1])"
   ]
  },
  {
   "cell_type": "code",
   "execution_count": 83,
   "metadata": {
    "colab": {
     "autoexec": {
      "startup": false,
      "wait_interval": 0
     },
     "base_uri": "https://localhost:8080/",
     "height": 195,
     "output_extras": [
      {
       "item_id": 1
      },
      {
       "item_id": 2
      }
     ]
    },
    "colab_type": "code",
    "executionInfo": {
     "elapsed": 1213,
     "status": "ok",
     "timestamp": 1519050172213,
     "user": {
      "displayName": "Martin Babeau",
      "photoUrl": "//lh3.googleusercontent.com/-duOcFlsIRWE/AAAAAAAAAAI/AAAAAAAAAFo/FUSa1rS__YQ/s50-c-k-no/photo.jpg",
      "userId": "100863656344882306521"
     },
     "user_tz": -60
    },
    "id": "MAUVO-iVI2UR",
    "outputId": "83eb2de2-0901-4807-9536-8f344ac9af26"
   },
   "outputs": [
    {
     "name": "stdout",
     "output_type": "stream",
     "text": [
      "On remarque que le réseau associe un bruit uniforme à des 8. Cela reflète le problème des classifieurs fermés.\n"
     ]
    },
    {
     "data": {
      "image/png": "[encoded data removed]",
      "text/plain": [
       "<matplotlib.figure.Figure at 0x7fc0e72d8190>"
      ]
     },
     "metadata": {
      "tags": []
     },
     "output_type": "display_data"
    }
   ],
   "source": [
    "#Images aléatoires + catégorisation\n",
    "plt.figure(figsize=(20,20))\n",
    "for i in xrange(10):\n",
    "  im = np.random.rand(28,28)\n",
    "  temp=np.array([im,])\n",
    "  temp=np.array([temp,])\n",
    "  plt.subplot(1,10,i+1)\n",
    "  plt.grid(False)\n",
    "  plt.axis('off')\n",
    "  plt.imshow(im, interpolation='nearest')\n",
    "  results = model1.predict([temp,])\n",
    "  best = np.flip(np.argsort(results)[0],0)[0]\n",
    "  plt.title(best)\n",
    "\n",
    "\n",
    "print(\"On remarque que le réseau associe un bruit uniforme à des 8. Cela reflète le problème des classifieurs fermés.\")"
   ]
  },
  {
   "cell_type": "markdown",
   "metadata": {
    "colab_type": "text",
    "id": "TELKRN_PQMTE"
   },
   "source": [
    "#### Partie 1"
   ]
  },
  {
   "cell_type": "markdown",
   "metadata": {
    "colab_type": "text",
    "id": "ko9MEtqLXD3R"
   },
   "source": [
    "##### Generator and Discriminator models"
   ]
  },
  {
   "cell_type": "code",
   "execution_count": 128,
   "metadata": {
    "colab": {
     "autoexec": {
      "startup": false,
      "wait_interval": 0
     },
     "base_uri": "https://localhost:8080/",
     "height": 1074,
     "output_extras": [
      {
       "item_id": 1
      },
      {
       "item_id": 2
      },
      {
       "item_id": 3
      }
     ]
    },
    "colab_type": "code",
    "executionInfo": {
     "elapsed": 1223,
     "status": "ok",
     "timestamp": 1519053259081,
     "user": {
      "displayName": "Martin Babeau",
      "photoUrl": "//lh3.googleusercontent.com/-duOcFlsIRWE/AAAAAAAAAAI/AAAAAAAAAFo/FUSa1rS__YQ/s50-c-k-no/photo.jpg",
      "userId": "100863656344882306521"
     },
     "user_tz": -60
    },
    "id": "9NbmPiXHNLgh",
    "outputId": "2ff66084-ae11-433a-c7d0-d199f54dcb69"
   },
   "outputs": [
    {
     "name": "stdout",
     "output_type": "stream",
     "text": [
      "_________________________________________________________________\n",
      "Layer (type)                 Output Shape              Param #   \n",
      "=================================================================\n",
      "dense_28 (Dense)             (None, 6272)              633472    \n",
      "_________________________________________________________________\n",
      "leaky_re_lu_7 (LeakyReLU)    (None, 6272)              0         \n",
      "_________________________________________________________________\n",
      "reshape_4 (Reshape)          (None, 128, 7, 7)         0         \n",
      "_________________________________________________________________\n",
      "up_sampling2d_7 (UpSampling2 (None, 128, 14, 14)       0         \n",
      "_________________________________________________________________\n",
      "conv2d_36 (Conv2D)           (None, 64, 14, 14)        204864    \n",
      "_________________________________________________________________\n",
      "leaky_re_lu_8 (LeakyReLU)    (None, 64, 14, 14)        0         \n",
      "_________________________________________________________________\n",
      "up_sampling2d_8 (UpSampling2 (None, 64, 28, 28)        0         \n",
      "_________________________________________________________________\n",
      "conv2d_37 (Conv2D)           (None, 1, 28, 28)         257       \n",
      "=================================================================\n",
      "Total params: 838,593\n",
      "Trainable params: 838,593\n",
      "Non-trainable params: 0\n",
      "_________________________________________________________________\n",
      "None\n"
     ]
    },
    {
     "name": "stderr",
     "output_type": "stream",
     "text": [
      "/usr/local/lib/python2.7/dist-packages/ipykernel_launcher.py:26: UserWarning: Update your `Conv2D` call to the Keras 2 API: `Conv2D(32, padding=\"valid\", input_shape=(1, 28, 28..., kernel_size=(3, 3))`\n"
     ]
    },
    {
     "name": "stdout",
     "output_type": "stream",
     "text": [
      "_________________________________________________________________\n",
      "Layer (type)                 Output Shape              Param #   \n",
      "=================================================================\n",
      "conv2d_38 (Conv2D)           (None, 32, 26, 26)        320       \n",
      "_________________________________________________________________\n",
      "activation_50 (Activation)   (None, 32, 26, 26)        0         \n",
      "_________________________________________________________________\n",
      "max_pooling2d_25 (MaxPooling (None, 32, 13, 13)        0         \n",
      "_________________________________________________________________\n",
      "conv2d_39 (Conv2D)           (None, 32, 11, 11)        9248      \n",
      "_________________________________________________________________\n",
      "activation_51 (Activation)   (None, 32, 11, 11)        0         \n",
      "_________________________________________________________________\n",
      "max_pooling2d_26 (MaxPooling (None, 32, 5, 5)          0         \n",
      "_________________________________________________________________\n",
      "dropout_25 (Dropout)         (None, 32, 5, 5)          0         \n",
      "_________________________________________________________________\n",
      "flatten_13 (Flatten)         (None, 800)               0         \n",
      "_________________________________________________________________\n",
      "dense_29 (Dense)             (None, 100)               80100     \n",
      "_________________________________________________________________\n",
      "activation_52 (Activation)   (None, 100)               0         \n",
      "_________________________________________________________________\n",
      "dropout_26 (Dropout)         (None, 100)               0         \n",
      "_________________________________________________________________\n",
      "dense_30 (Dense)             (None, 1)                 101       \n",
      "_________________________________________________________________\n",
      "activation_53 (Activation)   (None, 1)                 0         \n",
      "=================================================================\n",
      "Total params: 89,769\n",
      "Trainable params: 89,769\n",
      "Non-trainable params: 0\n",
      "_________________________________________________________________\n"
     ]
    }
   ],
   "source": [
    "nb_filters=32\n",
    "\n",
    "\n",
    "adam = Adam(lr=0.0002, beta_1=0.5)\n",
    "\n",
    "# Generator\n",
    "generator = Sequential()\n",
    "generator.add(Dense(128*7*7, input_dim=randomDim, kernel_initializer=initializers.RandomNormal(stddev=0.02)))\n",
    "generator.add(LeakyReLU(0.2))\n",
    "generator.add(Reshape((128, 7, 7)))\n",
    "generator.add(UpSampling2D(size=(2, 2)))\n",
    "generator.add(Conv2D(64, kernel_size=(5, 5), padding='same'))\n",
    "generator.add(LeakyReLU(0.2))\n",
    "generator.add(UpSampling2D(size=(2, 2)))\n",
    "\n",
    "generator.add(Conv2D(1, kernel_size=(2,2),padding='same'))\n",
    "\n",
    "\n",
    "generator.compile(loss='binary_crossentropy', optimizer=adam)\n",
    "print(generator.summary())\n",
    "\n",
    "# Discriminator\n",
    "discriminator = Sequential()\n",
    "discriminator.add(Conv2D(nb_filters, kernel_size=(3,3),\n",
    "                                 border_mode='valid',\n",
    "                                 input_shape=((1,28,28))))\n",
    "discriminator.add(Activation('relu'))\n",
    "\n",
    "discriminator.add(MaxPooling2D(pool_size=(2,2)))\n",
    "discriminator.add(Conv2D(nb_filters, kernel_size=(3,3)))\n",
    "discriminator.add(Activation('relu'))\n",
    "\n",
    "discriminator.add(MaxPooling2D(pool_size=(2,2)))\n",
    "discriminator.add(Dropout(0.5))\n",
    "\n",
    "discriminator.add(Flatten())\n",
    "discriminator.add(Dense(100))\n",
    "\n",
    "discriminator.add(Activation('relu'))\n",
    "discriminator.add(Dropout(0.5))\n",
    "\n",
    "discriminator.add(Dense(1))\n",
    "discriminator.add(Activation('sigmoid'))\n",
    "\n",
    "\n",
    "discriminator.compile(loss='binary_crossentropy', optimizer=adam)\n",
    "\n",
    "discriminator.summary()\n"
   ]
  },
  {
   "cell_type": "code",
   "execution_count": null,
   "metadata": {
    "colab": {
     "autoexec": {
      "startup": false,
      "wait_interval": 0
     }
    },
    "colab_type": "code",
    "id": "qo6yXmdbQVdD"
   },
   "outputs": [],
   "source": [
    "x = Input(shape=(randomDim,))\n",
    "y=generator(x)\n",
    "discriminator.trainable=False\n",
    "z=discriminator(y)\n",
    "\n",
    "gan=Model(inputs=x,outputs=z)\n",
    "gan.compile(optimizer=\"adam\", loss=\"binary_crossentropy\")"
   ]
  },
  {
   "cell_type": "markdown",
   "metadata": {
    "colab_type": "text",
    "id": "ogolhxn9XN44"
   },
   "source": [
    "##### Prediction and rejection models"
   ]
  },
  {
   "cell_type": "code",
   "execution_count": 130,
   "metadata": {
    "colab": {
     "autoexec": {
      "startup": false,
      "wait_interval": 0
     },
     "base_uri": "https://localhost:8080/",
     "height": 663,
     "output_extras": [
      {
       "item_id": 1
      },
      {
       "item_id": 2
      }
     ]
    },
    "colab_type": "code",
    "executionInfo": {
     "elapsed": 505,
     "status": "ok",
     "timestamp": 1519053266804,
     "user": {
      "displayName": "Martin Babeau",
      "photoUrl": "//lh3.googleusercontent.com/-duOcFlsIRWE/AAAAAAAAAAI/AAAAAAAAAFo/FUSa1rS__YQ/s50-c-k-no/photo.jpg",
      "userId": "100863656344882306521"
     },
     "user_tz": -60
    },
    "id": "vz2I9NADWjzH",
    "outputId": "f76bd51d-44d9-4a09-aa91-ca9986956b0f"
   },
   "outputs": [
    {
     "name": "stdout",
     "output_type": "stream",
     "text": [
      "_________________________________________________________________\n",
      "Layer (type)                 Output Shape              Param #   \n",
      "=================================================================\n",
      "conv2d_40 (Conv2D)           (None, 32, 26, 26)        320       \n",
      "_________________________________________________________________\n",
      "activation_54 (Activation)   (None, 32, 26, 26)        0         \n",
      "_________________________________________________________________\n",
      "max_pooling2d_27 (MaxPooling (None, 32, 13, 13)        0         \n",
      "_________________________________________________________________\n",
      "conv2d_41 (Conv2D)           (None, 32, 11, 11)        9248      \n",
      "_________________________________________________________________\n",
      "activation_55 (Activation)   (None, 32, 11, 11)        0         \n",
      "_________________________________________________________________\n",
      "max_pooling2d_28 (MaxPooling (None, 32, 5, 5)          0         \n",
      "_________________________________________________________________\n",
      "dropout_27 (Dropout)         (None, 32, 5, 5)          0         \n",
      "_________________________________________________________________\n",
      "flatten_14 (Flatten)         (None, 800)               0         \n",
      "_________________________________________________________________\n",
      "dense_31 (Dense)             (None, 100)               80100     \n",
      "_________________________________________________________________\n",
      "activation_56 (Activation)   (None, 100)               0         \n",
      "_________________________________________________________________\n",
      "dropout_28 (Dropout)         (None, 100)               0         \n",
      "_________________________________________________________________\n",
      "dense_32 (Dense)             (None, 10)                1010      \n",
      "_________________________________________________________________\n",
      "activation_57 (Activation)   (None, 10)                0         \n",
      "=================================================================\n",
      "Total params: 90,678\n",
      "Trainable params: 90,678\n",
      "Non-trainable params: 0\n",
      "_________________________________________________________________\n"
     ]
    },
    {
     "name": "stderr",
     "output_type": "stream",
     "text": [
      "/usr/local/lib/python2.7/dist-packages/ipykernel_launcher.py:5: UserWarning: Update your `Conv2D` call to the Keras 2 API: `Conv2D(32, (3, 3), padding=\"valid\", input_shape=(1, 28, 28...)`\n",
      "  \"\"\"\n"
     ]
    }
   ],
   "source": [
    "#Definition of the prediction model\n",
    "prediction_model = Sequential()\n",
    "\n",
    "prediction_model.add(Conv2D(32, (3,3),\n",
    "                             border_mode='valid',\n",
    "                             input_shape=(1,28,28)))\n",
    "prediction_model.add(Activation('relu'))\n",
    "prediction_model.add(MaxPooling2D(pool_size=(2,2)))\n",
    "prediction_model.add(Conv2D(32, (3,3)))\n",
    "prediction_model.add(Activation('relu'))\n",
    "prediction_model.add(MaxPooling2D(pool_size=(2,2)))\n",
    "prediction_model.add(Dropout(0.5))\n",
    "\n",
    "prediction_model.add(Flatten())\n",
    "prediction_model.add(Dense(100))\n",
    "prediction_model.add(Activation('relu'))\n",
    "prediction_model.add(Dropout(0.5))\n",
    "prediction_model.add(Dense(nb_classes))\n",
    "prediction_model.add(Activation('softmax'))\n",
    "\n",
    "prediction_model.compile(loss='categorical_crossentropy',\n",
    "                   optimizer='adadelta',\n",
    "                   metrics=['accuracy'])\n",
    "prediction_model.summary()"
   ]
  },
  {
   "cell_type": "code",
   "execution_count": 131,
   "metadata": {
    "colab": {
     "autoexec": {
      "startup": false,
      "wait_interval": 0
     },
     "base_uri": "https://localhost:8080/",
     "height": 663,
     "output_extras": [
      {
       "item_id": 1
      },
      {
       "item_id": 2
      }
     ]
    },
    "colab_type": "code",
    "executionInfo": {
     "elapsed": 663,
     "status": "ok",
     "timestamp": 1519053268913,
     "user": {
      "displayName": "Martin Babeau",
      "photoUrl": "//lh3.googleusercontent.com/-duOcFlsIRWE/AAAAAAAAAAI/AAAAAAAAAFo/FUSa1rS__YQ/s50-c-k-no/photo.jpg",
      "userId": "100863656344882306521"
     },
     "user_tz": -60
    },
    "id": "K_djAAubWuo7",
    "outputId": "d4524b34-2c31-4026-e22e-d1fd24b1b223"
   },
   "outputs": [
    {
     "name": "stdout",
     "output_type": "stream",
     "text": [
      "_________________________________________________________________\n",
      "Layer (type)                 Output Shape              Param #   \n",
      "=================================================================\n",
      "conv2d_42 (Conv2D)           (None, 32, 26, 26)        320       \n",
      "_________________________________________________________________\n",
      "activation_58 (Activation)   (None, 32, 26, 26)        0         \n",
      "_________________________________________________________________\n",
      "max_pooling2d_29 (MaxPooling (None, 32, 13, 13)        0         \n",
      "_________________________________________________________________\n",
      "conv2d_43 (Conv2D)           (None, 32, 11, 11)        9248      \n",
      "_________________________________________________________________\n",
      "activation_59 (Activation)   (None, 32, 11, 11)        0         \n",
      "_________________________________________________________________\n",
      "max_pooling2d_30 (MaxPooling (None, 32, 5, 5)          0         \n",
      "_________________________________________________________________\n",
      "dropout_29 (Dropout)         (None, 32, 5, 5)          0         \n",
      "_________________________________________________________________\n",
      "flatten_15 (Flatten)         (None, 800)               0         \n",
      "_________________________________________________________________\n",
      "dense_33 (Dense)             (None, 100)               80100     \n",
      "_________________________________________________________________\n",
      "activation_60 (Activation)   (None, 100)               0         \n",
      "_________________________________________________________________\n",
      "dropout_30 (Dropout)         (None, 100)               0         \n",
      "_________________________________________________________________\n",
      "dense_34 (Dense)             (None, 1)                 101       \n",
      "_________________________________________________________________\n",
      "activation_61 (Activation)   (None, 1)                 0         \n",
      "=================================================================\n",
      "Total params: 89,769\n",
      "Trainable params: 89,769\n",
      "Non-trainable params: 0\n",
      "_________________________________________________________________\n"
     ]
    },
    {
     "name": "stderr",
     "output_type": "stream",
     "text": [
      "/usr/local/lib/python2.7/dist-packages/ipykernel_launcher.py:5: UserWarning: Update your `Conv2D` call to the Keras 2 API: `Conv2D(32, (3, 3), padding=\"valid\", input_shape=(1, 28, 28...)`\n",
      "  \"\"\"\n"
     ]
    }
   ],
   "source": [
    "rejection_model = Sequential()\n",
    "\n",
    "rejection_model.add(Conv2D(32, (3,3),\n",
    "                             border_mode='valid',\n",
    "                             input_shape=(1,28,28)))\n",
    "rejection_model.add(Activation('relu'))\n",
    "rejection_model.add(MaxPooling2D(pool_size=(2,2)))\n",
    "rejection_model.add(Conv2D(32, (3,3)))\n",
    "rejection_model.add(Activation('relu'))\n",
    "rejection_model.add(MaxPooling2D(pool_size=(2,2)))\n",
    "rejection_model.add(Dropout(0.5))\n",
    "\n",
    "rejection_model.add(Flatten())\n",
    "rejection_model.add(Dense(100))\n",
    "rejection_model.add(Activation('relu'))\n",
    "rejection_model.add(Dropout(0.5))\n",
    "rejection_model.add(Dense(1))\n",
    "rejection_model.add(Activation('sigmoid'))\n",
    "\n",
    "rejection_model.compile(loss='binary_crossentropy',\n",
    "                   optimizer='adadelta',\n",
    "                   metrics=['accuracy'])\n",
    "rejection_model.summary()"
   ]
  },
  {
   "cell_type": "markdown",
   "metadata": {
    "colab_type": "text",
    "id": "lcvcWHRWNMfg"
   },
   "source": [
    "##### Définition de la fonction train"
   ]
  },
  {
   "cell_type": "code",
   "execution_count": null,
   "metadata": {
    "colab": {
     "autoexec": {
      "startup": false,
      "wait_interval": 0
     }
    },
    "colab_type": "code",
    "id": "-NO4dlXcEL-P"
   },
   "outputs": [],
   "source": [
    "def train(X_train, Y_train, X_test, Y_test, epochs=1, batchSize=128):\n",
    "    batchCount = int(X_train.shape[0] / batchSize)\n",
    "    print (type(batchCount))\n",
    "    print ('Epochs:', epochs)\n",
    "    print ('Batch size:', batchSize)\n",
    "    print ('Batches per epoch:', batchCount)\n",
    "\n",
    "    dLosses = []\n",
    "    gLosses = []\n",
    "    cLosses_r = []\n",
    "    cLosses_p = []\n",
    "    \n",
    "    for e in xrange(1, epochs+1):\n",
    "        print('\\n')\n",
    "        print ('-'*15, 'Epoch %d' % e, '-'*15)\n",
    "        closs_r=0\n",
    "        closs_p=0\n",
    "        dloss=0\n",
    "        gloss=0\n",
    "        for _ in tqdm(xrange(batchCount)):\n",
    "          \n",
    "            # Batch training for all models\n",
    "            \n",
    "            \n",
    "            \n",
    "            #Creation of batches for the generative model\n",
    "            \n",
    "            current_choice = np.random.choice(X_train.shape[0], batchSize, replace=False)\n",
    "            \n",
    "            minibatch_d=X_train[current_choice, :]\n",
    "            minibatch_labels=Y_train[current_choice, :]\n",
    "            minibatch_z=np.random.normal(0, 1, size=[batchSize, randomDim])\n",
    "            minibatch_g=generator.predict(minibatch_z)\n",
    "            \n",
    "            y_d=np.ones(batchSize)\n",
    "            y_g=np.zeros(batchSize)\n",
    "            \n",
    "            X_temp = np.concatenate((minibatch_d,minibatch_g))\n",
    "            Y_temp = np.concatenate((y_d,y_g))\n",
    "            \n",
    "            Z=np.random.normal(0, 1, size=[batchSize, randomDim])\n",
    "            y_gan=np.ones(batchSize)\n",
    "          \n",
    "            #Training the discriminator and the generator\n",
    "            dloss+=discriminator.train_on_batch(X_temp,Y_temp)\n",
    "            gloss+=gan.train_on_batch(Z,y_gan)\n",
    "            \n",
    "            \n",
    "            #Training the prediction and rejection models\n",
    "            closs_p+=np.sum(prediction_model.train_on_batch(minibatch_d,minibatch_labels))\n",
    "            \n",
    "            Y_predict = prediction_model.predict(minibatch_d)\n",
    "            keep=[]\n",
    "            \n",
    "            for i in xrange(minibatch_d.shape[0]):\n",
    "              if np.argmax(Y_predict[i],0)==np.argmax(minibatch_labels[i],0):\n",
    "                keep.append(1)\n",
    "              else:\n",
    "                keep.append(0)\n",
    "            \n",
    "            keep = np.concatenate((keep, np.zeros(batchSize)))\n",
    "            \n",
    "            closs_r = rejection_model.train_on_batch(X_temp, keep)\n",
    "                \n",
    "\n",
    "        # Store loss of most recent batch from this epoch\n",
    "        dLosses.append(dloss)\n",
    "        gLosses.append(gloss)\n",
    "        cLosses_r.append(closs_r)\n",
    "        cLosses_p.append(closs_p)\n",
    "        \n",
    "        \n",
    "        \n",
    "        \n",
    "    \n",
    "    plotGeneratedImages(epochs)\n",
    "   \n",
    "    # Plot losses from every epoch\n",
    "    plotLoss(dLosses,gLosses)\n",
    "      \n",
    "    # Performance evaluation\n",
    "    Nb_rejets=0\n",
    "    Nb_faux_negatifs=0\n",
    "    Nb_vrai_negatifs=0\n",
    "    Nb_faux_positifs=0\n",
    "    Nb_vrai_positifs=0\n",
    "    N = X_test.shape[0]\n",
    "    \n",
    "    \n",
    "    #Generation of artificial data\n",
    "    noise = np.random.normal(0, 1, size=[N, randomDim])\n",
    "    X_test_false=generator.predict(noise)\n",
    "    Y_test_false=np.zeros((N,nb_classes))\n",
    "    \n",
    "    X_test_reject = np.concatenate((X_test,X_test_false))\n",
    "    Y_test_reject = np.concatenate((Y_test,Y_test_false))\n",
    "    #Classification\n",
    "    rejected = rejection_model.predict(X_test_reject)\n",
    "    class_predicted = prediction_model.predict(X_test_reject)\n",
    "\n",
    "    for i in xrange(N*2):\n",
    "      if rejected[i]<0.5:\n",
    "        Nb_rejets+=1\n",
    "        if np.argmax(class_predicted[i],0)==np.argmax(Y_test_reject[i]) and np.amax(Y_test_reject[i])==1:\n",
    "          Nb_faux_negatifs+=1\n",
    "        else:\n",
    "          Nb_vrai_negatifs+=1\n",
    "          \n",
    "      else:\n",
    "        if np.argmax(class_predicted[i],0)==np.argmax(Y_test_reject[i]) and np.amax(Y_test_reject[i])==1:\n",
    "          Nb_vrai_positifs+=1\n",
    "        else:\n",
    "          Nb_faux_positifs+=1\n",
    "          \n",
    "    print(\"Taux de rejet : %.3f\"%(float(Nb_rejets)/(2*N)))\n",
    "    print(\"Taux de faux négatifs : %.3f\"%(float(Nb_faux_negatifs)/Nb_rejets))\n",
    "    print(\"Taux de vrai negatifs : %.3f\"%(float(Nb_vrai_negatifs)/Nb_rejets))\n",
    "    print(\"Taux de faux positifs : %.3f\"%(float(Nb_faux_positifs)/(2*N-Nb_rejets)))\n",
    "    print(\"Taux de vrai positifs : %.3f\"%(float(Nb_vrai_positifs)/(2*N-Nb_rejets)))\n",
    "\n",
    "    return(float(Nb_rejets)/(2*N),\n",
    "           float(Nb_faux_negatifs)/Nb_rejets,\n",
    "           float(Nb_vrai_negatifs)/Nb_rejets,\n",
    "           float(Nb_faux_positifs)/((2*N)-Nb_rejets),\n",
    "           float(Nb_vrai_positifs)/((2*N)-Nb_rejets))"
   ]
  },
  {
   "cell_type": "markdown",
   "metadata": {
    "colab_type": "text",
    "id": "iAo09qbva0Wh"
   },
   "source": [
    "##### Training the models"
   ]
  },
  {
   "cell_type": "code",
   "execution_count": 133,
   "metadata": {
    "colab": {
     "autoexec": {
      "startup": false,
      "wait_interval": 0
     },
     "base_uri": "https://localhost:8080/",
     "height": 1816,
     "output_extras": [
      {
       "item_id": 1
      },
      {
       "item_id": 2
      },
      {
       "item_id": 170
      },
      {
       "item_id": 171
      },
      {
       "item_id": 336
      },
      {
       "item_id": 337
      },
      {
       "item_id": 500
      },
      {
       "item_id": 501
      },
      {
       "item_id": 662
      },
      {
       "item_id": 663
      },
      {
       "item_id": 823
      },
      {
       "item_id": 824
      },
      {
       "item_id": 825
      },
      {
       "item_id": 826
      },
      {
       "item_id": 827
      }
     ]
    },
    "colab_type": "code",
    "executionInfo": {
     "elapsed": 228131,
     "status": "ok",
     "timestamp": 1519053504096,
     "user": {
      "displayName": "Martin Babeau",
      "photoUrl": "//lh3.googleusercontent.com/-duOcFlsIRWE/AAAAAAAAAAI/AAAAAAAAAFo/FUSa1rS__YQ/s50-c-k-no/photo.jpg",
      "userId": "100863656344882306521"
     },
     "user_tz": -60
    },
    "id": "StV4KVdwa9Dx",
    "outputId": "e50faa6a-bd04-4c30-e38b-25d45da6ae73"
   },
   "outputs": [
    {
     "name": "stderr",
     "output_type": "stream",
     "text": [
      "  0%|          | 0/468 [00:00<?, ?it/s]"
     ]
    },
    {
     "name": "stdout",
     "output_type": "stream",
     "text": [
      "<type 'int'>\n",
      "Epochs: 5\n",
      "Batch size: 128\n",
      "Batches per epoch: 468\n",
      "\n",
      "\n",
      "--------------- Epoch 1 ---------------\n"
     ]
    },
    {
     "name": "stderr",
     "output_type": "stream",
     "text": [
      "100%|██████████| 468/468 [00:48<00:00,  9.69it/s]\n",
      "  0%|          | 2/468 [00:00<00:42, 10.94it/s]"
     ]
    },
    {
     "name": "stdout",
     "output_type": "stream",
     "text": [
      "\n",
      "\n",
      "--------------- Epoch 2 ---------------\n"
     ]
    },
    {
     "name": "stderr",
     "output_type": "stream",
     "text": [
      "100%|██████████| 468/468 [00:42<00:00, 11.09it/s]\n",
      "  0%|          | 2/468 [00:00<00:42, 11.06it/s]"
     ]
    },
    {
     "name": "stdout",
     "output_type": "stream",
     "text": [
      "\n",
      "\n",
      "--------------- Epoch 3 ---------------\n"
     ]
    },
    {
     "name": "stderr",
     "output_type": "stream",
     "text": [
      "100%|██████████| 468/468 [00:42<00:00, 11.10it/s]\n",
      "  0%|          | 2/468 [00:00<00:42, 10.97it/s]"
     ]
    },
    {
     "name": "stdout",
     "output_type": "stream",
     "text": [
      "\n",
      "\n",
      "--------------- Epoch 4 ---------------\n"
     ]
    },
    {
     "name": "stderr",
     "output_type": "stream",
     "text": [
      "100%|██████████| 468/468 [00:42<00:00, 11.12it/s]\n",
      "  0%|          | 2/468 [00:00<00:41, 11.18it/s]"
     ]
    },
    {
     "name": "stdout",
     "output_type": "stream",
     "text": [
      "\n",
      "\n",
      "--------------- Epoch 5 ---------------\n"
     ]
    },
    {
     "name": "stderr",
     "output_type": "stream",
     "text": [
      "100%|██████████| 468/468 [00:42<00:00, 11.11it/s]\n"
     ]
    },
    {
     "name": "stdout",
     "output_type": "stream",
     "text": [
      "Taux de rejet : 0.500\n",
      "Taux de faux négatifs : 0.000\n",
      "Taux de vrai negatifs : 1.000\n",
      "Taux de faux positifs : 0.012\n",
      "Taux de vrai positifs : 0.988\n"
     ]
    },
    {
     "data": {
      "text/plain": [
       "(0.50015,\n",
       " 0.00029991002699190244,\n",
       " 0.9997000899730081,\n",
       " 0.011503451035310593,\n",
       " 0.9884965489646894)"
      ]
     },
     "execution_count": 133,
     "metadata": {
      "tags": []
     },
     "output_type": "execute_result"
    },
    {
     "data": {
      "image/png": "[encoded data removed]",
      "text/plain": [
       "<matplotlib.figure.Figure at 0x7fc0e72a69d0>"
      ]
     },
     "metadata": {
      "tags": []
     },
     "output_type": "display_data"
    },
    {
     "data": {
      "image/png": "[encoded data removed]",
      "text/plain": [
       "<matplotlib.figure.Figure at 0x7fc0e2223050>"
      ]
     },
     "metadata": {
      "tags": []
     },
     "output_type": "display_data"
    }
   ],
   "source": [
    "train(X_train, Y_train, X_test, Y_test, 5)"
   ]
  },
  {
   "cell_type": "markdown",
   "metadata": {
    "colab_type": "text",
    "id": "Aj5IvdUamk3f"
   },
   "source": [
    "On voit bien ci-dessus que le rejection_model fait la différence entre les inputs venant du generator et ceux venant de mnist, et qu'il génère très peu de faux négatifs. Par ailleurs, le prediction_model réussi à identifier la quasi-totalité de ce que le rejection_model lui laisse.\n",
    "\n",
    "En l'entraînant simplement sur 5 epochs, les modèles apprennent donc suffisamment pour reconnaître des entrées aléatoires ou générées de données réelles. "
   ]
  },
  {
   "cell_type": "markdown",
   "metadata": {
    "colab_type": "text",
    "id": "9S07igoyEL-X"
   },
   "source": [
    "## Pour démarrer Partie 2"
   ]
  },
  {
   "cell_type": "markdown",
   "metadata": {
    "colab_type": "text",
    "id": "2vK9y1HbEL-Z"
   },
   "source": [
    "#### Construction de jeux de données pour la classification ouverte\n",
    "Ici les jeux de données sont créés pour être utilisés avec un classifieur à 10 sorties.\n",
    "\n",
    "Les jeux de données créés sont:\n",
    "- X_train_restricted et Y_train_restricted: jeux de données extraits de la base de train et correspondant aux données des classes dans l'ensemble $Classes\\_Train$. C'est sur ces données qu'il faut apprendre votre système \n",
    "- X_test_restricted et Y_test_restricted: jeux de données extraits de la base de test et correspondant aux classes dans $Classes\\_Train$. Cees données devraient être en très grande majorité acceptée par votre modèle de rejet et bien classées par votre modèle de prédiction\n",
    "- X_test_out et Y_test_out: jeux de données extraits de la base de test et correspondant aux classes non présentes dans $Classes\\_Train$. Ces données devraient être en très grande majorité rejetées par votre modèle de rejet.\n",
    "\n",
    "NB: tous les jeux de données sont permutées aléatoirement dans le code ci-dessous."
   ]
  },
  {
   "cell_type": "code",
   "execution_count": 147,
   "metadata": {
    "colab": {
     "autoexec": {
      "startup": false,
      "wait_interval": 0
     },
     "base_uri": "https://localhost:8080/",
     "height": 89,
     "output_extras": [
      {
       "item_id": 1
      }
     ]
    },
    "colab_type": "code",
    "executionInfo": {
     "elapsed": 684,
     "status": "ok",
     "timestamp": 1519054607541,
     "user": {
      "displayName": "Martin Babeau",
      "photoUrl": "//lh3.googleusercontent.com/-duOcFlsIRWE/AAAAAAAAAAI/AAAAAAAAAFo/FUSa1rS__YQ/s50-c-k-no/photo.jpg",
      "userId": "100863656344882306521"
     },
     "user_tz": -60
    },
    "id": "qfhlu5mnEL-Z",
    "outputId": "87428113-6017-4fd3-84dd-92a67e3504eb"
   },
   "outputs": [
    {
     "name": "stdout",
     "output_type": "stream",
     "text": [
      "(17528, 1, 28, 28) (17528, 10)\n",
      "(10000, 1, 28, 28) (10000, 10)\n",
      "(2902, 1, 28, 28) (2902, 10)\n",
      "(7098, 1, 28, 28) (7098, 10)\n"
     ]
    }
   ],
   "source": [
    "from sets import Set\n",
    "\n",
    "\n",
    "### On tire au hasard les classes à garder en train\n",
    "\n",
    "classes_train = np.random.choice(range(nb_classes), size=3, replace=False)\n",
    "\n",
    "Classes_Train = Set (classes_train)\n",
    "\n",
    "X=[]\n",
    "Y=[]\n",
    "X2=[]\n",
    "Y2=[]\n",
    "\n",
    "#print(y_train.shape)\n",
    "\n",
    "for y in range(nb_classes):\n",
    "  if (y in Classes_Train):\n",
    "      indices = np.where(y_train==y)\n",
    "      #print (indices[0].shape)\n",
    "      X.append(X_train[indices])\n",
    "      Y.append(Y_train[indices])\n",
    "  else:\n",
    "      indices = np.where(y_train==y)\n",
    "      #print (indices[0].shape)\n",
    "      X2.append(X_train[indices])\n",
    "      Y2.append(Y_train[indices])\n",
    "      \n",
    "\n",
    "def list2nparray(L):\n",
    "  M = L[0]\n",
    "  for i in np.arange(1,len(L)):\n",
    "    M = np.concatenate((M, L[i]))\n",
    "  return M\n",
    "\n",
    "X_train_restricted = list2nparray(X)\n",
    "Y_train_restricted = list2nparray(Y)\n",
    "\n",
    "p = np.random.permutation(range(X_train_restricted.shape[0]))\n",
    "X_train_restricted = X_train_restricted[p]\n",
    "Y_train_restricted = Y_train_restricted[p]\n",
    "\n",
    "\n",
    "X_train_out = list2nparray(X2)\n",
    "Y_train_out = list2nparray(Y2)\n",
    "\n",
    "print (X_train_restricted.shape, Y_train_restricted.shape)\n",
    "\n",
    "print (X_test.shape, Y_test.shape)\n",
    "\n",
    "######## Idem sur le test set\n",
    "\n",
    "X=[]\n",
    "Y=[]\n",
    "X2=[]\n",
    "Y2=[]\n",
    "\n",
    "#print(y_train.shape)\n",
    "\n",
    "for y in range(nb_classes):\n",
    "  if (y in Classes_Train):\n",
    "      indices = np.where(y_test==y)\n",
    "      #print (indices[0].shape)\n",
    "      X.append(X_test[indices])\n",
    "      Y.append(Y_test[indices])\n",
    "  else:\n",
    "      indices = np.where(y_test\n",
    "                         ==y)\n",
    "      #print (indices[0].shape)\n",
    "      X2.append(X_test[indices])\n",
    "      Y2.append(Y_test[indices])\n",
    "      \n",
    "\n",
    "X_test_restricted = list2nparray(X)\n",
    "Y_test_restricted = list2nparray(Y)\n",
    "\n",
    "X_test_out = list2nparray(X2)\n",
    "Y_test_out = list2nparray(Y2)\n",
    "\n",
    "print (X_test_restricted.shape, Y_test_restricted.shape)\n",
    "\n",
    "print (X_test_out.shape, Y_test_out.shape)"
   ]
  },
  {
   "cell_type": "markdown",
   "metadata": {
    "colab_type": "text",
    "id": "xReSknLZnL_a"
   },
   "source": [
    "##### Prediction_model and Rejection_model"
   ]
  },
  {
   "cell_type": "code",
   "execution_count": 149,
   "metadata": {
    "colab": {
     "autoexec": {
      "startup": false,
      "wait_interval": 0
     },
     "base_uri": "https://localhost:8080/",
     "height": 663,
     "output_extras": [
      {
       "item_id": 1
      },
      {
       "item_id": 2
      }
     ]
    },
    "colab_type": "code",
    "executionInfo": {
     "elapsed": 474,
     "status": "ok",
     "timestamp": 1519054620516,
     "user": {
      "displayName": "Martin Babeau",
      "photoUrl": "//lh3.googleusercontent.com/-duOcFlsIRWE/AAAAAAAAAAI/AAAAAAAAAFo/FUSa1rS__YQ/s50-c-k-no/photo.jpg",
      "userId": "100863656344882306521"
     },
     "user_tz": -60
    },
    "id": "yWKV_5C4nLlb",
    "outputId": "8678d445-e92e-4e92-93b3-909e3cacd6c4"
   },
   "outputs": [
    {
     "name": "stdout",
     "output_type": "stream",
     "text": [
      "_________________________________________________________________\n",
      "Layer (type)                 Output Shape              Param #   \n",
      "=================================================================\n",
      "conv2d_48 (Conv2D)           (None, 32, 26, 26)        320       \n",
      "_________________________________________________________________\n",
      "activation_70 (Activation)   (None, 32, 26, 26)        0         \n",
      "_________________________________________________________________\n",
      "max_pooling2d_35 (MaxPooling (None, 32, 13, 13)        0         \n",
      "_________________________________________________________________\n",
      "conv2d_49 (Conv2D)           (None, 32, 11, 11)        9248      \n",
      "_________________________________________________________________\n",
      "activation_71 (Activation)   (None, 32, 11, 11)        0         \n",
      "_________________________________________________________________\n",
      "max_pooling2d_36 (MaxPooling (None, 32, 5, 5)          0         \n",
      "_________________________________________________________________\n",
      "dropout_35 (Dropout)         (None, 32, 5, 5)          0         \n",
      "_________________________________________________________________\n",
      "flatten_18 (Flatten)         (None, 800)               0         \n",
      "_________________________________________________________________\n",
      "dense_39 (Dense)             (None, 100)               80100     \n",
      "_________________________________________________________________\n",
      "activation_72 (Activation)   (None, 100)               0         \n",
      "_________________________________________________________________\n",
      "dropout_36 (Dropout)         (None, 100)               0         \n",
      "_________________________________________________________________\n",
      "dense_40 (Dense)             (None, 10)                1010      \n",
      "_________________________________________________________________\n",
      "activation_73 (Activation)   (None, 10)                0         \n",
      "=================================================================\n",
      "Total params: 90,678\n",
      "Trainable params: 90,678\n",
      "Non-trainable params: 0\n",
      "_________________________________________________________________\n"
     ]
    },
    {
     "name": "stderr",
     "output_type": "stream",
     "text": [
      "/usr/local/lib/python2.7/dist-packages/ipykernel_launcher.py:5: UserWarning: Update your `Conv2D` call to the Keras 2 API: `Conv2D(32, (3, 3), padding=\"valid\", input_shape=(1, 28, 28...)`\n",
      "  \"\"\"\n"
     ]
    }
   ],
   "source": [
    "#Definition of the prediction model\n",
    "prediction_res = Sequential()\n",
    "\n",
    "prediction_res.add(Conv2D(32, (3,3),\n",
    "                             border_mode='valid',\n",
    "                             input_shape=(1,28,28)))\n",
    "prediction_res.add(Activation('relu'))\n",
    "prediction_res.add(MaxPooling2D(pool_size=(2,2)))\n",
    "prediction_res.add(Conv2D(32, (3,3)))\n",
    "prediction_res.add(Activation('relu'))\n",
    "prediction_res.add(MaxPooling2D(pool_size=(2,2)))\n",
    "prediction_res.add(Dropout(0.5))\n",
    "\n",
    "prediction_res.add(Flatten())\n",
    "prediction_res.add(Dense(100))\n",
    "prediction_res.add(Activation('relu'))\n",
    "prediction_res.add(Dropout(0.5))\n",
    "prediction_res.add(Dense(nb_classes))\n",
    "prediction_res.add(Activation('softmax'))\n",
    "\n",
    "prediction_res.compile(loss='categorical_crossentropy',\n",
    "                   optimizer='adadelta',\n",
    "                   metrics=['accuracy'])\n",
    "prediction_res.summary()"
   ]
  },
  {
   "cell_type": "code",
   "execution_count": 137,
   "metadata": {
    "colab": {
     "autoexec": {
      "startup": false,
      "wait_interval": 0
     },
     "base_uri": "https://localhost:8080/",
     "height": 663,
     "output_extras": [
      {
       "item_id": 1
      },
      {
       "item_id": 2
      }
     ]
    },
    "colab_type": "code",
    "executionInfo": {
     "elapsed": 501,
     "status": "ok",
     "timestamp": 1519053663578,
     "user": {
      "displayName": "Martin Babeau",
      "photoUrl": "//lh3.googleusercontent.com/-duOcFlsIRWE/AAAAAAAAAAI/AAAAAAAAAFo/FUSa1rS__YQ/s50-c-k-no/photo.jpg",
      "userId": "100863656344882306521"
     },
     "user_tz": -60
    },
    "id": "FkoW-aVwnWaL",
    "outputId": "5648e0d7-76bd-44f9-eaa3-fd3ee8c432ab"
   },
   "outputs": [
    {
     "name": "stdout",
     "output_type": "stream",
     "text": [
      "_________________________________________________________________\n",
      "Layer (type)                 Output Shape              Param #   \n",
      "=================================================================\n",
      "conv2d_46 (Conv2D)           (None, 32, 26, 26)        320       \n",
      "_________________________________________________________________\n",
      "activation_66 (Activation)   (None, 32, 26, 26)        0         \n",
      "_________________________________________________________________\n",
      "max_pooling2d_33 (MaxPooling (None, 32, 13, 13)        0         \n",
      "_________________________________________________________________\n",
      "conv2d_47 (Conv2D)           (None, 32, 11, 11)        9248      \n",
      "_________________________________________________________________\n",
      "activation_67 (Activation)   (None, 32, 11, 11)        0         \n",
      "_________________________________________________________________\n",
      "max_pooling2d_34 (MaxPooling (None, 32, 5, 5)          0         \n",
      "_________________________________________________________________\n",
      "dropout_33 (Dropout)         (None, 32, 5, 5)          0         \n",
      "_________________________________________________________________\n",
      "flatten_17 (Flatten)         (None, 800)               0         \n",
      "_________________________________________________________________\n",
      "dense_37 (Dense)             (None, 100)               80100     \n",
      "_________________________________________________________________\n",
      "activation_68 (Activation)   (None, 100)               0         \n",
      "_________________________________________________________________\n",
      "dropout_34 (Dropout)         (None, 100)               0         \n",
      "_________________________________________________________________\n",
      "dense_38 (Dense)             (None, 1)                 101       \n",
      "_________________________________________________________________\n",
      "activation_69 (Activation)   (None, 1)                 0         \n",
      "=================================================================\n",
      "Total params: 89,769\n",
      "Trainable params: 89,769\n",
      "Non-trainable params: 0\n",
      "_________________________________________________________________\n"
     ]
    },
    {
     "name": "stderr",
     "output_type": "stream",
     "text": [
      "/usr/local/lib/python2.7/dist-packages/ipykernel_launcher.py:5: UserWarning: Update your `Conv2D` call to the Keras 2 API: `Conv2D(32, (3, 3), padding=\"valid\", input_shape=(1, 28, 28...)`\n",
      "  \"\"\"\n"
     ]
    }
   ],
   "source": [
    "rejection_res = Sequential()\n",
    "\n",
    "rejection_res.add(Conv2D(32, (3,3),\n",
    "                             border_mode='valid',\n",
    "                             input_shape=(1,28,28)))\n",
    "rejection_res.add(Activation('relu'))\n",
    "rejection_res.add(MaxPooling2D(pool_size=(2,2)))\n",
    "rejection_res.add(Conv2D(32, (3,3)))\n",
    "rejection_res.add(Activation('relu'))\n",
    "rejection_res.add(MaxPooling2D(pool_size=(2,2)))\n",
    "rejection_res.add(Dropout(0.5))\n",
    "\n",
    "rejection_res.add(Flatten())\n",
    "rejection_res.add(Dense(100))\n",
    "rejection_res.add(Activation('relu'))\n",
    "rejection_res.add(Dropout(0.5))\n",
    "rejection_res.add(Dense(1))\n",
    "rejection_res.add(Activation('sigmoid'))\n",
    "\n",
    "rejection_res.compile(loss='binary_crossentropy',\n",
    "                   optimizer='adadelta',\n",
    "                   metrics=['accuracy'])\n",
    "rejection_res.summary()"
   ]
  },
  {
   "cell_type": "markdown",
   "metadata": {
    "colab_type": "text",
    "id": "mwGsMcGznatL"
   },
   "source": [
    "##### Definition of train_restricted"
   ]
  },
  {
   "cell_type": "code",
   "execution_count": null,
   "metadata": {
    "colab": {
     "autoexec": {
      "startup": false,
      "wait_interval": 0
     }
    },
    "colab_type": "code",
    "id": "iIWYIKYYnaja"
   },
   "outputs": [],
   "source": [
    "def train_restricted(X_train, Y_train, \n",
    "                     X_test_restricted,Y_test_restricted,\n",
    "                     X_train_out,Y_train_out,\n",
    "                     X_test_out,Y_test_out, \n",
    "                     epochs=1, batchSize=128):\n",
    "  \n",
    "    batchCount = int(X_train.shape[0] / batchSize)\n",
    "    print (type(batchCount))\n",
    "    print ('Epochs:', epochs)\n",
    "    print ('Batch size:', batchSize)\n",
    "    print ('Batches per epoch:', batchCount)\n",
    "\n",
    "    cLosses_r = []\n",
    "    cLosses_p = []\n",
    "    \n",
    "    for e in xrange(1, epochs+1):\n",
    "        print('\\n')\n",
    "        print ('-'*15, 'Epoch %d' % e, '-'*15)\n",
    "        closs_r=0\n",
    "        closs_p=0\n",
    "        dloss=0\n",
    "        gloss=0\n",
    "        for _ in tqdm(xrange(batchCount)):\n",
    "          \n",
    "            # Batch training for all models\n",
    "            \n",
    "            \n",
    "            \n",
    "            #Creation of batches for the generative model\n",
    "            \n",
    "            current_choice = np.random.choice(X_train_restricted.shape[0], batchSize, replace=False)\n",
    "            \n",
    "            batch = X_train_restricted[current_choice, :]\n",
    "            batch_labels = Y_train_restricted[current_choice, :]\n",
    "            \n",
    "            #Training the prediction and rejection models\n",
    "            closs_p+=np.sum(prediction_res.train_on_batch(batch,batch_labels))\n",
    "            \n",
    "            Y_predict = prediction_res.predict(batch)\n",
    "            \n",
    "            keep=[]\n",
    "            for i in xrange(batch.shape[0]):\n",
    "              if np.argmax(Y_predict[i],0)==np.argmax(batch_labels[i],0):\n",
    "                keep.append(1)\n",
    "              else:\n",
    "                keep.append(0)\n",
    "\n",
    "            keep = np.concatenate((keep, np.zeros(batchSize)))\n",
    "            X_temp = np.concatenate((batch,X_train_out[\n",
    "                np.random.choice(X_train_restricted.shape[0], batchSize, replace=False)\n",
    "                ,:]))\n",
    "            \n",
    "            closs_r = rejection_res.train_on_batch(X_temp, keep)\n",
    "                \n",
    "\n",
    "        # Store loss of most recent batch from this epoch\n",
    "        cLosses_r.append(closs_r)\n",
    "        cLosses_p.append(closs_p)\n",
    "\n",
    "      \n",
    "    # Performance evaluation\n",
    "    Nb_rejets=0\n",
    "    Nb_faux_negatifs=0\n",
    "    Nb_vrai_negatifs=0\n",
    "    Nb_faux_positifs=0\n",
    "    Nb_vrai_positifs=0\n",
    "    \n",
    "    #Concatenation of data\n",
    "    X_test_complete=np.concatenate((X_test_restricted,X_test_out))\n",
    "    Y_test_complete=np.concatenate((Y_test_restricted,np.zeros((X_test_out.shape[0],nb_classes))))\n",
    "\n",
    "    #Classification\n",
    "    rejected = rejection_model.predict(X_test_complete)\n",
    "    class_predicted = prediction_model.predict(X_test_complete)\n",
    "\n",
    "    N=X_test_complete.shape[0]\n",
    "    \n",
    "    for i in xrange(N):\n",
    "      if rejected[i]<0.5:\n",
    "        Nb_rejets+=1\n",
    "        if np.argmax(class_predicted[i],0)==np.argmax(Y_test_complete[i]) and np.amax(Y_test_complete[i])==1:\n",
    "          Nb_faux_negatifs+=1\n",
    "        else:\n",
    "          Nb_vrai_negatifs+=1\n",
    "          \n",
    "      else:\n",
    "        if np.argmax(class_predicted[i],0)==np.argmax(Y_test_complete[i]) and np.amax(Y_test_complete[i])==1:\n",
    "          Nb_vrai_positifs+=1\n",
    "        else:\n",
    "          Nb_faux_positifs+=1\n",
    "          \n",
    "    print(\"Taux de rejet : %.3f\"%(float(Nb_rejets)/(N)))\n",
    "    print(\"Taux de faux négatifs : %.3f\"%(float(Nb_faux_negatifs)/Nb_rejets))\n",
    "    print(\"Taux de vrai negatifs : %.3f\"%(float(Nb_vrai_negatifs)/Nb_rejets))\n",
    "    print(\"Taux de faux positifs : %.3f\"%(float(Nb_faux_positifs)/(N-Nb_rejets)))\n",
    "    print(\"Taux de vrai positifs : %.3f\"%(float(Nb_vrai_positifs)/(N-Nb_rejets)))\n",
    "\n",
    "    return(float(Nb_rejets)/(N),\n",
    "           float(Nb_faux_negatifs)/Nb_rejets,\n",
    "           float(Nb_vrai_negatifs)/Nb_rejets,\n",
    "           float(Nb_faux_positifs)/((N)-Nb_rejets),\n",
    "           float(Nb_vrai_positifs)/((N)-Nb_rejets))"
   ]
  },
  {
   "cell_type": "markdown",
   "metadata": {
    "colab_type": "text",
    "id": "PRXicSMqnlq6"
   },
   "source": [
    "##### Training of the models"
   ]
  },
  {
   "cell_type": "code",
   "execution_count": null,
   "metadata": {
    "colab": {
     "autoexec": {
      "startup": false,
      "wait_interval": 0
     }
    },
    "colab_type": "code",
    "id": "hXjiHuwStixy"
   },
   "outputs": [],
   "source": [
    "prediction_res.compile(loss='categorical_crossentropy',\n",
    "                   optimizer='adadelta',\n",
    "                   metrics=['accuracy'])\n",
    "\n",
    "rejection_res.compile(loss='binary_crossentropy',\n",
    "                   optimizer='adadelta',\n",
    "                   metrics=['accuracy'])"
   ]
  },
  {
   "cell_type": "code",
   "execution_count": null,
   "metadata": {
    "colab": {
     "autoexec": {
      "startup": false,
      "wait_interval": 0
     }
    },
    "colab_type": "code",
    "id": "oj-I3dqktpU5"
   },
   "outputs": [],
   "source": [
    "classes_train = np.random.choice(range(nb_classes), size=3, replace=False)\n",
    "\n",
    "Classes_Train = Set (classes_train)\n"
   ]
  },
  {
   "cell_type": "code",
   "execution_count": 152,
   "metadata": {
    "colab": {
     "autoexec": {
      "startup": false,
      "wait_interval": 0
     },
     "base_uri": "https://localhost:8080/",
     "height": 35,
     "output_extras": [
      {
       "item_id": 1
      }
     ]
    },
    "colab_type": "code",
    "executionInfo": {
     "elapsed": 455,
     "status": "ok",
     "timestamp": 1519054668381,
     "user": {
      "displayName": "Martin Babeau",
      "photoUrl": "//lh3.googleusercontent.com/-duOcFlsIRWE/AAAAAAAAAAI/AAAAAAAAAFo/FUSa1rS__YQ/s50-c-k-no/photo.jpg",
      "userId": "100863656344882306521"
     },
     "user_tz": -60
    },
    "id": "zg7xU7dasceU",
    "outputId": "03b2363b-19d1-47f8-ad23-c8ae1084a721"
   },
   "outputs": [
    {
     "name": "stdout",
     "output_type": "stream",
     "text": [
      "[5 3 7]\n"
     ]
    }
   ],
   "source": [
    "print(classes_train)"
   ]
  },
  {
   "cell_type": "code",
   "execution_count": 153,
   "metadata": {
    "colab": {
     "autoexec": {
      "startup": false,
      "wait_interval": 0
     },
     "base_uri": "https://localhost:8080/",
     "height": 1033,
     "output_extras": [
      {
       "item_id": 1
      },
      {
       "item_id": 2
      },
      {
       "item_id": 99
      },
      {
       "item_id": 100
      },
      {
       "item_id": 194
      },
      {
       "item_id": 195
      },
      {
       "item_id": 288
      },
      {
       "item_id": 289
      },
      {
       "item_id": 380
      },
      {
       "item_id": 381
      },
      {
       "item_id": 475
      },
      {
       "item_id": 476
      },
      {
       "item_id": 477
      },
      {
       "item_id": 478
      }
     ]
    },
    "colab_type": "code",
    "executionInfo": {
     "elapsed": 126699,
     "status": "ok",
     "timestamp": 1519054796610,
     "user": {
      "displayName": "Martin Babeau",
      "photoUrl": "//lh3.googleusercontent.com/-duOcFlsIRWE/AAAAAAAAAAI/AAAAAAAAAFo/FUSa1rS__YQ/s50-c-k-no/photo.jpg",
      "userId": "100863656344882306521"
     },
     "user_tz": -60
    },
    "id": "8C0QYCgRnli2",
    "outputId": "655bfcca-dcc1-43eb-b134-1f14213503e5"
   },
   "outputs": [
    {
     "name": "stderr",
     "output_type": "stream",
     "text": [
      "  0%|          | 0/937 [00:00<?, ?it/s]"
     ]
    },
    {
     "name": "stdout",
     "output_type": "stream",
     "text": [
      "<type 'int'>\n",
      "Epochs: 5\n",
      "Batch size: 64\n",
      "Batches per epoch: 937\n",
      "\n",
      "\n",
      "--------------- Epoch 1 ---------------\n"
     ]
    },
    {
     "name": "stderr",
     "output_type": "stream",
     "text": [
      "100%|██████████| 937/937 [00:27<00:00, 33.92it/s]\n",
      "  0%|          | 4/937 [00:00<00:25, 37.26it/s]"
     ]
    },
    {
     "name": "stdout",
     "output_type": "stream",
     "text": [
      "\n",
      "\n",
      "--------------- Epoch 2 ---------------\n"
     ]
    },
    {
     "name": "stderr",
     "output_type": "stream",
     "text": [
      "100%|██████████| 937/937 [00:24<00:00, 38.57it/s]\n",
      "  0%|          | 4/937 [00:00<00:23, 39.72it/s]"
     ]
    },
    {
     "name": "stdout",
     "output_type": "stream",
     "text": [
      "\n",
      "\n",
      "--------------- Epoch 3 ---------------\n"
     ]
    },
    {
     "name": "stderr",
     "output_type": "stream",
     "text": [
      "100%|██████████| 937/937 [00:24<00:00, 38.83it/s]\n",
      "  0%|          | 4/937 [00:00<00:24, 38.71it/s]"
     ]
    },
    {
     "name": "stdout",
     "output_type": "stream",
     "text": [
      "\n",
      "\n",
      "--------------- Epoch 4 ---------------\n"
     ]
    },
    {
     "name": "stderr",
     "output_type": "stream",
     "text": [
      "100%|██████████| 937/937 [00:24<00:00, 38.69it/s]\n",
      "  0%|          | 4/937 [00:00<00:24, 37.89it/s]"
     ]
    },
    {
     "name": "stdout",
     "output_type": "stream",
     "text": [
      "\n",
      "\n",
      "--------------- Epoch 5 ---------------\n"
     ]
    },
    {
     "name": "stderr",
     "output_type": "stream",
     "text": [
      "100%|██████████| 937/937 [00:24<00:00, 38.65it/s]\n"
     ]
    },
    {
     "name": "stdout",
     "output_type": "stream",
     "text": [
      "Taux de rejet : 0.000\n",
      "Taux de faux négatifs : 0.000\n",
      "Taux de vrai negatifs : 1.000\n",
      "Taux de faux positifs : 0.714\n",
      "Taux de vrai positifs : 0.286\n"
     ]
    },
    {
     "data": {
      "text/plain": [
       "(0.0003, 0.0, 1.0, 0.7136140842252676, 0.28638591577473244)"
      ]
     },
     "execution_count": 153,
     "metadata": {
      "tags": []
     },
     "output_type": "execute_result"
    },
    {
     "data": {
      "image/png": "[encoded data removed]",
      "text/plain": [
       "<matplotlib.figure.Figure at 0x7fc0e249f990>"
      ]
     },
     "metadata": {
      "tags": []
     },
     "output_type": "display_data"
    }
   ],
   "source": [
    "train_restricted(X_train, Y_train, \n",
    "                     X_test_restricted,Y_test_restricted,\n",
    "                     X_train_out,Y_train_out,\n",
    "                     X_test_out,Y_test_out,\n",
    "                     5,64)"
   ]
  }
 ],
 "metadata": {
  "accelerator": "GPU",
  "colab": {
   "default_view": {},
   "name": "BABEAU_Martin_DL2917_Examen.ipynb",
   "provenance": [],
   "version": "0.3.2",
   "views": {}
  },
  "kernelspec": {
   "display_name": "Python 3",
   "language": "python",
   "name": "python3"
  },
  "language_info": {
   "name": ""
  }
 },
 "nbformat": 4,
 "nbformat_minor": 4
}
