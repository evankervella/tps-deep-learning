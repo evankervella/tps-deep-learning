{
 "cells": [
  {
   "cell_type": "markdown",
   "metadata": {},
   "source": [
    "\n",
    "# Convolutionnal Neural Networks for images\n"
   ]
  },
  {
   "cell_type": "markdown",
   "metadata": {},
   "source": [
    "Plan\n",
    "\n",
    "1. Basics\n",
    "\n",
    "2. CNN sur Mnist et comparaison avec MLP en fonction nb filtres, des filtersize, du stride etc\n",
    "\n",
    "3. Utilisation de CNN pour la visualisation (autoencoders)\n",
    "\n",
    "4. Interprétation des features implémentés par les réseaux de neurones\n",
    "\n",
    "5. Utilisation d'un réseau préentrainé pour l'annotation d'images\n",
    "\n",
    "6. A propos de la généricité des features\n",
    "\n"
   ]
  },
  {
   "cell_type": "markdown",
   "metadata": {},
   "source": [
    "## 1. Basics"
   ]
  },
  {
   "cell_type": "markdown",
   "metadata": {},
   "source": [
    "### Loading Mnist data"
   ]
  },
  {
   "cell_type": "code",
   "execution_count": 3,
   "metadata": {},
   "outputs": [
    {
     "name": "stderr",
     "output_type": "stream",
     "text": [
      "Using TensorFlow backend.\n"
     ]
    },
    {
     "name": "stdout",
     "output_type": "stream",
     "text": [
      "tf\n",
      "X_train shape: (60000, 28, 28, 1)\n",
      "60000 train samples\n",
      "10000 test samples\n"
     ]
    }
   ],
   "source": [
    "### Getting, normalizing and putting the data in good shape\n",
    "\n",
    "\n",
    "from __future__ import print_function\n",
    "import numpy as np\n",
    "np.random.seed(1337)  # for reproducibility\n",
    "\n",
    "from keras.datasets import mnist\n",
    "from keras.models import Sequential\n",
    "from keras.layers import Dense, Dropout, Activation, Flatten\n",
    "from keras.layers import Convolution2D, MaxPooling2D\n",
    "from keras.utils import np_utils\n",
    "from keras import backend as K\n",
    "\n",
    "# input image dimensions\n",
    "img_rows, img_cols = 28, 28\n",
    "nb_classes =10\n",
    "\n",
    "##### Chargement des donnees\n",
    "\n",
    "# the data, shuffled and split between train and test sets\n",
    "(X_train, y_train), (X_test, y_test) = mnist.load_data()\n",
    "\n",
    "print (K.image_dim_ordering())\n",
    "\n",
    "if K.image_dim_ordering() == 'th':\n",
    "    X_train = X_train.reshape(X_train.shape[0], 1, img_rows, img_cols)\n",
    "    X_test = X_test.reshape(X_test.shape[0], 1, img_rows, img_cols)\n",
    "    input_shape = (1, img_rows, img_cols)\n",
    "else:\n",
    "    X_train = X_train.reshape(X_train.shape[0], img_rows, img_cols, 1)\n",
    "    X_test = X_test.reshape(X_test.shape[0], img_rows, img_cols, 1)\n",
    "    input_shape = (img_rows, img_cols, 1)\n",
    "\n",
    "#X_train = X_train.reshape(X_train.shape[0], img_rows, img_cols, 1)\n",
    "#X_test = X_test.reshape(X_test.shape[0], img_rows, img_cols, 1)\n",
    "#input_shape = ( img_rows, img_cols, 1)\n",
    "\n",
    "X_train = X_train.astype('float32')\n",
    "X_test = X_test.astype('float32')\n",
    "X_train /= 255\n",
    "X_test /= 255\n",
    "print('X_train shape:', X_train.shape)\n",
    "print(X_train.shape[0], 'train samples')\n",
    "print(X_test.shape[0], 'test samples')\n",
    "\n",
    "# convert class vectors to binary class matrices\n",
    "Y_train = np_utils.to_categorical(y_train, nb_classes)\n",
    "Y_test = np_utils.to_categorical(y_test, nb_classes)"
   ]
  },
  {
   "cell_type": "code",
   "execution_count": 4,
   "metadata": {},
   "outputs": [
    {
     "name": "stdout",
     "output_type": "stream",
     "text": [
      "(60000, 28, 28, 1)\n",
      "(60000, 10)\n"
     ]
    }
   ],
   "source": [
    "print (X_train.shape)\n",
    "print (Y_train.shape)"
   ]
  },
  {
   "cell_type": "markdown",
   "metadata": {},
   "source": [
    "## 2. Learning CNNs on Mnist data "
   ]
  },
  {
   "cell_type": "markdown",
   "metadata": {},
   "source": [
    "### To start...\n",
    "\n",
    "Use the code below to define a CNNs learned \"from scratch\" with Dropout strategy on Mnist data.\n"
   ]
  },
  {
   "cell_type": "code",
   "execution_count": 5,
   "metadata": {},
   "outputs": [],
   "source": [
    "def create_modelCNN_Mnist(nb_classes =10, nb_filters = 32, pool_size=(2,2), kernel_size = (3,3)):\n",
    "    model1 = Sequential()\n",
    "    model1.add(Convolution2D(nb_filters, kernel_size,\n",
    "                             border_mode='valid',\n",
    "                             input_shape=input_shape))\n",
    "    model1.add(Activation('relu'))\n",
    "    model1.add(MaxPooling2D(pool_size=pool_size))\n",
    "    model1.add(Convolution2D(nb_filters, kernel_size))\n",
    "    model1.add(Activation('relu'))\n",
    "    model1.add(MaxPooling2D(pool_size=pool_size))\n",
    "    model1.add(Dropout(0.5))\n",
    "\n",
    "    model1.add(Flatten())\n",
    "    model1.add(Dense(100))\n",
    "    model1.add(Activation('relu'))\n",
    "    model1.add(Dropout(0.5))\n",
    "    model1.add(Dense(nb_classes))\n",
    "    model1.add(Activation('softmax'))\n",
    "\n",
    "    model1.compile(loss='categorical_crossentropy',\n",
    "                   optimizer='adadelta',\n",
    "                   metrics=['accuracy'])\n",
    "    return(model1)\n"
   ]
  },
  {
   "cell_type": "code",
   "execution_count": 6,
   "metadata": {},
   "outputs": [
    {
     "name": "stderr",
     "output_type": "stream",
     "text": [
      "/Library/Frameworks/Python.framework/Versions/2.7/lib/python2.7/site-packages/ipykernel_launcher.py:5: UserWarning: Update your `Conv2D` call to the Keras 2 API: `Conv2D(32, (3, 3), padding=\"valid\", input_shape=(28, 28, 1...)`\n",
      "  \"\"\"\n"
     ]
    },
    {
     "name": "stdout",
     "output_type": "stream",
     "text": [
      "_________________________________________________________________\n",
      "Layer (type)                 Output Shape              Param #   \n",
      "=================================================================\n",
      "conv2d_1 (Conv2D)            (None, 26, 26, 32)        320       \n",
      "_________________________________________________________________\n",
      "activation_1 (Activation)    (None, 26, 26, 32)        0         \n",
      "_________________________________________________________________\n",
      "max_pooling2d_1 (MaxPooling2 (None, 13, 13, 32)        0         \n",
      "_________________________________________________________________\n",
      "conv2d_2 (Conv2D)            (None, 11, 11, 32)        9248      \n",
      "_________________________________________________________________\n",
      "activation_2 (Activation)    (None, 11, 11, 32)        0         \n",
      "_________________________________________________________________\n",
      "max_pooling2d_2 (MaxPooling2 (None, 5, 5, 32)          0         \n",
      "_________________________________________________________________\n",
      "dropout_1 (Dropout)          (None, 5, 5, 32)          0         \n",
      "_________________________________________________________________\n",
      "flatten_1 (Flatten)          (None, 800)               0         \n",
      "_________________________________________________________________\n",
      "dense_1 (Dense)              (None, 100)               80100     \n",
      "_________________________________________________________________\n",
      "activation_3 (Activation)    (None, 100)               0         \n",
      "_________________________________________________________________\n",
      "dropout_2 (Dropout)          (None, 100)               0         \n",
      "_________________________________________________________________\n",
      "dense_2 (Dense)              (None, 10)                1010      \n",
      "_________________________________________________________________\n",
      "activation_4 (Activation)    (None, 10)                0         \n",
      "=================================================================\n",
      "Total params: 90,678\n",
      "Trainable params: 90,678\n",
      "Non-trainable params: 0\n",
      "_________________________________________________________________\n",
      "None\n"
     ]
    }
   ],
   "source": [
    "# number of convolutional filters to use\n",
    "nb_filters = 32\n",
    "# size of pooling area for max pooling\n",
    "pool_size = (2, 2)\n",
    "# convolution kernel size\n",
    "kernel_size = (3, 3)\n",
    "\n",
    "cnn1 = create_modelCNN_Mnist()    \n",
    "print (cnn1.summary())"
   ]
  },
  {
   "cell_type": "code",
   "execution_count": 7,
   "metadata": {},
   "outputs": [
    {
     "name": "stderr",
     "output_type": "stream",
     "text": [
      "/Library/Frameworks/Python.framework/Versions/2.7/lib/python2.7/site-packages/keras/models.py:939: UserWarning: The `nb_epoch` argument in `fit` has been renamed `epochs`.\n",
      "  warnings.warn('The `nb_epoch` argument in `fit` '\n"
     ]
    },
    {
     "name": "stdout",
     "output_type": "stream",
     "text": [
      "Epoch 1/1\n",
      "60000/60000 [==============================] - 52s 861us/step - loss: 0.6551 - acc: 0.7876\n",
      "Test score: 0.12974607977\n",
      "Test accuracy: 0.9609\n"
     ]
    }
   ],
   "source": [
    "import os\n",
    "\n",
    "# Loading existing weights or learning the model\n",
    "\n",
    "batch_size = 128\n",
    "nb_epoch= 1\n",
    "\n",
    "WEIGHTS_FNAME = 'Mnist_Cnn_My_weights.hdf'\n",
    "\n",
    "if False and os.path.exists(WEIGHTS_FNAME):\n",
    "    # Just change the True to false to force re-training\n",
    "    print('Loading existing weights')\n",
    "    cnn1.load_weights(WEIGHTS_FNAME)\n",
    "else:\n",
    "    batch_size = 128\n",
    "    nb_epoch = 1\n",
    "    WEIGHTS_FNAME = 'Mnist_Cnn_My_weights.hdf'\n",
    "    cnn1.fit(X_train, Y_train, batch_size=batch_size, nb_epoch=nb_epoch)\n",
    "    cnn1.save_weights(WEIGHTS_FNAME)\n",
    "    \n",
    "score = cnn1.evaluate(X_test, Y_test, verbose=0)\n",
    "print('Test score:', score[0])\n",
    "print('Test accuracy:', score[1])\n"
   ]
  },
  {
   "cell_type": "markdown",
   "metadata": {},
   "source": [
    "### Plotting data and comparing prediction with ground truth"
   ]
  },
  {
   "cell_type": "markdown",
   "metadata": {},
   "source": [
    "#### To do \n",
    "Choose a random image in the dataset, plot it, print its class, the predicted scores for all classes, and the recognized class. "
   ]
  },
  {
   "cell_type": "code",
   "execution_count": 6,
   "metadata": {},
   "outputs": [],
   "source": [
    "%matplotlib inline\n",
    "import matplotlib.pyplot as plt"
   ]
  },
  {
   "cell_type": "code",
   "execution_count": 179,
   "metadata": {},
   "outputs": [
    {
     "data": {
      "image/png": "[encoded data removed]",
      "text/plain": [
       "<matplotlib.figure.Figure at 0x7f1b557d2150>"
      ]
     },
     "metadata": {},
     "output_type": "display_data"
    },
    {
     "name": "stdout",
     "output_type": "stream",
     "text": [
      "Classe : 3\n",
      "Score prédit pour chaque classe dans l'ordre croissant :\n",
      "[  3.79922240e-05   1.33422698e-04   5.90293319e-04   9.97109950e-01\n",
      "   6.15557099e-07   1.70899497e-03   6.63015214e-07   1.33417025e-05\n",
      "   1.59401694e-04   2.45411036e-04]\n",
      "Classe prédite : 3\n"
     ]
    }
   ],
   "source": [
    "i = 10  # which digit we will display\n",
    "plt.figure(figsize=(20, 4))\n",
    "ax = plt.subplot(2, 1, 1)\n",
    "plt.imshow(X_train[i].reshape(28, 28))\n",
    "plt.gray()\n",
    "ax.get_xaxis().set_visible(False)\n",
    "ax.get_yaxis().set_visible(False)\n",
    "plt.show()\n",
    "\n",
    "print(\"Classe : %i\" %y_train[i])\n",
    "y_predicted = cnn1.predict(X_train)\n",
    "print (\"Score prédit pour chaque classe dans l'ordre croissant :\")\n",
    "print(y_predicted[i])\n",
    "print(\"Classe prédite : %i\" %np.argmax(y_predicted[i]))\n"
   ]
  },
  {
   "cell_type": "markdown",
   "metadata": {},
   "source": [
    "### Learning CNNs and comparing with MLPs"
   ]
  },
  {
   "cell_type": "markdown",
   "metadata": {},
   "source": [
    "#### To do\n",
    "\n",
    "1. Understand and calculate parameter numbers of convolution layers\n",
    "It is necessary to understand why you get the numbers of the parameters of the different layers of this network. You will be able to see [this paper (beginning of section 2)](https://arxiv.org/pdf/1412.6806v3.pdf) for some explanations on the formulas of standard convolution layers.\n",
    "    - Why is the first convolution layer defined by only 320 parameters?\n",
    "    - Comment the call to fit, change the size of the filter kernel_size, and stride, and understand why it has an impact on the number of parameters of this layer.\n",
    "    - Calculate the number of parameters of the second convolution layer. And in particular the \"shape\" of the output of this layer.\n",
    "    - Explain the presence of the Flatten layer. Why does it have no parameters?\n",
    "    - Explain why the dense layer located after the MaxPooling layer is defined with 80100 parameters?\n",
    "    - Explain why the layer dense_2 is defined with 1010 parameters?\n",
    "2. Play (a little) with the CNNs \n",
    "    - Modify the network and observe the effect on learning (loss and accuracy)\n",
    "    - Add in the call to fit an additional argument : validation_data = (X_test, Y_test). Restart the fit and observe the performance in generalization (loss and accuracy) as the learning progresses\n",
    "    - Remove the Dropout or modify the Dropout rate and observe the effect on network performance\n",
    "    - Change filter sizes, number of convolution layers, etc.\n"
   ]
  },
  {
   "cell_type": "code",
   "execution_count": 180,
   "metadata": {},
   "outputs": [
    {
     "name": "stdout",
     "output_type": "stream",
     "text": [
      "_________________________________________________________________\n",
      "Layer (type)                 Output Shape              Param #   \n",
      "=================================================================\n",
      "conv2d_180 (Conv2D)          (None, 26, 26, 32)        320       \n",
      "_________________________________________________________________\n",
      "activation_297 (Activation)  (None, 26, 26, 32)        0         \n",
      "_________________________________________________________________\n",
      "max_pooling2d_83 (MaxPooling (None, 13, 13, 32)        0         \n",
      "_________________________________________________________________\n",
      "conv2d_181 (Conv2D)          (None, 11, 11, 32)        9248      \n",
      "_________________________________________________________________\n",
      "activation_298 (Activation)  (None, 11, 11, 32)        0         \n",
      "_________________________________________________________________\n",
      "max_pooling2d_84 (MaxPooling (None, 5, 5, 32)          0         \n",
      "_________________________________________________________________\n",
      "dropout_74 (Dropout)         (None, 5, 5, 32)          0         \n",
      "_________________________________________________________________\n",
      "flatten_40 (Flatten)         (None, 800)               0         \n",
      "_________________________________________________________________\n",
      "dense_85 (Dense)             (None, 100)               80100     \n",
      "_________________________________________________________________\n",
      "activation_299 (Activation)  (None, 100)               0         \n",
      "_________________________________________________________________\n",
      "dropout_75 (Dropout)         (None, 100)               0         \n",
      "_________________________________________________________________\n",
      "dense_86 (Dense)             (None, 10)                1010      \n",
      "_________________________________________________________________\n",
      "activation_300 (Activation)  (None, 10)                0         \n",
      "=================================================================\n",
      "Total params: 90,678\n",
      "Trainable params: 90,678\n",
      "Non-trainable params: 0\n",
      "_________________________________________________________________\n",
      "None\n"
     ]
    }
   ],
   "source": [
    "print(cnn1.summary())"
   ]
  },
  {
   "cell_type": "markdown",
   "metadata": {},
   "source": [
    "#### Question 1.1"
   ]
  },
  {
   "cell_type": "code",
   "execution_count": 181,
   "metadata": {},
   "outputs": [
    {
     "name": "stdout",
     "output_type": "stream",
     "text": [
      "320\n"
     ]
    }
   ],
   "source": [
    "print(3*3*32 + 32)"
   ]
  },
  {
   "cell_type": "markdown",
   "metadata": {},
   "source": [
    "Les 320 paramètres s'expliquent par le nombre de filtres multiplié par la surface du kernel, auquel on ajoute 32 fois 1 qui correspond au 32 paramètres introduits par le biais."
   ]
  },
  {
   "cell_type": "markdown",
   "metadata": {},
   "source": [
    "#### Question 1.2"
   ]
  },
  {
   "cell_type": "code",
   "execution_count": 182,
   "metadata": {},
   "outputs": [
    {
     "name": "stdout",
     "output_type": "stream",
     "text": [
      "_________________________________________________________________\n",
      "Layer (type)                 Output Shape              Param #   \n",
      "=================================================================\n",
      "conv2d_182 (Conv2D)          (None, 24, 25, 32)        672       \n",
      "_________________________________________________________________\n",
      "activation_301 (Activation)  (None, 24, 25, 32)        0         \n",
      "_________________________________________________________________\n",
      "max_pooling2d_85 (MaxPooling (None, 12, 12, 32)        0         \n",
      "_________________________________________________________________\n",
      "conv2d_183 (Conv2D)          (None, 8, 9, 32)          20512     \n",
      "_________________________________________________________________\n",
      "activation_302 (Activation)  (None, 8, 9, 32)          0         \n",
      "_________________________________________________________________\n",
      "max_pooling2d_86 (MaxPooling (None, 4, 4, 32)          0         \n",
      "_________________________________________________________________\n",
      "dropout_76 (Dropout)         (None, 4, 4, 32)          0         \n",
      "_________________________________________________________________\n",
      "flatten_41 (Flatten)         (None, 512)               0         \n",
      "_________________________________________________________________\n",
      "dense_87 (Dense)             (None, 100)               51300     \n",
      "_________________________________________________________________\n",
      "activation_303 (Activation)  (None, 100)               0         \n",
      "_________________________________________________________________\n",
      "dropout_77 (Dropout)         (None, 100)               0         \n",
      "_________________________________________________________________\n",
      "dense_88 (Dense)             (None, 10)                1010      \n",
      "_________________________________________________________________\n",
      "activation_304 (Activation)  (None, 10)                0         \n",
      "=================================================================\n",
      "Total params: 73,494\n",
      "Trainable params: 73,494\n",
      "Non-trainable params: 0\n",
      "_________________________________________________________________\n",
      "None\n"
     ]
    },
    {
     "name": "stderr",
     "output_type": "stream",
     "text": [
      "/users/usrlocal/artieres/.Virtualenvs/ENV2.7/lib/python2.7/site-packages/ipykernel_launcher.py:5: UserWarning: Update your `Conv2D` call to the Keras 2 API: `Conv2D(32, (5, 4), padding=\"valid\", input_shape=(28, 28, 1...)`\n",
      "  \"\"\"\n"
     ]
    }
   ],
   "source": [
    "# number of convolutional filters to use\n",
    "nb_filters = 32\n",
    "# size of pooling area for max pooling\n",
    "pool_size = (2, 2)\n",
    "# convolution kernel size\n",
    "kernel_size = (5, 4)\n",
    "\n",
    "cnn1 = create_modelCNN_Mnist(kernel_size = (5, 4))    \n",
    "print (cnn1.summary())"
   ]
  },
  {
   "cell_type": "code",
   "execution_count": 183,
   "metadata": {},
   "outputs": [
    {
     "name": "stdout",
     "output_type": "stream",
     "text": [
      "672\n"
     ]
    }
   ],
   "source": [
    "print(5*4*32 + 32)"
   ]
  },
  {
   "cell_type": "markdown",
   "metadata": {},
   "source": [
    "Même explication qu'à la question prédécente"
   ]
  },
  {
   "cell_type": "markdown",
   "metadata": {},
   "source": [
    "#### Question 1.3"
   ]
  },
  {
   "cell_type": "code",
   "execution_count": 184,
   "metadata": {},
   "outputs": [
    {
     "name": "stdout",
     "output_type": "stream",
     "text": [
      "9248\n"
     ]
    }
   ],
   "source": [
    "print((32*3*3)*32 + 32)"
   ]
  },
  {
   "cell_type": "markdown",
   "metadata": {},
   "source": [
    "Pour cette deuxième convolution même processus, on fait 32 fois une convolution avec une grille de 9 neurones sur les 32 filtres obtenus à l'issu de la première convolution. Encore une fois, 32 params supplémentaires sont introduits avec le biais."
   ]
  },
  {
   "cell_type": "markdown",
   "metadata": {},
   "source": [
    "#### Question 1.4"
   ]
  },
  {
   "cell_type": "markdown",
   "metadata": {},
   "source": [
    "Pour le flatten layer, on aplatit dans le but de faire une couche dense derrière. Sa shape est de 800, qui correspond à 5*5*32"
   ]
  },
  {
   "cell_type": "markdown",
   "metadata": {},
   "source": [
    "#### Question 1.5"
   ]
  },
  {
   "cell_type": "markdown",
   "metadata": {},
   "source": [
    "Pour le MaxPooling, encore une fois on 800*100 + 100 (biais) résultats sont générés"
   ]
  },
  {
   "cell_type": "markdown",
   "metadata": {},
   "source": [
    "#### Question 1.6"
   ]
  },
  {
   "cell_type": "markdown",
   "metadata": {},
   "source": [
    "100*10 + 10 pour le dense_layer2"
   ]
  },
  {
   "cell_type": "markdown",
   "metadata": {},
   "source": [
    "#### Question 2.1"
   ]
  },
  {
   "cell_type": "markdown",
   "metadata": {},
   "source": [
    "On tente de modifier le network en supprimant quelques layers :"
   ]
  },
  {
   "cell_type": "code",
   "execution_count": 185,
   "metadata": {},
   "outputs": [],
   "source": [
    "def nouveau_create_modelCNN_Mnist(nb_classes =10, nb_filters = 32, pool_size=(2,2), kernel_size = (3,3)):\n",
    "    model1 = Sequential()\n",
    "    model1.add(Convolution2D(nb_filters, kernel_size,\n",
    "                             border_mode='valid',\n",
    "                             input_shape=input_shape))\n",
    "    model1.add(Activation('relu'))\n",
    "    model1.add(MaxPooling2D(pool_size=pool_size))\n",
    "    model1.add(Flatten())\n",
    "    model1.add(Dense(100))\n",
    "    model1.add(Activation('relu'))\n",
    "    model1.add(Dropout(0.5))\n",
    "    model1.add(Dense(nb_classes))\n",
    "    model1.add(Activation('softmax'))\n",
    "\n",
    "    model1.compile(loss='categorical_crossentropy',\n",
    "                   optimizer='adadelta',\n",
    "                   metrics=['accuracy'])\n",
    "    return(model1)"
   ]
  },
  {
   "cell_type": "code",
   "execution_count": 186,
   "metadata": {},
   "outputs": [
    {
     "name": "stderr",
     "output_type": "stream",
     "text": [
      "/users/usrlocal/artieres/.Virtualenvs/ENV2.7/lib/python2.7/site-packages/ipykernel_launcher.py:5: UserWarning: Update your `Conv2D` call to the Keras 2 API: `Conv2D(32, (3, 3), padding=\"valid\", input_shape=(28, 28, 1...)`\n",
      "  \"\"\"\n"
     ]
    },
    {
     "name": "stdout",
     "output_type": "stream",
     "text": [
      "Train on 60000 samples, validate on 10000 samples\n",
      "Epoch 1/1\n",
      "60000/60000 [==============================] - 17s - loss: 0.4611 - acc: 0.8658 - val_loss: 0.1595 - val_acc: 0.9514\n",
      "Test score: 0.159452083945\n",
      "Test accuracy: 0.9514\n"
     ]
    }
   ],
   "source": [
    "cnn1 = nouveau_create_modelCNN_Mnist(kernel_size = (3,3))\n",
    "\n",
    "batch_size = 128\n",
    "nb_epoch= 1\n",
    "\n",
    "WEIGHTS_FNAME = 'Mnist_Cnn_My_weights.hdf'\n",
    "\n",
    "if False and os.path.exists(WEIGHTS_FNAME):\n",
    "    # Just change the True to false to force re-training\n",
    "    print('Loading existing weights')\n",
    "    cnn1.load_weights(WEIGHTS_FNAME)\n",
    "else:\n",
    "    batch_size = 128\n",
    "    nb_epoch = 1\n",
    "    WEIGHTS_FNAME = 'Mnist_Cnn_My_weights.hdf'\n",
    "    cnn1.fit(X_train, Y_train, batch_size=batch_size, nb_epoch=nb_epoch, validation_data = (X_test, Y_test))\n",
    "    cnn1.save_weights(WEIGHTS_FNAME)\n",
    "    \n",
    "score = cnn1.evaluate(X_test, Y_test, verbose=0)\n",
    "print('Test score:', score[0])\n",
    "print('Test accuracy:', score[1])"
   ]
  },
  {
   "cell_type": "markdown",
   "metadata": {},
   "source": [
    "Le score est moins bon !"
   ]
  },
  {
   "cell_type": "markdown",
   "metadata": {},
   "source": [
    "#### Question 2.2"
   ]
  },
  {
   "cell_type": "markdown",
   "metadata": {},
   "source": [
    "On reprend le premier modèle et on ajoute ledit argument au call du fit :"
   ]
  },
  {
   "cell_type": "code",
   "execution_count": 187,
   "metadata": {},
   "outputs": [
    {
     "name": "stderr",
     "output_type": "stream",
     "text": [
      "/users/usrlocal/artieres/.Virtualenvs/ENV2.7/lib/python2.7/site-packages/ipykernel_launcher.py:5: UserWarning: Update your `Conv2D` call to the Keras 2 API: `Conv2D(32, (3, 3), padding=\"valid\", input_shape=(28, 28, 1...)`\n",
      "  \"\"\"\n"
     ]
    },
    {
     "name": "stdout",
     "output_type": "stream",
     "text": [
      "Train on 60000 samples, validate on 10000 samples\n",
      "Epoch 1/1\n",
      "60000/60000 [==============================] - 21s - loss: 0.6306 - acc: 0.7976 - val_loss: 0.1347 - val_acc: 0.9611\n",
      "Test score: 0.134663538911\n",
      "Test accuracy: 0.9611\n"
     ]
    }
   ],
   "source": [
    "cnn1 = create_modelCNN_Mnist(kernel_size = (3,3))\n",
    "\n",
    "batch_size = 128\n",
    "nb_epoch= 1\n",
    "\n",
    "WEIGHTS_FNAME = 'Mnist_Cnn_My_weights.hdf'\n",
    "\n",
    "if False and os.path.exists(WEIGHTS_FNAME):\n",
    "    # Just change the True to false to force re-training\n",
    "    print('Loading existing weights')\n",
    "    cnn1.load_weights(WEIGHTS_FNAME)\n",
    "else:\n",
    "    batch_size = 128\n",
    "    nb_epoch = 1\n",
    "    WEIGHTS_FNAME = 'Mnist_Cnn_My_weights.hdf'\n",
    "    cnn1.fit(X_train, Y_train, batch_size=batch_size, nb_epoch=nb_epoch, validation_data = (X_test, Y_test))\n",
    "    cnn1.save_weights(WEIGHTS_FNAME)\n",
    "    \n",
    "score = cnn1.evaluate(X_test, Y_test, verbose=0)\n",
    "print('Test score:', score[0])\n",
    "print('Test accuracy:', score[1])"
   ]
  },
  {
   "cell_type": "markdown",
   "metadata": {},
   "source": [
    "On observe un léger mieux avec ce nouvel argument"
   ]
  },
  {
   "cell_type": "markdown",
   "metadata": {},
   "source": [
    "#### Question 2.3"
   ]
  },
  {
   "cell_type": "code",
   "execution_count": 188,
   "metadata": {},
   "outputs": [],
   "source": [
    "def create_modelCNN_Mnist(nb_classes =10, nb_filters = 32, pool_size=(2,2), kernel_size = (3,3), drop = 0.5):\n",
    "    model1 = Sequential()\n",
    "    model1.add(Convolution2D(nb_filters, kernel_size,\n",
    "                             border_mode='valid',\n",
    "                             input_shape=input_shape))\n",
    "    model1.add(Activation('relu'))\n",
    "    model1.add(MaxPooling2D(pool_size=pool_size))\n",
    "    model1.add(Convolution2D(nb_filters, kernel_size))\n",
    "    model1.add(Activation('relu'))\n",
    "    model1.add(MaxPooling2D(pool_size=pool_size))\n",
    "    model1.add(Dropout(drop))\n",
    "\n",
    "    model1.add(Flatten())\n",
    "    model1.add(Dense(100))\n",
    "    model1.add(Activation('relu'))\n",
    "    model1.add(Dropout(drop))\n",
    "    model1.add(Dense(nb_classes))\n",
    "    model1.add(Activation('softmax'))\n",
    "\n",
    "    model1.compile(loss='categorical_crossentropy',\n",
    "                   optimizer='adadelta',\n",
    "                   metrics=['accuracy'])\n",
    "    return(model1)"
   ]
  },
  {
   "cell_type": "code",
   "execution_count": 189,
   "metadata": {},
   "outputs": [
    {
     "name": "stderr",
     "output_type": "stream",
     "text": [
      "/users/usrlocal/artieres/.Virtualenvs/ENV2.7/lib/python2.7/site-packages/ipykernel_launcher.py:5: UserWarning: Update your `Conv2D` call to the Keras 2 API: `Conv2D(32, (3, 3), padding=\"valid\", input_shape=(28, 28, 1...)`\n",
      "  \"\"\"\n"
     ]
    },
    {
     "name": "stdout",
     "output_type": "stream",
     "text": [
      "Train on 60000 samples, validate on 10000 samples\n",
      "Epoch 1/1\n",
      "60000/60000 [==============================] - 21s - loss: 2.3033 - acc: 0.1239 - val_loss: 2.2121 - val_acc: 0.5215\n",
      "Test score: 2.21207227097\n",
      "Test accuracy: 0.5215\n"
     ]
    }
   ],
   "source": [
    "cnn1 = create_modelCNN_Mnist(drop = 0.9)\n",
    "\n",
    "batch_size = 128\n",
    "nb_epoch= 1\n",
    "\n",
    "WEIGHTS_FNAME = 'Mnist_Cnn_My_weights.hdf'\n",
    "\n",
    "if False and os.path.exists(WEIGHTS_FNAME):\n",
    "    # Just change the True to false to force re-training\n",
    "    print('Loading existing weights')\n",
    "    cnn1.load_weights(WEIGHTS_FNAME)\n",
    "else:\n",
    "    batch_size = 128\n",
    "    nb_epoch = 1\n",
    "    WEIGHTS_FNAME = 'Mnist_Cnn_My_weights.hdf'\n",
    "    cnn1.fit(X_train, Y_train, batch_size=batch_size, nb_epoch=nb_epoch, validation_data = (X_test, Y_test))\n",
    "    cnn1.save_weights(WEIGHTS_FNAME)\n",
    "    \n",
    "score = cnn1.evaluate(X_test, Y_test, verbose=0)\n",
    "print('Test score:', score[0])\n",
    "print('Test accuracy:', score[1])"
   ]
  },
  {
   "cell_type": "markdown",
   "metadata": {},
   "source": [
    "Bien évidemment, une grosse chute du score avec un gros dropout"
   ]
  },
  {
   "cell_type": "markdown",
   "metadata": {},
   "source": [
    "## 3. CNN autoencoder for visualization "
   ]
  },
  {
   "cell_type": "markdown",
   "metadata": {},
   "source": [
    "### Example of convolution autoencoder\n",
    "\n",
    "\n",
    "* Vous trouverez ci dessous un exemple d'autoencoder convolutionnel emprunté ici: https://blog.keras.io/building-autoencoders-in-keras.html \n",
    " "
   ]
  },
  {
   "cell_type": "code",
   "execution_count": 190,
   "metadata": {},
   "outputs": [],
   "source": [
    "from keras.layers import Input, Dense, Conv2D, MaxPooling2D, UpSampling2D, Reshape\n",
    "from keras.models import Model\n",
    "from keras import backend as K\n",
    "\n",
    "input_img = Input(shape=(28, 28, 1))  # adapt this if using `channels_first` image data format\n",
    "\n",
    "x = Conv2D(16, (3, 3), activation='relu', padding='same')(input_img)\n",
    "x = MaxPooling2D((2, 2), padding='same')(x)\n",
    "x = Conv2D(8, (3, 3), activation='relu', padding='same')(x)\n",
    "x = MaxPooling2D((2, 2), padding='same')(x)\n",
    "x = Conv2D(8, (3, 3), activation='relu', padding='same')(x)\n",
    "encoded = MaxPooling2D((2, 2), padding='same')(x)\n",
    "\n",
    "# at this point the representation is (4, 4, 8) i.e. 128-dimensional\n",
    "\n",
    "x = Conv2D(8, (3, 3), activation='relu', padding='same')(encoded)\n",
    "x = UpSampling2D((2, 2))(x)\n",
    "x = Conv2D(8, (3, 3), activation='relu', padding='same')(x)\n",
    "x = UpSampling2D((2, 2))(x)\n",
    "x = Conv2D(16, (3, 3), activation='relu')(x)\n",
    "x = UpSampling2D((2, 2))(x)\n",
    "decoded = Conv2D(1, (3, 3), activation='sigmoid', padding='same')(x)\n",
    "\n",
    "autoencoder = Model(input_img, decoded)\n",
    "autoencoder.compile(optimizer='adadelta', loss='binary_crossentropy')"
   ]
  },
  {
   "cell_type": "markdown",
   "metadata": {},
   "source": [
    "### Using a convolutional autoencoder to visualize data\n",
    "\n",
    "#### To do\n",
    "\n",
    "* Explain the architecture of the deep autoencoder and in particular how the decoder is built \n",
    "* Modify the above autoencoder architecture to allow projecting data in a 2 dimensional space.\n",
    "* Project Mnist data using the deep convolutional autoencoder and plot the projections\n",
    "\n",
    "\n"
   ]
  },
  {
   "cell_type": "markdown",
   "metadata": {},
   "source": []
  },
  {
   "cell_type": "code",
   "execution_count": 191,
   "metadata": {},
   "outputs": [],
   "source": [
    "from keras.layers import Input, Dense, Conv2D, MaxPooling2D, UpSampling2D, Reshape\n",
    "from keras.models import Model\n",
    "from keras import backend as K\n",
    "\n",
    "input_img = Input(shape=(28, 28, 1))  # adapt this if using `channels_first` image data format\n",
    "\n",
    "x = Conv2D(16, (3, 3), activation='relu', padding='same')(input_img)\n",
    "x = MaxPooling2D((2, 2), padding='same')(x)\n",
    "x = Conv2D(8, (3, 3), activation='relu', padding='same')(x)\n",
    "x = MaxPooling2D((2, 2), padding='same')(x)\n",
    "x = Conv2D(8, (3, 3), activation='relu', padding='same')(x)\n",
    "x = MaxPooling2D((2, 2), padding='same')(x)\n",
    "\n",
    "x = Flatten()(x)\n",
    "encoded = Dense(2)(x)\n",
    "\n",
    "x = Dense(128)(encoded)\n",
    "x = Reshape((4, 4, 8))(x)\n",
    "\n",
    "x = Conv2D(8, (3, 3), activation='relu', padding='same')(x)\n",
    "x = UpSampling2D((2, 2))(x)\n",
    "x = Conv2D(8, (3, 3), activation='relu', padding='same')(x)\n",
    "x = UpSampling2D((2, 2))(x)\n",
    "x = Conv2D(16, (3, 3), activation='relu')(x)\n",
    "x = UpSampling2D((2, 2))(x)\n",
    "decoded = Conv2D(1, (3, 3), activation='sigmoid', padding='same')(x)\n",
    "\n",
    "autoencoder = Model(input_img, decoded)\n",
    "autoencoder.compile(optimizer='adadelta', loss='binary_crossentropy')"
   ]
  },
  {
   "cell_type": "code",
   "execution_count": 192,
   "metadata": {},
   "outputs": [
    {
     "name": "stdout",
     "output_type": "stream",
     "text": [
      "_________________________________________________________________\n",
      "Layer (type)                 Output Shape              Param #   \n",
      "=================================================================\n",
      "input_7 (InputLayer)         (None, 28, 28, 1)         0         \n",
      "_________________________________________________________________\n",
      "conv2d_196 (Conv2D)          (None, 28, 28, 16)        160       \n",
      "_________________________________________________________________\n",
      "max_pooling2d_95 (MaxPooling (None, 14, 14, 16)        0         \n",
      "_________________________________________________________________\n",
      "conv2d_197 (Conv2D)          (None, 14, 14, 8)         1160      \n",
      "_________________________________________________________________\n",
      "max_pooling2d_96 (MaxPooling (None, 7, 7, 8)           0         \n",
      "_________________________________________________________________\n",
      "conv2d_198 (Conv2D)          (None, 7, 7, 8)           584       \n",
      "_________________________________________________________________\n",
      "max_pooling2d_97 (MaxPooling (None, 4, 4, 8)           0         \n",
      "_________________________________________________________________\n",
      "flatten_45 (Flatten)         (None, 128)               0         \n",
      "_________________________________________________________________\n",
      "dense_95 (Dense)             (None, 2)                 258       \n",
      "_________________________________________________________________\n",
      "dense_96 (Dense)             (None, 128)               384       \n",
      "_________________________________________________________________\n",
      "reshape_2 (Reshape)          (None, 4, 4, 8)           0         \n",
      "_________________________________________________________________\n",
      "conv2d_199 (Conv2D)          (None, 4, 4, 8)           584       \n",
      "_________________________________________________________________\n",
      "up_sampling2d_10 (UpSampling (None, 8, 8, 8)           0         \n",
      "_________________________________________________________________\n",
      "conv2d_200 (Conv2D)          (None, 8, 8, 8)           584       \n",
      "_________________________________________________________________\n",
      "up_sampling2d_11 (UpSampling (None, 16, 16, 8)         0         \n",
      "_________________________________________________________________\n",
      "conv2d_201 (Conv2D)          (None, 14, 14, 16)        1168      \n",
      "_________________________________________________________________\n",
      "up_sampling2d_12 (UpSampling (None, 28, 28, 16)        0         \n",
      "_________________________________________________________________\n",
      "conv2d_202 (Conv2D)          (None, 28, 28, 1)         145       \n",
      "=================================================================\n",
      "Total params: 5,027\n",
      "Trainable params: 5,027\n",
      "Non-trainable params: 0\n",
      "_________________________________________________________________\n",
      "None\n"
     ]
    }
   ],
   "source": [
    "print (autoencoder.summary())"
   ]
  },
  {
   "cell_type": "code",
   "execution_count": 193,
   "metadata": {},
   "outputs": [
    {
     "name": "stdout",
     "output_type": "stream",
     "text": [
      "Train on 60000 samples, validate on 10000 samples\n",
      "Epoch 1/3\n",
      "60000/60000 [==============================] - 57s - loss: 0.2722 - val_loss: 0.2413\n",
      "Epoch 2/3\n",
      "60000/60000 [==============================] - 55s - loss: 0.2396 - val_loss: 0.2348\n",
      "Epoch 3/3\n",
      "60000/60000 [==============================] - 55s - loss: 0.2338 - val_loss: 0.2292\n"
     ]
    },
    {
     "data": {
      "text/plain": [
       "<keras.callbacks.History at 0x7f1b5564ba10>"
      ]
     },
     "execution_count": 193,
     "metadata": {},
     "output_type": "execute_result"
    }
   ],
   "source": [
    "autoencoder.fit(X_train, X_train,\n",
    "                epochs=3,\n",
    "                batch_size=128,\n",
    "                shuffle=True,\n",
    "                validation_data=(X_test, X_test))"
   ]
  },
  {
   "cell_type": "markdown",
   "metadata": {},
   "source": [
    "Affichons les reconstructions des images avec ce nouvel autoencoder"
   ]
  },
  {
   "cell_type": "code",
   "execution_count": 194,
   "metadata": {},
   "outputs": [
    {
     "data": {
      "image/png": "[encoded data removed]",
      "text/plain": [
       "<matplotlib.figure.Figure at 0x7f1b55130150>"
      ]
     },
     "metadata": {},
     "output_type": "display_data"
    }
   ],
   "source": [
    "decoded_imgs = autoencoder.predict(X_test)\n",
    "\n",
    "n = 10\n",
    "plt.figure(figsize=(20, 4))\n",
    "for i in range(1, n):\n",
    "    # display original\n",
    "    ax = plt.subplot(2, n, i)\n",
    "    plt.imshow(X_test[i].reshape(28, 28))\n",
    "    plt.gray()\n",
    "    ax.get_xaxis().set_visible(False)\n",
    "    ax.get_yaxis().set_visible(False)\n",
    "\n",
    "    # display reconstruction\n",
    "    ax = plt.subplot(2, n, i + n)\n",
    "    plt.imshow(decoded_imgs[i].reshape(28, 28))\n",
    "    plt.gray()\n",
    "    ax.get_xaxis().set_visible(False)\n",
    "    ax.get_yaxis().set_visible(False)\n",
    "\n",
    "plt.show()"
   ]
  },
  {
   "cell_type": "markdown",
   "metadata": {},
   "source": [
    "Affichons également le résultat en 2D renvoyé par l'autoencoder, comme nous avons pu le faire au TP précédent"
   ]
  },
  {
   "cell_type": "code",
   "execution_count": 195,
   "metadata": {},
   "outputs": [],
   "source": [
    "encoder = Model(input_img, encoded)"
   ]
  },
  {
   "cell_type": "code",
   "execution_count": 196,
   "metadata": {},
   "outputs": [
    {
     "data": {
      "image/png": "[encoded data removed]",
      "text/plain": [
       "<matplotlib.figure.Figure at 0x7f1b53b5d510>"
      ]
     },
     "metadata": {},
     "output_type": "display_data"
    }
   ],
   "source": [
    "x_test_encoded = encoder.predict(X_test, batch_size=batch_size)\n",
    "plt.figure(figsize=(6, 6))\n",
    "plt.scatter(x_test_encoded[:, 0], x_test_encoded[:, 1], c=y_test, cmap=plt.cm.RdYlGn)\n",
    "plt.colorbar()\n",
    "plt.show()"
   ]
  },
  {
   "cell_type": "markdown",
   "metadata": {},
   "source": [
    "## 4. Visualizing network's filters\n",
    "\n",
    "Part of the code below comes from [explanations](https://blog.keras.io/how-convolutional-neural-networks-see-the-world.html) and [code](https://github.com/fchollet/keras/blob/master/examples/conv_filter_visualization.py) from F. Chollet   \n",
    "\n",
    "You may also read (if you are strongly interested in discovering what your deep network has learned) [this paper](http://www.dumitru.ca/files/publications/invariances_techreport.pdf)\n",
    "\n",
    "First we create the same network as above while naming the layers (more confortable) using : name =\"....\""
   ]
  },
  {
   "cell_type": "code",
   "execution_count": 197,
   "metadata": {},
   "outputs": [
    {
     "name": "stdout",
     "output_type": "stream",
     "text": [
      "_________________________________________________________________\n",
      "Layer (type)                 Output Shape              Param #   \n",
      "=================================================================\n",
      "Conv1 (Conv2D)               (None, 24, 25, 32)        672       \n",
      "_________________________________________________________________\n",
      "Conv1Relu (Activation)       (None, 24, 25, 32)        0         \n",
      "_________________________________________________________________\n",
      "Conv2 (Conv2D)               (None, 20, 22, 32)        20512     \n",
      "_________________________________________________________________\n",
      "Conv2Relu (Activation)       (None, 20, 22, 32)        0         \n",
      "_________________________________________________________________\n",
      "Pool2 (MaxPooling2D)         (None, 10, 11, 32)        0         \n",
      "_________________________________________________________________\n",
      "dropout_83 (Dropout)         (None, 10, 11, 32)        0         \n",
      "_________________________________________________________________\n",
      "flatten_46 (Flatten)         (None, 3520)              0         \n",
      "_________________________________________________________________\n",
      "Dense1 (Dense)               (None, 100)               352100    \n",
      "_________________________________________________________________\n",
      "dropout_84 (Dropout)         (None, 100)               0         \n",
      "_________________________________________________________________\n",
      "Dense2 (Dense)               (None, 10)                1010      \n",
      "=================================================================\n",
      "Total params: 374,294\n",
      "Trainable params: 374,294\n",
      "Non-trainable params: 0\n",
      "_________________________________________________________________\n",
      "None\n"
     ]
    },
    {
     "name": "stderr",
     "output_type": "stream",
     "text": [
      "/users/usrlocal/artieres/.Virtualenvs/ENV2.7/lib/python2.7/site-packages/ipykernel_launcher.py:5: UserWarning: Update your `Conv2D` call to the Keras 2 API: `Conv2D(32, (5, 4), padding=\"valid\", input_shape=(28, 28, 1..., name=\"Conv1\")`\n",
      "  \"\"\"\n"
     ]
    }
   ],
   "source": [
    "model = Sequential()\n",
    "\n",
    "model.add(Convolution2D(nb_filters, kernel_size, name = \"Conv1\",\n",
    "                        border_mode='valid',\n",
    "                        input_shape=input_shape))\n",
    "model.add(Activation('relu', name=\"Conv1Relu\"))\n",
    "model.add(Convolution2D(nb_filters, kernel_size, name = \"Conv2\"))\n",
    "model.add(Activation('relu', name=\"Conv2Relu\"))\n",
    "model.add(MaxPooling2D(pool_size=pool_size, name = \"Pool2\"))\n",
    "model.add(Dropout(0.25))\n",
    "\n",
    "model.add(Flatten())\n",
    "model.add(Dense(100, activation='relu', name = \"Dense1\"))\n",
    "model.add(Dropout(0.5))\n",
    "model.add(Dense(nb_classes, activation='softmax', name = \"Dense2\"))\n",
    "#model.add(Activation('softmax'))\n",
    "\n",
    "model.compile(loss='categorical_crossentropy',\n",
    "              optimizer='adadelta',\n",
    "              metrics=['accuracy'])\n",
    "\n",
    "print (model.summary())\n"
   ]
  },
  {
   "cell_type": "markdown",
   "metadata": {},
   "source": [
    "### Visualizing the filter weights\n",
    "\n",
    "\n",
    "Le code utilisé ici est emprunté pour majeure partie à http://bookcode.polossk.com/Deep-Learning-Notebook/html/note01-mnist-cnn.html."
   ]
  },
  {
   "cell_type": "code",
   "execution_count": 198,
   "metadata": {},
   "outputs": [
    {
     "name": "stdout",
     "output_type": "stream",
     "text": [
      "_________________________________________________________________\n",
      "Layer (type)                 Output Shape              Param #   \n",
      "=================================================================\n",
      "conv2d_203 (Conv2D)          (None, 26, 26, 32)        320       \n",
      "_________________________________________________________________\n",
      "activation_316 (Activation)  (None, 26, 26, 32)        0         \n",
      "_________________________________________________________________\n",
      "max_pooling2d_98 (MaxPooling (None, 13, 13, 32)        0         \n",
      "_________________________________________________________________\n",
      "conv2d_204 (Conv2D)          (None, 11, 11, 32)        9248      \n",
      "_________________________________________________________________\n",
      "activation_317 (Activation)  (None, 11, 11, 32)        0         \n",
      "_________________________________________________________________\n",
      "max_pooling2d_99 (MaxPooling (None, 5, 5, 32)          0         \n",
      "_________________________________________________________________\n",
      "dropout_85 (Dropout)         (None, 5, 5, 32)          0         \n",
      "_________________________________________________________________\n",
      "flatten_47 (Flatten)         (None, 800)               0         \n",
      "_________________________________________________________________\n",
      "dense_97 (Dense)             (None, 100)               80100     \n",
      "_________________________________________________________________\n",
      "activation_318 (Activation)  (None, 100)               0         \n",
      "_________________________________________________________________\n",
      "dropout_86 (Dropout)         (None, 100)               0         \n",
      "_________________________________________________________________\n",
      "dense_98 (Dense)             (None, 10)                1010      \n",
      "_________________________________________________________________\n",
      "activation_319 (Activation)  (None, 10)                0         \n",
      "=================================================================\n",
      "Total params: 90,678\n",
      "Trainable params: 90,678\n",
      "Non-trainable params: 0\n",
      "_________________________________________________________________\n",
      "None\n"
     ]
    },
    {
     "name": "stderr",
     "output_type": "stream",
     "text": [
      "/users/usrlocal/artieres/.Virtualenvs/ENV2.7/lib/python2.7/site-packages/ipykernel_launcher.py:5: UserWarning: Update your `Conv2D` call to the Keras 2 API: `Conv2D(32, (3, 3), padding=\"valid\", input_shape=(28, 28, 1...)`\n",
      "  \"\"\"\n"
     ]
    }
   ],
   "source": [
    "cnn1 = create_modelCNN_Mnist()    \n",
    "print (cnn1.summary())"
   ]
  },
  {
   "cell_type": "code",
   "execution_count": 199,
   "metadata": {},
   "outputs": [
    {
     "name": "stdout",
     "output_type": "stream",
     "text": [
      "Train on 60000 samples, validate on 10000 samples\n",
      "Epoch 1/1\n",
      "60000/60000 [==============================] - 21s - loss: 0.6604 - acc: 0.7858 - val_loss: 0.1355 - val_acc: 0.9602\n",
      "Test score: 0.135462748244\n",
      "Test accuracy: 0.9602\n"
     ]
    }
   ],
   "source": [
    "batch_size = 128\n",
    "nb_epoch= 1\n",
    "\n",
    "WEIGHTS_FNAME = 'Mnist_Cnn_My_weights.hdf'\n",
    "\n",
    "if False and os.path.exists(WEIGHTS_FNAME):\n",
    "    # Just change the True to false to force re-training\n",
    "    print('Loading existing weights')\n",
    "    cnn1.load_weights(WEIGHTS_FNAME)\n",
    "else:\n",
    "    batch_size = 128\n",
    "    nb_epoch = 1\n",
    "    WEIGHTS_FNAME = 'Mnist_Cnn_My_weights.hdf'\n",
    "    cnn1.fit(X_train, Y_train, batch_size=batch_size, nb_epoch=nb_epoch,\n",
    "               validation_data=(X_test, Y_test))\n",
    "    cnn1.save_weights(WEIGHTS_FNAME)\n",
    "    \n",
    "score = cnn1.evaluate(X_test, Y_test, verbose=0)\n",
    "print('Test score:', score[0])\n",
    "print('Test accuracy:', score[1])\n"
   ]
  },
  {
   "cell_type": "code",
   "execution_count": 200,
   "metadata": {},
   "outputs": [],
   "source": [
    "from __future__ import absolute_import\n",
    "from __future__ import print_function\n",
    "import pylab as pl\n",
    "import matplotlib.cm as cm\n",
    "from keras import backend as K \n",
    "%matplotlib inline"
   ]
  },
  {
   "cell_type": "code",
   "execution_count": 201,
   "metadata": {},
   "outputs": [
    {
     "name": "stdout",
     "output_type": "stream",
     "text": [
      "label :  [ 0.  0.  0.  0.  0.  1.  0.  0.  0.  0.]\n"
     ]
    },
    {
     "data": {
      "image/png": "[encoded data removed]",
      "text/plain": [
       "<matplotlib.figure.Figure at 0x7f1b51298d90>"
      ]
     },
     "metadata": {},
     "output_type": "display_data"
    }
   ],
   "source": [
    "i = 4600\n",
    "pl.imshow(X_train[i, :,: ,0], interpolation='nearest', cmap=cm.binary)\n",
    "print(\"label : \", Y_train[i,:])"
   ]
  },
  {
   "cell_type": "code",
   "execution_count": 202,
   "metadata": {},
   "outputs": [
    {
     "name": "stdout",
     "output_type": "stream",
     "text": [
      "_________________________________________________________________\n",
      "Layer (type)                 Output Shape              Param #   \n",
      "=================================================================\n",
      "conv2d_203 (Conv2D)          (None, 26, 26, 32)        320       \n",
      "_________________________________________________________________\n",
      "activation_316 (Activation)  (None, 26, 26, 32)        0         \n",
      "_________________________________________________________________\n",
      "max_pooling2d_98 (MaxPooling (None, 13, 13, 32)        0         \n",
      "_________________________________________________________________\n",
      "conv2d_204 (Conv2D)          (None, 11, 11, 32)        9248      \n",
      "_________________________________________________________________\n",
      "activation_317 (Activation)  (None, 11, 11, 32)        0         \n",
      "_________________________________________________________________\n",
      "max_pooling2d_99 (MaxPooling (None, 5, 5, 32)          0         \n",
      "_________________________________________________________________\n",
      "dropout_85 (Dropout)         (None, 5, 5, 32)          0         \n",
      "_________________________________________________________________\n",
      "flatten_47 (Flatten)         (None, 800)               0         \n",
      "_________________________________________________________________\n",
      "dense_97 (Dense)             (None, 100)               80100     \n",
      "_________________________________________________________________\n",
      "activation_318 (Activation)  (None, 100)               0         \n",
      "_________________________________________________________________\n",
      "dropout_86 (Dropout)         (None, 100)               0         \n",
      "_________________________________________________________________\n",
      "dense_98 (Dense)             (None, 10)                1010      \n",
      "_________________________________________________________________\n",
      "activation_319 (Activation)  (None, 10)                0         \n",
      "=================================================================\n",
      "Total params: 90,678\n",
      "Trainable params: 90,678\n",
      "Non-trainable params: 0\n",
      "_________________________________________________________________\n",
      "None\n",
      "[[  2.11040198e-04   2.52008558e-05   9.98034418e-01   4.15819901e-04\n",
      "    1.27316298e-06   8.32988644e-06   8.77682003e-04   4.17043196e-07\n",
      "    4.25800943e-04   3.28619478e-08]\n",
      " [  7.93435247e-05   9.97516036e-01   3.39029764e-04   6.58104109e-05\n",
      "    5.35179803e-04   1.26885006e-05   2.87101459e-04   6.70499983e-04\n",
      "    4.36197617e-04   5.81148233e-05]\n",
      " [  9.97620642e-01   3.28909721e-07   3.49183247e-05   2.73398973e-06\n",
      "    1.22327165e-05   1.23606515e-04   2.02470087e-03   7.58772367e-05\n",
      "    2.52176396e-05   7.96851382e-05]\n",
      " [  5.93543591e-05   2.75618077e-05   5.24581264e-05   2.18732953e-06\n",
      "    9.89156008e-01   9.21816627e-06   8.49293792e-05   7.29836538e-05\n",
      "    3.05883150e-05   1.05047561e-02]]\n",
      "[[ 0.  0.  1.  0.  0.  0.  0.  0.  0.  0.]\n",
      " [ 0.  1.  0.  0.  0.  0.  0.  0.  0.  0.]\n",
      " [ 1.  0.  0.  0.  0.  0.  0.  0.  0.  0.]\n",
      " [ 0.  0.  0.  0.  1.  0.  0.  0.  0.  0.]]\n"
     ]
    }
   ],
   "source": [
    "print(cnn1.summary())\n",
    "print(cnn1.predict(X_test[1:5]))\n",
    "print(Y_test[1:5])"
   ]
  },
  {
   "cell_type": "code",
   "execution_count": 203,
   "metadata": {},
   "outputs": [
    {
     "name": "stdout",
     "output_type": "stream",
     "text": [
      "<keras.layers.convolutional.Conv2D object at 0x7f1b514966d0>\n"
     ]
    }
   ],
   "source": [
    "convout1_f = K.function([cnn1.layers[0].input], [cnn1.layers[1].output])\n",
    "convout2_f = K.function([cnn1.layers[0].input], [cnn1.layers[2].output])\n",
    "print (cnn1.layers[3])\n"
   ]
  },
  {
   "cell_type": "code",
   "execution_count": 204,
   "metadata": {},
   "outputs": [],
   "source": [
    "# utility functions\n",
    "from mpl_toolkits.axes_grid1 import make_axes_locatable\n",
    "\n",
    "def nice_imshow(ax, data, vmin=None, vmax=None, cmap=None):\n",
    "    \"\"\"Wrapper around pl.imshow\"\"\"\n",
    "    if cmap is None:\n",
    "        cmap = cm.jet\n",
    "    if vmin is None:\n",
    "        vmin = data.min()\n",
    "    if vmax is None:\n",
    "        vmax = data.max()\n",
    "    divider = make_axes_locatable(ax)\n",
    "    cax = divider.append_axes(\"right\", size=\"5%\", pad=0.05)\n",
    "    im = ax.imshow(data, vmin=vmin, vmax=vmax, interpolation='nearest', cmap=cmap)\n",
    "    pl.colorbar(im, cax=cax)"
   ]
  },
  {
   "cell_type": "code",
   "execution_count": 205,
   "metadata": {},
   "outputs": [
    {
     "name": "stdout",
     "output_type": "stream",
     "text": [
      "(1, 28, 28, 1)\n"
     ]
    },
    {
     "data": {
      "image/png": "[encoded data removed]",
      "text/plain": [
       "<matplotlib.figure.Figure at 0x7f1b51298850>"
      ]
     },
     "metadata": {},
     "output_type": "display_data"
    }
   ],
   "source": [
    "i = 4600\n",
    "\n",
    "# Visualize the first layer of convolutions on an input image\n",
    "X = X_test[i:i+1, : ,: ,:]\n",
    "print (X.shape)\n",
    "pl.figure()\n",
    "pl.title('input')\n",
    "nice_imshow(pl.gca(), np.squeeze(X), vmin=0, vmax=1, cmap=cm.binary)"
   ]
  },
  {
   "cell_type": "code",
   "execution_count": 206,
   "metadata": {},
   "outputs": [],
   "source": [
    "import numpy.ma as ma\n",
    "def make_mosaic(imgs, nrows, ncols, border=1):\n",
    "    \"\"\"\n",
    "    Given a set of images with all the same shape, makes a\n",
    "    mosaic with nrows and ncols\n",
    "    \"\"\"\n",
    "    nimgs = imgs.shape[2]\n",
    "    imshape = imgs.shape[0:2]\n",
    "    \n",
    "    mosaic = ma.masked_all((nrows * imshape[0] + (nrows - 1) * border,\n",
    "                            ncols * imshape[1] + (ncols - 1) * border),\n",
    "                            dtype=np.float32)\n",
    "    \n",
    "    paddedh = imshape[0] + border\n",
    "    paddedw = imshape[1] + border\n",
    "    for i in xrange(nimgs):\n",
    "        row = int(np.floor(i / ncols))\n",
    "        col = i % ncols\n",
    "        \n",
    "        mosaic[row * paddedh:row * paddedh + imshape[0],\n",
    "               col * paddedw:col * paddedw + imshape[1]] = imgs[:,:, i]\n",
    "    return mosaic\n",
    "\n",
    "#pl.imshow(make_mosaic(np.random.random((9, 10, 10)), 3, 3, border=1))"
   ]
  },
  {
   "cell_type": "code",
   "execution_count": 207,
   "metadata": {},
   "outputs": [
    {
     "name": "stdout",
     "output_type": "stream",
     "text": [
      "W shape :  (3, 3, 32)\n"
     ]
    },
    {
     "data": {
      "image/png": "[encoded data removed]",
      "text/plain": [
       "<matplotlib.figure.Figure at 0x7f1b50d87f50>"
      ]
     },
     "metadata": {},
     "output_type": "display_data"
    }
   ],
   "source": [
    "# Visualize weight\n",
    "W = cnn1.get_weights()[0]\n",
    "#W = model.layers[0].W.get_value(borrow=True)\n",
    "W = np.squeeze(W)\n",
    "print(\"W shape : \", W.shape)\n",
    "\n",
    "\n",
    "pl.figure(figsize=(15, 15))\n",
    "pl.title('conv1 weights')\n",
    "nice_imshow(pl.gca(), make_mosaic(W, 6, 6), cmap=cm.binary)"
   ]
  },
  {
   "cell_type": "code",
   "execution_count": 208,
   "metadata": {},
   "outputs": [
    {
     "name": "stdout",
     "output_type": "stream",
     "text": [
      "C1 shape :  (26, 26, 32)\n"
     ]
    },
    {
     "data": {
      "image/png": "[encoded data removed]",
      "text/plain": [
       "<matplotlib.figure.Figure at 0x7f1b50c46690>"
      ]
     },
     "metadata": {},
     "output_type": "display_data"
    }
   ],
   "source": [
    "# Visualize convolution result (after activation)\n",
    "C1 = convout1_f([X])\n",
    "C1 = np.squeeze([C1])\n",
    "print(\"C1 shape : \", C1.shape)\n",
    "\n",
    "pl.figure(figsize=(15, 15))\n",
    "pl.suptitle('convout1')\n",
    "nice_imshow(pl.gca(), make_mosaic(C1, 6, 6), cmap=cm.binary)"
   ]
  },
  {
   "cell_type": "code",
   "execution_count": 209,
   "metadata": {},
   "outputs": [
    {
     "name": "stdout",
     "output_type": "stream",
     "text": [
      "C2 shape :  (13, 13, 32)\n"
     ]
    },
    {
     "data": {
      "image/png": "[encoded data removed]",
      "text/plain": [
       "<matplotlib.figure.Figure at 0x7f1b50ba3790>"
      ]
     },
     "metadata": {},
     "output_type": "display_data"
    }
   ],
   "source": [
    "# Visualize convolution result (after activation)\n",
    "C2 = convout2_f([X])\n",
    "C2 = np.squeeze([C2])\n",
    "print(\"C2 shape : \", C2.shape)\n",
    "\n",
    "pl.figure(figsize=(15, 15))\n",
    "pl.suptitle('convout2')\n",
    "nice_imshow(pl.gca(), make_mosaic(C2, 6, 6), cmap=cm.binary)"
   ]
  },
  {
   "cell_type": "markdown",
   "metadata": {},
   "source": [
    "### Finding optimal stimulus for a hidden filter (Facultative part) "
   ]
  },
  {
   "cell_type": "markdown",
   "metadata": {},
   "source": [
    "#### Understanding what does a filter ( a neuron in a particular layer, hidden or output) by looking at the input image that activates it most"
   ]
  },
  {
   "cell_type": "markdown",
   "metadata": {},
   "source": [
    "#### To do \n",
    "\n",
    "Using procedures of TP2 define functions that will allow you to find the input that maximizes a given hidden cell of a specified hidden layer by gradient ascent."
   ]
  },
  {
   "cell_type": "markdown",
   "metadata": {},
   "source": [
    "## Utilisation de réseaux préentrainés \n",
    "\n",
    "### To do \n",
    "\n",
    "En vous aidant d'exemples (voir la page  https://keras.io/applications/#usage-examples-for-image-classification-models) écrivez le code nécessaire pour appliquer un modèle existant appris sur la base de données Imagenet (parmi les modèles ResNet50, InceptionV3, Xception, VGG16), en récupérant les architectures et les poids des modèles, sur des images que vous récupererez sur internet. Vous devez écrire une fonction qui, pour une image donnée, affiche les prédictions de deux ou trois des modèles ci-dessus.\n",
    " \n",
    "A noter que le preprocessing a appliquer est différent suivant le modèle. Il s'agit de preprocess_input de keras.applications.inception_v3 ou de keras.applications.imagenet_utils selon les cas.\n",
    "\n",
    "A noter également que tous les modèles ci dessus opèrent sur des images au format (224,224) sauf InceptionV3 et Xception considèrent des images au format (229, 229).\n"
   ]
  },
  {
   "cell_type": "markdown",
   "metadata": {},
   "source": [
    "### ResNet50"
   ]
  },
  {
   "cell_type": "code",
   "execution_count": 210,
   "metadata": {},
   "outputs": [],
   "source": [
    "from keras.applications.resnet50 import ResNet50\n",
    "from keras.preprocessing import image\n",
    "from keras.applications.resnet50 import preprocess_input, decode_predictions\n",
    "import numpy as np\n",
    "\n",
    "model = ResNet50(weights='imagenet')"
   ]
  },
  {
   "cell_type": "code",
   "execution_count": 211,
   "metadata": {},
   "outputs": [
    {
     "name": "stdout",
     "output_type": "stream",
     "text": [
      "Zèbre\n",
      "Predicted: [(u'n02391049', u'zebra', 0.99778277), (u'n02422106', u'hartebeest', 0.0014597389), (u'n02422699', u'impala', 0.00024407858)]\n",
      "Rhododendron\n",
      "Predicted: [(u'n11939491', u'daisy', 0.25601271), (u'n12985857', u'coral_fungus', 0.12404181), (u'n02206856', u'bee', 0.086140551)]\n",
      "Costard cravate\n",
      "Predicted: [(u'n04350905', u'suit', 0.98069376), (u'n04591157', u'Windsor_tie', 0.015505948), (u'n02883205', u'bow_tie', 0.0030662233)]\n"
     ]
    }
   ],
   "source": [
    "img_path = 'zebra.jpg'\n",
    "img = image.load_img(img_path, target_size=(224, 224))\n",
    "x = image.img_to_array(img)\n",
    "x = np.expand_dims(x, axis=0)\n",
    "x = preprocess_input(x)\n",
    "preds = model.predict(x)\n",
    "print('Zèbre')\n",
    "print('Predicted:', decode_predictions(preds, top=3)[0])\n",
    "\n",
    "img_path = 'flower.jpg'\n",
    "img = image.load_img(img_path, target_size=(224, 224))\n",
    "x = image.img_to_array(img)\n",
    "x = np.expand_dims(x, axis=0)\n",
    "x = preprocess_input(x)\n",
    "preds = model.predict(x)\n",
    "print('Rhododendron')\n",
    "print('Predicted:', decode_predictions(preds, top=3)[0])\n",
    "\n",
    "img_path = 'tie.jpg'\n",
    "img = image.load_img(img_path, target_size=(224, 224))\n",
    "x = image.img_to_array(img)\n",
    "x = np.expand_dims(x, axis=0)\n",
    "x = preprocess_input(x)\n",
    "preds = model.predict(x)\n",
    "print('Costard cravate')\n",
    "print('Predicted:', decode_predictions(preds, top=3)[0])\n"
   ]
  },
  {
   "cell_type": "markdown",
   "metadata": {},
   "source": [
    "### VGG16"
   ]
  },
  {
   "cell_type": "code",
   "execution_count": 212,
   "metadata": {},
   "outputs": [],
   "source": [
    "from keras.applications.vgg16 import VGG16\n",
    "from keras.preprocessing import image\n",
    "from keras.applications.vgg16 import preprocess_input\n",
    "import numpy as np\n",
    "\n",
    "model = VGG16(weights='imagenet', include_top=True)"
   ]
  },
  {
   "cell_type": "code",
   "execution_count": 213,
   "metadata": {},
   "outputs": [
    {
     "name": "stdout",
     "output_type": "stream",
     "text": [
      "Zèbre\n",
      "Predicted: [(u'n02391049', u'zebra', 0.99945766), (u'n02423022', u'gazelle', 0.00017846779), (u'n02422699', u'impala', 0.00012148795)]\n",
      "Rhododendron\n",
      "Predicted: [(u'n09256479', u'coral_reef', 0.45577544), (u'n03991062', u'pot', 0.048009753), (u'n04399382', u'teddy', 0.046604507)]\n",
      "Costard cravate\n",
      "Predicted: [(u'n04350905', u'suit', 0.96258932), (u'n04591157', u'Windsor_tie', 0.027539918), (u'n02883205', u'bow_tie', 0.0045481725)]\n"
     ]
    }
   ],
   "source": [
    "img_path = 'zebra.jpg'\n",
    "img = image.load_img(img_path, target_size=(224, 224))\n",
    "x = image.img_to_array(img)\n",
    "x = np.expand_dims(x, axis=0)\n",
    "x = preprocess_input(x)\n",
    "preds = model.predict(x)\n",
    "print('Zèbre')\n",
    "print('Predicted:', decode_predictions(preds, top=3)[0])\n",
    "\n",
    "img_path = 'flower.jpg'\n",
    "img = image.load_img(img_path, target_size=(224, 224))\n",
    "x = image.img_to_array(img)\n",
    "x = np.expand_dims(x, axis=0)\n",
    "x = preprocess_input(x)\n",
    "preds = model.predict(x)\n",
    "print('Rhododendron')\n",
    "print('Predicted:', decode_predictions(preds, top=3)[0])\n",
    "\n",
    "img_path = 'tie.jpg'\n",
    "img = image.load_img(img_path, target_size=(224, 224))\n",
    "x = image.img_to_array(img)\n",
    "x = np.expand_dims(x, axis=0)\n",
    "x = preprocess_input(x)\n",
    "preds = model.predict(x)\n",
    "print('Costard cravate')\n",
    "print('Predicted:', decode_predictions(preds, top=3)[0])\n"
   ]
  },
  {
   "cell_type": "markdown",
   "metadata": {},
   "source": [
    "### InceptionV3 "
   ]
  },
  {
   "cell_type": "code",
   "execution_count": 214,
   "metadata": {},
   "outputs": [],
   "source": [
    "from keras.applications.inception_v3 import InceptionV3\n",
    "from keras.preprocessing import image\n",
    "from keras.models import Model\n",
    "from keras.layers import Dense, GlobalAveragePooling2D\n",
    "from keras import backend as K\n",
    "\n",
    "model = InceptionV3(weights='imagenet', include_top=True)"
   ]
  },
  {
   "cell_type": "code",
   "execution_count": 215,
   "metadata": {},
   "outputs": [
    {
     "name": "stdout",
     "output_type": "stream",
     "text": [
      "Zèbre\n",
      "Predicted: [(u'n04286575', u'spotlight', 0.92956507), (u'n06359193', u'web_site', 0.068708554), (u'n03584829', u'iron', 0.0016488063)]\n",
      "Rhododendron\n",
      "Predicted: [(u'n03047690', u'clog', 1.0), (u'n04328186', u'stopwatch', 2.1809854e-09), (u'n04286575', u'spotlight', 3.0414911e-20)]\n",
      "Costard cravate\n",
      "Predicted: [(u'n06359193', u'web_site', 1.0), (u'n03481172', u'hammer', 3.9898635e-18), (u'n03627232', u'knot', 2.2896067e-31)]\n"
     ]
    }
   ],
   "source": [
    "img_path = 'zebra.jpg'\n",
    "img = image.load_img(img_path, target_size=(224, 224))\n",
    "x = image.img_to_array(img)\n",
    "x = np.expand_dims(x, axis=0)\n",
    "x = preprocess_input(x)\n",
    "preds = model.predict(x)\n",
    "print('Zèbre')\n",
    "print('Predicted:', decode_predictions(preds, top=3)[0])\n",
    "\n",
    "img_path = 'flower.jpg'\n",
    "img = image.load_img(img_path, target_size=(224, 224))\n",
    "x = image.img_to_array(img)\n",
    "x = np.expand_dims(x, axis=0)\n",
    "x = preprocess_input(x)\n",
    "preds = model.predict(x)\n",
    "print('Rhododendron')\n",
    "print('Predicted:', decode_predictions(preds, top=3)[0])\n",
    "\n",
    "img_path = 'tie.jpg'\n",
    "img = image.load_img(img_path, target_size=(224, 224))\n",
    "x = image.img_to_array(img)\n",
    "x = np.expand_dims(x, axis=0)\n",
    "x = preprocess_input(x)\n",
    "preds = model.predict(x)\n",
    "print('Costard cravate')\n",
    "print('Predicted:', decode_predictions(preds, top=3)[0])"
   ]
  },
  {
   "cell_type": "markdown",
   "metadata": {},
   "source": [
    "## Genericity of deep features\n"
   ]
  },
  {
   "cell_type": "markdown",
   "metadata": {},
   "source": [
    "### To do \n",
    "\n",
    "Features that are extracted by NN in their hidden layers are known to be generic  \n",
    "\n",
    "To study this property we will consider two 5-classes classification tasks based on the Mnist dataset: Classifying digits 0 to 4 (task A, and DatasetA) and classifying digits 5 to 9 (task B and DatasetB). \n",
    "\n",
    "1/ Learn a NN on Mnist data using data from classes 0 to 4, or data from classes 5 to 9. Learn a model for each task using the whole dataset, NNA and NNB, and for limited training datasets where the number of training samples  per class is equal to 10, 100, 1000, or 5000. All models have the same default architecture as defined in the function create_modelCNN_Mnist defined at the top of this notebook.\n",
    "\n",
    "2/ Use NNA to initialize models that will be learned on DatasetB. The models have the same architecture but their weights are initialized from those of NNA up to layer number 1, 2 or 3 (other weights are initailized randomly). The models are retrained using data from taskB with datasets of various sizes. Weights initialized from NNA may be frozen or trainable.\n",
    "\n",
    "The same procedure should be applied to use NNB to initialize models that will be retrained on TaskA and datasets A.\n",
    "\n",
    "3/ Analyze your results and comment on these.\n",
    "\n",
    "\n",
    "\n"
   ]
  },
  {
   "cell_type": "code",
   "execution_count": 8,
   "metadata": {},
   "outputs": [],
   "source": [
    "from keras.datasets import mnist\n",
    "import numpy as np\n",
    "from keras.utils import np_utils\n",
    "\n",
    "\n",
    "(X_train, y_train), (X_test, y_test) = mnist.load_data()"
   ]
  },
  {
   "cell_type": "code",
   "execution_count": 9,
   "metadata": {},
   "outputs": [
    {
     "name": "stdout",
     "output_type": "stream",
     "text": [
      "X_train shape: (60000, 28, 28, 1)\n",
      "60000 train samples\n",
      "10000 test samples\n"
     ]
    }
   ],
   "source": [
    "if K.image_dim_ordering() == 'th':\n",
    "    X_train = X_train.reshape(X_train.shape[0], 1, img_rows, img_cols)\n",
    "    X_test = X_test.reshape(X_test.shape[0], 1, img_rows, img_cols)\n",
    "    input_shape = (1, img_rows, img_cols)\n",
    "else:\n",
    "    X_train = X_train.reshape(X_train.shape[0], img_rows, img_cols, 1)\n",
    "    X_test = X_test.reshape(X_test.shape[0], img_rows, img_cols, 1)\n",
    "    input_shape = (img_rows, img_cols, 1)\n",
    "\n",
    "X_train = X_train.astype('float32')\n",
    "X_test = X_test.astype('float32')\n",
    "X_train /= 255\n",
    "X_test /= 255\n",
    "print('X_train shape:', X_train.shape)\n",
    "print(X_train.shape[0], 'train samples')\n",
    "print(X_test.shape[0], 'test samples')\n",
    "\n",
    "# convert class vectors to binary class matrices\n",
    "nb_classes = 10\n",
    "Y_train = np_utils.to_categorical(y_train, nb_classes)\n",
    "Y_test = np_utils.to_categorical(y_test, nb_classes)"
   ]
  },
  {
   "cell_type": "markdown",
   "metadata": {},
   "source": [
    "#### Question 1"
   ]
  },
  {
   "cell_type": "markdown",
   "metadata": {},
   "source": [
    "Toujours un problème à cette question, je ne comprends pas pourquoi le code suivant ne permet pas de bien choisir la taille du set sur lequel on travaille"
   ]
  },
  {
   "cell_type": "raw",
   "metadata": {},
   "source": [
    "from sklearn.model_selection import StratifiedShuffleSplit\n",
    "training_samples = [10/len(X_train), 100/len(X_train), 1000/len(X_train), 5000/len(X_train)]\n",
    "# For the example, we work with 5000 training samples.\n",
    "sss = StratifiedShuffleSplit(n_splits = 3, train_size = training_samples[-1], random_state = 0)\n",
    "\n",
    "for train_index, test_index in sss.split(X_train, Y_train):\n",
    "    X_train, X_test = X_train[train_index], X_test[test_index]\n",
    "    Y_train, Y_test = Y_train[train_index], Y_test[test_index]"
   ]
  },
  {
   "cell_type": "markdown",
   "metadata": {},
   "source": [
    "On travaille donc avec le set tout entier"
   ]
  },
  {
   "cell_type": "code",
   "execution_count": 10,
   "metadata": {},
   "outputs": [],
   "source": [
    "A = [0, 1, 2, 3, 4]\n",
    "B = [5, 6, 7, 8, 9]\n",
    "\n",
    "dsA_x_train = []\n",
    "dsA_x_test = []\n",
    "dsB_x_train = []\n",
    "dsB_x_test = []\n",
    "\n",
    "dsA_y_train = []\n",
    "dsA_y_test = []\n",
    "dsB_y_train = []\n",
    "dsB_y_test = []\n",
    "\n",
    "for i in range(len(X_train)):\n",
    "    if y_train[i] in A:\n",
    "        dsA_x_train.append(X_train[i])\n",
    "        dsA_y_train.append(Y_train[i])\n",
    "    else:\n",
    "        dsB_x_train.append(X_train[i])\n",
    "        dsB_y_train.append(Y_train[i])\n",
    "        \n",
    "for i in range(len(X_test)):\n",
    "    if y_test[i] in A:\n",
    "        dsA_x_test.append(X_test[i])\n",
    "        dsA_y_test.append(Y_test[i])\n",
    "    else:\n",
    "        dsB_x_test.append(X_test[i])\n",
    "        dsB_y_test.append(Y_test[i])\n",
    "\n",
    "dsA_x_train = np.array(dsA_x_train)\n",
    "dsA_x_test = np.array(dsA_x_test)\n",
    "dsB_x_train = np.array(dsB_x_train)\n",
    "dsB_x_test = np.array(dsB_x_test)\n",
    "\n",
    "dsA_y_train = np.array(dsA_y_train)\n",
    "dsA_y_test = np.array(dsA_y_test)\n",
    "dsB_y_train = np.array(dsB_y_train)\n",
    "dsB_y_test = np.array(dsB_y_test)"
   ]
  },
  {
   "cell_type": "code",
   "execution_count": 11,
   "metadata": {},
   "outputs": [
    {
     "name": "stdout",
     "output_type": "stream",
     "text": [
      "(30596, 28, 28, 1)\n",
      "(30596, 10)\n",
      "(29404, 28, 28, 1)\n",
      "(29404, 10)\n",
      "[ 0.  0.  1.  0.  0.  0.  0.  0.  0.  0.]\n",
      "[ 0.  0.  0.  0.  0.  0.  0.  1.  0.  0.]\n"
     ]
    }
   ],
   "source": [
    "print(dsA_x_train.shape)\n",
    "print(dsA_y_train.shape)\n",
    "print(dsB_x_train.shape)\n",
    "print(dsB_y_train.shape)\n",
    "print(dsA_y_train[3])\n",
    "print(dsB_y_train[4])"
   ]
  },
  {
   "cell_type": "code",
   "execution_count": 12,
   "metadata": {},
   "outputs": [],
   "source": [
    "# On relance cette fonction pour éviter des problèmes avec tous les changements faits\n",
    "# dans le cadre des questions 1 et 2\n",
    "\n",
    "def create_modelCNN_Mnist(nb_classes = 10, nb_filters = 32, pool_size=(2,2), kernel_size = (3,3)):\n",
    "    model1 = Sequential()\n",
    "    model1.add(Convolution2D(nb_filters, kernel_size,\n",
    "                             border_mode='valid',\n",
    "                             input_shape=input_shape))\n",
    "    model1.add(Activation('relu'))\n",
    "    model1.add(MaxPooling2D(pool_size=pool_size))\n",
    "    model1.add(Convolution2D(nb_filters, kernel_size))\n",
    "    model1.add(Activation('relu'))\n",
    "    model1.add(MaxPooling2D(pool_size=pool_size))\n",
    "    model1.add(Dropout(0.5))\n",
    "\n",
    "    model1.add(Flatten())\n",
    "    model1.add(Dense(100))\n",
    "    model1.add(Activation('relu'))\n",
    "    model1.add(Dropout(0.5))\n",
    "    model1.add(Dense(nb_classes))\n",
    "    model1.add(Activation('softmax'))\n",
    "\n",
    "    model1.compile(loss='categorical_crossentropy',\n",
    "                   optimizer='adadelta',\n",
    "                   metrics=['accuracy'])\n",
    "    return(model1)"
   ]
  },
  {
   "cell_type": "code",
   "execution_count": 13,
   "metadata": {},
   "outputs": [
    {
     "name": "stderr",
     "output_type": "stream",
     "text": [
      "/Library/Frameworks/Python.framework/Versions/2.7/lib/python2.7/site-packages/ipykernel_launcher.py:8: UserWarning: Update your `Conv2D` call to the Keras 2 API: `Conv2D(32, (3, 3), padding=\"valid\", input_shape=(28, 28, 1...)`\n",
      "  \n"
     ]
    },
    {
     "name": "stdout",
     "output_type": "stream",
     "text": [
      "Epoch 1/1\n",
      "30596/30596 [==============================] - 26s 846us/step - loss: 0.4384 - acc: 0.8517 0s - loss: 0.4509 - a\n",
      "Test score: 0.0728176274386\n",
      "Test accuracy: 0.97770950451\n"
     ]
    }
   ],
   "source": [
    "cnna = create_modelCNN_Mnist()  \n",
    "\n",
    "WEIGHTS_FNAME = 'Mnist_Cnn_My_weights.hdf'\n",
    "\n",
    "if False and os.path.exists(WEIGHTS_FNAME):\n",
    "    # Just change the True to false to force re-training\n",
    "    print('Loading existing weights')\n",
    "    cnna.load_weights(WEIGHTS_FNAME)\n",
    "else:\n",
    "    batch_size = 128\n",
    "    nb_epoch = 1\n",
    "    WEIGHTS_FNAME = 'Mnist_Cnn_My_weights.hdf'\n",
    "    cnna.fit(dsA_x_train, dsA_y_train, batch_size=batch_size, nb_epoch=nb_epoch)\n",
    "    \n",
    "score = cnna.evaluate(dsA_x_train, dsA_y_train, verbose=0)\n",
    "print('Test score:', score[0])\n",
    "print('Test accuracy:', score[1])"
   ]
  },
  {
   "cell_type": "code",
   "execution_count": 14,
   "metadata": {},
   "outputs": [],
   "source": [
    "cnna.save_weights('A_weights.hdf')"
   ]
  },
  {
   "cell_type": "code",
   "execution_count": 15,
   "metadata": {},
   "outputs": [
    {
     "name": "stderr",
     "output_type": "stream",
     "text": [
      "/Library/Frameworks/Python.framework/Versions/2.7/lib/python2.7/site-packages/ipykernel_launcher.py:8: UserWarning: Update your `Conv2D` call to the Keras 2 API: `Conv2D(32, (3, 3), padding=\"valid\", input_shape=(28, 28, 1...)`\n",
      "  \n"
     ]
    },
    {
     "name": "stdout",
     "output_type": "stream",
     "text": [
      "Epoch 1/1\n",
      "29404/29404 [==============================] - 25s 860us/step - loss: 0.6023 - acc: 0.7850\n",
      "Test score: 0.124134876773\n",
      "Test accuracy: 0.958645082277\n"
     ]
    }
   ],
   "source": [
    "cnnb = create_modelCNN_Mnist()  \n",
    "\n",
    "WEIGHTS_FNAME = 'Mnist_Cnn_My_weights.hdf'\n",
    "\n",
    "if False and os.path.exists(WEIGHTS_FNAME):\n",
    "    # Just change the True to false to force re-training\n",
    "    print('Loading existing weights')\n",
    "    cnnb.load_weights(WEIGHTS_FNAME)\n",
    "else:\n",
    "    batch_size = 128\n",
    "    nb_epoch = 1\n",
    "    WEIGHTS_FNAME = 'Mnist_Cnn_My_weights.hdf'\n",
    "    cnnb.fit(dsB_x_train, dsB_y_train, batch_size=batch_size, nb_epoch=nb_epoch)\n",
    "    \n",
    "score = cnnb.evaluate(dsB_x_train, dsB_y_train, verbose=0)\n",
    "print('Test score:', score[0])\n",
    "print('Test accuracy:', score[1])"
   ]
  },
  {
   "cell_type": "code",
   "execution_count": 16,
   "metadata": {},
   "outputs": [],
   "source": [
    "cnnb.save_weights('B_weights.hdf')"
   ]
  },
  {
   "cell_type": "markdown",
   "metadata": {},
   "source": [
    "#### Question 2"
   ]
  },
  {
   "cell_type": "code",
   "execution_count": 17,
   "metadata": {},
   "outputs": [
    {
     "name": "stderr",
     "output_type": "stream",
     "text": [
      "/Library/Frameworks/Python.framework/Versions/2.7/lib/python2.7/site-packages/ipykernel_launcher.py:8: UserWarning: Update your `Conv2D` call to the Keras 2 API: `Conv2D(32, (3, 3), padding=\"valid\", input_shape=(28, 28, 1...)`\n",
      "  \n"
     ]
    }
   ],
   "source": [
    "modele_a_bis = create_modelCNN_Mnist() \n",
    "modele_a_bis.load_weights('A_weights.hdf')\n",
    "modele_a_bis.pop()\n",
    "modele_a_bis.pop()\n",
    "modele_a_bis.add(Dense(10))\n",
    "modele_a_bis.add(Activation('softmax'))\n",
    "\n",
    "for layer in modele_a_bis.layers[:-2]:\n",
    "    layer.trainable = False\n",
    "\n",
    "modele_a_bis.compile(loss='categorical_crossentropy',\n",
    "                   optimizer='adadelta',\n",
    "                   metrics=['accuracy'])"
   ]
  },
  {
   "cell_type": "code",
   "execution_count": 18,
   "metadata": {},
   "outputs": [
    {
     "name": "stdout",
     "output_type": "stream",
     "text": [
      "Epoch 1/6\n",
      "29404/29404 [==============================] - 8s 287us/step - loss: 2.1510 - acc: 0.2663\n",
      "Epoch 2/6\n",
      "29404/29404 [==============================] - 8s 258us/step - loss: 1.3056 - acc: 0.4948\n",
      "Epoch 3/6\n",
      "29404/29404 [==============================] - 7s 254us/step - loss: 1.0654 - acc: 0.5858\n",
      "Epoch 4/6\n",
      "29404/29404 [==============================] - 8s 255us/step - loss: 0.9471 - acc: 0.6399\n",
      "Epoch 5/6\n",
      "29404/29404 [==============================] - 8s 257us/step - loss: 0.8765 - acc: 0.6697\n",
      "Epoch 6/6\n",
      "29404/29404 [==============================] - 8s 259us/step - loss: 0.8355 - acc: 0.6916\n",
      "Test score: 0.563239651413\n",
      "Test accuracy: 0.85291116854\n"
     ]
    }
   ],
   "source": [
    "batch_size = 128\n",
    "nb_epoch = 6\n",
    "modele_a_bis.fit(dsB_x_train, dsB_y_train, batch_size=batch_size, nb_epoch=nb_epoch)\n",
    "score = modele_a_bis.evaluate(dsB_x_train, dsB_y_train, verbose=0)\n",
    "print('Test score:', score[0])\n",
    "print('Test accuracy:', score[1])"
   ]
  },
  {
   "cell_type": "code",
   "execution_count": 19,
   "metadata": {},
   "outputs": [
    {
     "name": "stderr",
     "output_type": "stream",
     "text": [
      "/Library/Frameworks/Python.framework/Versions/2.7/lib/python2.7/site-packages/ipykernel_launcher.py:8: UserWarning: Update your `Conv2D` call to the Keras 2 API: `Conv2D(32, (3, 3), padding=\"valid\", input_shape=(28, 28, 1...)`\n",
      "  \n"
     ]
    }
   ],
   "source": [
    "modele_b_bis = create_modelCNN_Mnist() \n",
    "modele_b_bis.load_weights('B_weights.hdf')\n",
    "modele_b_bis.pop()\n",
    "modele_b_bis.pop()\n",
    "modele_b_bis.add(Dense(10))\n",
    "modele_b_bis.add(Activation('softmax'))\n",
    "\n",
    "for layer in modele_b_bis.layers[:-2]:\n",
    "    layer.trainable = False\n",
    "\n",
    "modele_b_bis.compile(loss='categorical_crossentropy',\n",
    "                   optimizer='adadelta',\n",
    "                   metrics=['accuracy'])"
   ]
  },
  {
   "cell_type": "code",
   "execution_count": 22,
   "metadata": {},
   "outputs": [
    {
     "name": "stdout",
     "output_type": "stream",
     "text": [
      "Epoch 1/6\n",
      "30596/30596 [==============================] - 9s 282us/step - loss: 0.6892 - acc: 0.7608\n",
      "Epoch 2/6\n",
      "30596/30596 [==============================] - 9s 281us/step - loss: 0.6644 - acc: 0.7672\n",
      "Epoch 3/6\n",
      "30596/30596 [==============================] - 9s 280us/step - loss: 0.6576 - acc: 0.7703\n",
      "Epoch 4/6\n",
      "30596/30596 [==============================] - 8s 273us/step - loss: 0.6437 - acc: 0.7758\n",
      "Epoch 5/6\n",
      "30596/30596 [==============================] - 8s 270us/step - loss: 0.6336 - acc: 0.7823\n",
      "Epoch 6/6\n",
      "30596/30596 [==============================] - 8s 275us/step - loss: 0.6274 - acc: 0.7826\n",
      "Test score: 0.394330810551\n",
      "Test accuracy: 0.899725454308\n"
     ]
    }
   ],
   "source": [
    "modele_b_bis.fit(dsA_x_train, dsA_y_train, batch_size=batch_size, nb_epoch=nb_epoch)\n",
    "score = modele_b_bis.evaluate(dsA_x_train, dsA_y_train, verbose=0)\n",
    "print('Test score:', score[0])\n",
    "print('Test accuracy:', score[1])"
   ]
  },
  {
   "cell_type": "markdown",
   "metadata": {},
   "source": [
    "Les résultats sont concluants ! En seulement 6 epochs on se retrouve avec une accuracy de près de 90% avec les deux nouveau modèls donc seuls les 2 derniers layers sont trainable.\n",
    "On constate également que le CNN a vraiment beaucoup changé malgré ces seules deux dernières couches, puisque les score sur les datasets d'origine se sont effondrés comme on le montre juste ci-dessous :"
   ]
  },
  {
   "cell_type": "code",
   "execution_count": 24,
   "metadata": {
    "scrolled": true
   },
   "outputs": [
    {
     "name": "stdout",
     "output_type": "stream",
     "text": [
      "Test score A sur A : 13.4530864656\n",
      "Test accuracy A sur A : 0.0\n",
      "Test score B sur B : 15.3464059529\n",
      "Test accuracy B sur B : 0.0\n"
     ]
    }
   ],
   "source": [
    "scoreA = modele_a_bis.evaluate(dsA_x_train, dsA_y_train, verbose=0)\n",
    "scoreB = modele_b_bis.evaluate(dsB_x_train, dsB_y_train, verbose=0)\n",
    "print('Test score A sur A :', scoreA[0])\n",
    "print('Test accuracy A sur A :', scoreA[1])\n",
    "print('Test score B sur B :', scoreB[0])\n",
    "print('Test accuracy B sur B :', scoreB[1])"
   ]
  }
 ],
 "metadata": {
  "kernelspec": {
   "display_name": "Python 3",
   "language": "python",
   "name": "python3"
  },
  "language_info": {
   "codemirror_mode": {
    "name": "ipython",
    "version": 3
   },
   "file_extension": ".py",
   "mimetype": "text/x-python",
   "name": "python",
   "nbconvert_exporter": "python",
   "pygments_lexer": "ipython3",
   "version": "3.7.3"
  }
 },
 "nbformat": 4,
 "nbformat_minor": 4
}
