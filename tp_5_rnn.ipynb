{
 "cells": [
  {
   "cell_type": "markdown",
   "metadata": {},
   "source": [
    "# Learning Recurrent Neural Networks for sequence classification\n",
    "__________________________________________"
   ]
  },
  {
   "cell_type": "markdown",
   "metadata": {},
   "source": [
    "# I.  RNN for reviews sentiment classification "
   ]
  },
  {
   "cell_type": "markdown",
   "metadata": {},
   "source": [
    "## 1. Dataset to be used today : IMDB dataset\n",
    "\n",
    "\n",
    "\n",
    "[IMDB Movie reviews sentiment classification](https://keras.io/datasets/)\n",
    "\n",
    "Dataset of 25,000 movies reviews from IMDB, labeled by sentiment (positive/negative). Reviews have been preprocessed, and each review is encoded as a sequence of word indexes (integers). For convenience, words are indexed by overall frequency in the dataset, so that for instance the integer \"3\" encodes the 3rd most frequent word in the data. This allows for quick filtering operations such as: \"only consider the top 10,000 most common words, but eliminate the top 20 most common words\".\n",
    "\n",
    "As a convention, \"0\" does not stand for a specific word, but instead is used to encode any unknown word.\n"
   ]
  },
  {
   "cell_type": "raw",
   "metadata": {},
   "source": [
    "from keras.utils.vis_utils import plot_model as plot\n",
    "\n",
    "plot(model, to_file='model.png')"
   ]
  },
  {
   "cell_type": "markdown",
   "metadata": {},
   "source": [
    "NB : Vous pouvez soit télécharger les données soit utiliser celles que j'ai déjà téléchargées en faisant un lien symbolique (commande ln -s) de  '/users/usrlocal/artieres/Projets/Datas/Keras_Datas/datasets/imdb_full.pkl' dans votre repertiore ~/.keras/datasets"
   ]
  },
  {
   "cell_type": "code",
   "execution_count": 88,
   "metadata": {},
   "outputs": [],
   "source": [
    "# Basic preliminaries\n",
    "\n",
    "from __future__ import print_function\n",
    "import numpy as np\n",
    "np.random.seed(1337)  # for reproducibility\n",
    "\n",
    "%matplotlib inline\n",
    "import matplotlib.pyplot as plt"
   ]
  },
  {
   "cell_type": "markdown",
   "metadata": {},
   "source": [
    "### Loading the data"
   ]
  },
  {
   "cell_type": "code",
   "execution_count": 89,
   "metadata": {},
   "outputs": [
    {
     "name": "stdout",
     "output_type": "stream",
     "text": [
      "Loading data...\n",
      "25000 train sequences\n",
      "25000 test sequences\n",
      "Pad sequences (samples x time)\n",
      "X_train shape: (25000, 100)\n",
      "X_test shape: (25000, 100)\n"
     ]
    }
   ],
   "source": [
    "from keras.preprocessing import sequence\n",
    "from keras.datasets import imdb\n",
    "\n",
    "max_features = 20000\n",
    "maxlen = 100  # cut texts after this number of words (among top max_features most common words)\n",
    "batch_size = 32\n",
    "\n",
    "print('Loading data...')\n",
    "(X_train, y_train), (X_test, y_test) = imdb.load_data(nb_words=max_features)\n",
    "print(len(X_train), 'train sequences')\n",
    "print(len(X_test), 'test sequences')\n",
    "\n",
    "print('Pad sequences (samples x time)')\n",
    "X_train = sequence.pad_sequences(X_train, maxlen=maxlen)\n",
    "X_test = sequence.pad_sequences(X_test, maxlen=maxlen)\n",
    "print('X_train shape:', X_train.shape)\n",
    "print('X_test shape:', X_test.shape)"
   ]
  },
  {
   "cell_type": "markdown",
   "metadata": {},
   "source": [
    "## 2. Using a standard RNN on IMDB dataset"
   ]
  },
  {
   "cell_type": "markdown",
   "metadata": {},
   "source": [
    "### Defining the model"
   ]
  },
  {
   "cell_type": "code",
   "execution_count": 90,
   "metadata": {},
   "outputs": [
    {
     "name": "stdout",
     "output_type": "stream",
     "text": [
      "Build model...\n",
      "_________________________________________________________________\n",
      "Layer (type)                 Output Shape              Param #   \n",
      "=================================================================\n",
      "embedding_18 (Embedding)     (None, None, 128)         2560000   \n",
      "_________________________________________________________________\n",
      "simple_rnn_14 (SimpleRNN)    (None, 100)               22900     \n",
      "_________________________________________________________________\n",
      "dense_18 (Dense)             (None, 1)                 101       \n",
      "_________________________________________________________________\n",
      "activation_18 (Activation)   (None, 1)                 0         \n",
      "=================================================================\n",
      "Total params: 2,583,001\n",
      "Trainable params: 2,583,001\n",
      "Non-trainable params: 0\n",
      "_________________________________________________________________\n",
      "None\n"
     ]
    },
    {
     "name": "stderr",
     "output_type": "stream",
     "text": [
      "/users/usrlocal/artieres/.Virtualenvs/ENV2.7/lib/python2.7/site-packages/ipykernel_launcher.py:9: UserWarning: The `dropout` argument is no longer support in `Embedding`. You can apply a `keras.layers.SpatialDropout1D` layer right after the `Embedding` layer to get the same behavior.\n",
      "  if __name__ == '__main__':\n",
      "/users/usrlocal/artieres/.Virtualenvs/ENV2.7/lib/python2.7/site-packages/ipykernel_launcher.py:10: UserWarning: Update your `SimpleRNN` call to the Keras 2 API: `SimpleRNN(100, dropout=0.2, recurrent_dropout=0.2)`\n",
      "  # Remove the CWD from sys.path while we load stuff.\n"
     ]
    }
   ],
   "source": [
    "from keras.models import Sequential\n",
    "from keras.layers import Dense, Activation, Embedding\n",
    "from keras.layers import LSTM, SimpleRNN\n",
    "\n",
    "batch_size = 32\n",
    "\n",
    "print('Build model...')\n",
    "model = Sequential()\n",
    "model.add(Embedding(max_features, 128, dropout=0.2))\n",
    "model.add(SimpleRNN(100, dropout_W=0.2, dropout_U=0.2))  \n",
    "model.add(Dense(1))\n",
    "model.add(Activation('sigmoid'))\n",
    "\n",
    "model.compile(loss='binary_crossentropy',\n",
    "              optimizer='adam',\n",
    "              metrics=['accuracy'])\n",
    "\n",
    "print (model.summary())"
   ]
  },
  {
   "cell_type": "code",
   "execution_count": 5,
   "metadata": {},
   "outputs": [],
   "source": [
    "### Useful feature \n",
    "##3 How to generate an image of your model\n",
    "\n",
    "from keras.utils.vis_utils import plot_model as plot\n",
    "plot(model, to_file='model.png')\n"
   ]
  },
  {
   "cell_type": "markdown",
   "metadata": {},
   "source": [
    "### To do :  \n",
    "\n",
    "#### Explain the number of parameters in the model description\n",
    "\n",
    "How to compute the number of parameters of all the layers from maxlen, max_features, the size of the embedding space, the size of the RNN layer. Write the formulas : \n",
    "\n",
    "- NbParameters(EmbeddingLayer) = NbFeatures x dim = 20 000 x 128 = 2 560 000\n",
    "\n",
    "- NbParameters(SimpleRNNLayer) = (InputDim + 1) x dim + maxlen x dim = (128+1) x 100 + 100 x 100 = 22 900\n",
    "\n",
    "- NbParameters(OutputLayer) = (InputDim + 1) x dim = (100 + 1) x 1 = 101\n",
    "\n",
    "#### Learn and evaluate the model's performance\n",
    "Write the code for learning and evaluate the model using usual fit and evaluate methods and the history of the learning to plot learning curves \n",
    "\n",
    "#### you get 30' to reach best performances with this architecture \n",
    "\n",
    "- Try using different optimizers and different optimizer configs, different number of cells, various batch size...\n",
    "- Usually you may see very quickly if the learning curve looks like being better than what you ever seen before."
   ]
  },
  {
   "cell_type": "markdown",
   "metadata": {},
   "source": [
    "-------------------------------------------------"
   ]
  },
  {
   "cell_type": "markdown",
   "metadata": {},
   "source": [
    "#### Learn and evaluate the model's performance"
   ]
  },
  {
   "cell_type": "code",
   "execution_count": 19,
   "metadata": {},
   "outputs": [
    {
     "name": "stdout",
     "output_type": "stream",
     "text": [
      "Train on 25000 samples, validate on 25000 samples\n",
      "Epoch 1/5\n",
      "25000/25000 [==============================] - 37s - loss: 0.4445 - acc: 0.7970 - val_loss: 0.5574 - val_acc: 0.7127\n",
      "Epoch 2/5\n",
      "25000/25000 [==============================] - 37s - loss: 0.4436 - acc: 0.7927 - val_loss: 0.5867 - val_acc: 0.7103\n",
      "Epoch 3/5\n",
      "25000/25000 [==============================] - 37s - loss: 0.3966 - acc: 0.8270 - val_loss: 0.5195 - val_acc: 0.7693\n",
      "Epoch 4/5\n",
      "25000/25000 [==============================] - 37s - loss: 0.3721 - acc: 0.8404 - val_loss: 0.5372 - val_acc: 0.7693\n",
      "Epoch 5/5\n",
      "25000/25000 [==============================] - 37s - loss: 0.3526 - acc: 0.8509 - val_loss: 0.5611 - val_acc: 0.7683\n"
     ]
    }
   ],
   "source": [
    "h = model.fit(X_train, y_train,\n",
    "        epochs=5,\n",
    "        batch_size=32,\n",
    "        shuffle=True,\n",
    "        validation_data=(X_test, y_test))"
   ]
  },
  {
   "cell_type": "code",
   "execution_count": 14,
   "metadata": {},
   "outputs": [],
   "source": [
    "def plot_learning_curves(history):\n",
    "    #print history.history.keys()\n",
    "    plt.plot(history.history['acc'])\n",
    "    plt.plot(history.history['val_acc'])\n",
    "    plt.title('model accuracy')\n",
    "    plt.ylabel('accuracy')\n",
    "    plt.xlabel('epoch')\n",
    "    plt.legend(['train', 'test'], loc='upper left')\n",
    "    plt.show()\n",
    "    # summarize history for loss\n",
    "    plt.plot(history.history['loss'])\n",
    "    plt.plot(history.history['val_loss'])\n",
    "    plt.title('model loss')\n",
    "    plt.ylabel('loss')\n",
    "    plt.xlabel('epoch')\n",
    "    plt.legend(['train', 'test'], loc='upper left')\n",
    "    plt.show()"
   ]
  },
  {
   "cell_type": "code",
   "execution_count": 20,
   "metadata": {},
   "outputs": [
    {
     "data": {
      "image/png": "[encoded data removed]",
      "text/plain": [
       "<matplotlib.figure.Figure at 0x7fd9d097ec90>"
      ]
     },
     "metadata": {},
     "output_type": "display_data"
    },
    {
     "data": {
      "image/png": "[encoded data removed]",
      "text/plain": [
       "<matplotlib.figure.Figure at 0x7fd9a44590d0>"
      ]
     },
     "metadata": {},
     "output_type": "display_data"
    }
   ],
   "source": [
    "plot_learning_curves(h)"
   ]
  },
  {
   "cell_type": "markdown",
   "metadata": {},
   "source": [
    "#### you get 30' to reach best performances with this architecture"
   ]
  },
  {
   "cell_type": "code",
   "execution_count": 91,
   "metadata": {},
   "outputs": [],
   "source": [
    "from keras import optimizers"
   ]
  },
  {
   "cell_type": "code",
   "execution_count": 44,
   "metadata": {},
   "outputs": [
    {
     "name": "stderr",
     "output_type": "stream",
     "text": [
      "/users/usrlocal/artieres/.Virtualenvs/ENV2.7/lib/python2.7/site-packages/ipykernel_launcher.py:2: UserWarning: The `dropout` argument is no longer support in `Embedding`. You can apply a `keras.layers.SpatialDropout1D` layer right after the `Embedding` layer to get the same behavior.\n",
      "  \n",
      "/users/usrlocal/artieres/.Virtualenvs/ENV2.7/lib/python2.7/site-packages/ipykernel_launcher.py:3: UserWarning: Update your `SimpleRNN` call to the Keras 2 API: `SimpleRNN(100, dropout=0.2, recurrent_dropout=0.2)`\n",
      "  This is separate from the ipykernel package so we can avoid doing imports until\n"
     ]
    }
   ],
   "source": [
    "model = Sequential()\n",
    "model.add(Embedding(max_features, 128, dropout=0.2))\n",
    "model.add(SimpleRNN(100, dropout_W=0.2, dropout_U=0.2))  \n",
    "model.add(Dense(1))\n",
    "model.add(Activation('sigmoid'))\n",
    "\n",
    "model.compile(loss='binary_crossentropy',\n",
    "              optimizer='adam',\n",
    "              metrics=['accuracy'])"
   ]
  },
  {
   "cell_type": "code",
   "execution_count": 45,
   "metadata": {},
   "outputs": [
    {
     "name": "stdout",
     "output_type": "stream",
     "text": [
      "Train on 25000 samples, validate on 25000 samples\n",
      "Epoch 1/10\n",
      "25000/25000 [==============================] - 27s - loss: 0.6975 - acc: 0.5249 - val_loss: 0.6796 - val_acc: 0.5347\n",
      "Epoch 2/10\n",
      "25000/25000 [==============================] - 27s - loss: 0.6642 - acc: 0.5822 - val_loss: 0.6483 - val_acc: 0.6075\n",
      "Epoch 3/10\n",
      "25000/25000 [==============================] - 27s - loss: 0.6046 - acc: 0.6706 - val_loss: 0.6255 - val_acc: 0.6333\n",
      "Epoch 4/10\n",
      "25000/25000 [==============================] - 28s - loss: 0.5427 - acc: 0.7171 - val_loss: 0.5903 - val_acc: 0.6845\n",
      "Epoch 5/10\n",
      "25000/25000 [==============================] - 27s - loss: 0.4673 - acc: 0.7786 - val_loss: 0.5255 - val_acc: 0.7484\n",
      "Epoch 6/10\n",
      "25000/25000 [==============================] - 27s - loss: 0.4102 - acc: 0.8133 - val_loss: 0.5409 - val_acc: 0.7413\n",
      "Epoch 7/10\n",
      "25000/25000 [==============================] - 27s - loss: 0.3801 - acc: 0.8338 - val_loss: 0.5411 - val_acc: 0.7550\n",
      "Epoch 8/10\n",
      "25000/25000 [==============================] - 27s - loss: 0.3721 - acc: 0.8390 - val_loss: 0.5775 - val_acc: 0.7567\n",
      "Epoch 9/10\n",
      "25000/25000 [==============================] - 27s - loss: 0.3164 - acc: 0.8687 - val_loss: 0.6342 - val_acc: 0.7739\n",
      "Epoch 10/10\n",
      "25000/25000 [==============================] - 27s - loss: 0.3010 - acc: 0.8783 - val_loss: 0.5906 - val_acc: 0.7554\n"
     ]
    }
   ],
   "source": [
    "g = model.fit(X_train, y_train,\n",
    "        epochs=10,\n",
    "        batch_size=64,\n",
    "        validation_split=0.33,\n",
    "        shuffle=True,\n",
    "        validation_data=(X_test, y_test))"
   ]
  },
  {
   "cell_type": "code",
   "execution_count": 46,
   "metadata": {},
   "outputs": [
    {
     "data": {
      "image/png": "[encoded data removed]",
      "text/plain": [
       "<matplotlib.figure.Figure at 0x7fd933d2cb10>"
      ]
     },
     "metadata": {},
     "output_type": "display_data"
    },
    {
     "data": {
      "image/png": "[encoded data removed]",
      "text/plain": [
       "<matplotlib.figure.Figure at 0x7fd93c622f10>"
      ]
     },
     "metadata": {},
     "output_type": "display_data"
    }
   ],
   "source": [
    "plot_learning_curves(g)"
   ]
  },
  {
   "cell_type": "markdown",
   "metadata": {},
   "source": [
    "Après bien des essais, la meilleure configuration trouvée n'est pas bien loin du modèle proposé par défaut...\n",
    "La généralisation n'est pas exceptionnelle : On trouve juste 3 fois sur 4."
   ]
  },
  {
   "cell_type": "markdown",
   "metadata": {},
   "source": [
    "## 3. Same task with LSTM units\n"
   ]
  },
  {
   "cell_type": "markdown",
   "metadata": {},
   "source": [
    "### Defining the Recurrent LSTM model"
   ]
  },
  {
   "cell_type": "code",
   "execution_count": 92,
   "metadata": {},
   "outputs": [
    {
     "name": "stdout",
     "output_type": "stream",
     "text": [
      "Build model...\n"
     ]
    },
    {
     "name": "stderr",
     "output_type": "stream",
     "text": [
      "/users/usrlocal/artieres/.Virtualenvs/ENV2.7/lib/python2.7/site-packages/ipykernel_launcher.py:9: UserWarning: The `dropout` argument is no longer support in `Embedding`. You can apply a `keras.layers.SpatialDropout1D` layer right after the `Embedding` layer to get the same behavior.\n",
      "  if __name__ == '__main__':\n",
      "/users/usrlocal/artieres/.Virtualenvs/ENV2.7/lib/python2.7/site-packages/ipykernel_launcher.py:10: UserWarning: Update your `LSTM` call to the Keras 2 API: `LSTM(100, dropout=0.2, recurrent_dropout=0.2)`\n",
      "  # Remove the CWD from sys.path while we load stuff.\n"
     ]
    },
    {
     "name": "stdout",
     "output_type": "stream",
     "text": [
      "_________________________________________________________________\n",
      "Layer (type)                 Output Shape              Param #   \n",
      "=================================================================\n",
      "embedding_19 (Embedding)     (None, None, 128)         2560000   \n",
      "_________________________________________________________________\n",
      "lstm_4 (LSTM)                (None, 100)               91600     \n",
      "_________________________________________________________________\n",
      "dense_19 (Dense)             (None, 1)                 101       \n",
      "_________________________________________________________________\n",
      "activation_19 (Activation)   (None, 1)                 0         \n",
      "=================================================================\n",
      "Total params: 2,651,701\n",
      "Trainable params: 2,651,701\n",
      "Non-trainable params: 0\n",
      "_________________________________________________________________\n",
      "None\n"
     ]
    }
   ],
   "source": [
    "from keras.models import Sequential\n",
    "from keras.layers import Dense, Activation, Embedding\n",
    "from keras.layers import LSTM\n",
    "\n",
    "batch_size = 32\n",
    "\n",
    "print('Build model...')\n",
    "model = Sequential()\n",
    "model.add(Embedding(max_features, 128, dropout=0.2))\n",
    "model.add(LSTM(100, dropout_W=0.2, dropout_U=0.2))  \n",
    "model.add(Dense(1))\n",
    "model.add(Activation('sigmoid'))\n",
    "\n",
    "model.compile(loss='binary_crossentropy',\n",
    "              optimizer='adam',\n",
    "              metrics=['accuracy'])\n",
    "\n",
    "\n",
    "print (model.summary())"
   ]
  },
  {
   "cell_type": "markdown",
   "metadata": {},
   "source": [
    "### To do :  \n",
    "\n",
    "#### Explain the number of parameters in the model description\n",
    "\n",
    "How to compute the number of parameters of all the layers from maxlen, max_features, the size of the embedding space, the size of the RNN layer. Write the formulas : \n",
    "\n",
    "- NbParameters(EmbeddingLayer) = NbFeatures x dim = 20 000 x 128 = 2 560 000\n",
    "\n",
    "- NbParameters(LSTMLayer) = 4 x (InputDim x dim + (dim + 1) x dim) = 4 * (128 x 100 + (100 + 1) x 100) = 91 600\n",
    "\n",
    "- NbParameters(OutputLayer) = (InputDim + 1) x dim = (100 + 1) x 1 = 101\n",
    "\n",
    "#### Learn and evaluate the model's performance\n",
    "Write the code for learning and evaluate the model using usual fit and evaluate methods and the history of the learning to plot learning curves \n",
    "\n",
    "\n",
    "#### Comparison of RNNs\n",
    "\n",
    "- Perform a comparison of RNNs using  Standard recurrent cells, LSTM, GRU on this task\n",
    "\n",
    "- Report a figure with a number of points corresponding to the total number of parameters (x-axis) and to the accuray on the test set (y-axis)."
   ]
  },
  {
   "cell_type": "markdown",
   "metadata": {},
   "source": [
    "------------------------------------------------------------------"
   ]
  },
  {
   "cell_type": "markdown",
   "metadata": {},
   "source": [
    "#### Learn and evaluate the model's performance"
   ]
  },
  {
   "cell_type": "code",
   "execution_count": 55,
   "metadata": {},
   "outputs": [
    {
     "name": "stdout",
     "output_type": "stream",
     "text": [
      "Train on 25000 samples, validate on 25000 samples\n",
      "Epoch 1/5\n",
      "25000/25000 [==============================] - 70s - loss: 0.4123 - acc: 0.8177 - val_loss: 0.3601 - val_acc: 0.8438\n",
      "Epoch 2/5\n",
      "25000/25000 [==============================] - 67s - loss: 0.2937 - acc: 0.8836 - val_loss: 0.3772 - val_acc: 0.8330\n",
      "Epoch 3/5\n",
      "25000/25000 [==============================] - 68s - loss: 0.2138 - acc: 0.9203 - val_loss: 0.4633 - val_acc: 0.8148\n",
      "Epoch 4/5\n",
      "25000/25000 [==============================] - 68s - loss: 0.1634 - acc: 0.9399 - val_loss: 0.4395 - val_acc: 0.8334\n",
      "Epoch 5/5\n",
      "25000/25000 [==============================] - 68s - loss: 0.1190 - acc: 0.9561 - val_loss: 0.5050 - val_acc: 0.8330\n"
     ]
    },
    {
     "data": {
      "text/plain": [
       "<keras.callbacks.History at 0x7fd92b6f4d90>"
      ]
     },
     "execution_count": 55,
     "metadata": {},
     "output_type": "execute_result"
    }
   ],
   "source": [
    "model.fit(X_train, y_train,\n",
    "        epochs=5,\n",
    "        batch_size=64,\n",
    "        validation_split=0.33,\n",
    "        shuffle=True,\n",
    "        validation_data=(X_test, y_test))"
   ]
  },
  {
   "cell_type": "code",
   "execution_count": 57,
   "metadata": {},
   "outputs": [
    {
     "name": "stdout",
     "output_type": "stream",
     "text": [
      "Test score: 0.505032849798\n",
      "Test accuracy: 0.83304\n"
     ]
    }
   ],
   "source": [
    "score = model.evaluate(X_test, y_test, verbose=0)\n",
    "print('Test score:', score[0])\n",
    "print('Test accuracy:', score[1])"
   ]
  },
  {
   "cell_type": "markdown",
   "metadata": {},
   "source": [
    "#### With GRU"
   ]
  },
  {
   "cell_type": "code",
   "execution_count": 58,
   "metadata": {},
   "outputs": [
    {
     "name": "stdout",
     "output_type": "stream",
     "text": [
      "Build model...\n",
      "_________________________________________________________________\n",
      "Layer (type)                 Output Shape              Param #   \n",
      "=================================================================\n",
      "embedding_15 (Embedding)     (None, None, 128)         2560000   \n",
      "_________________________________________________________________\n",
      "gru_1 (GRU)                  (None, 100)               68700     \n",
      "_________________________________________________________________\n",
      "dense_15 (Dense)             (None, 1)                 101       \n",
      "_________________________________________________________________\n",
      "activation_15 (Activation)   (None, 1)                 0         \n",
      "=================================================================\n",
      "Total params: 2,628,801\n",
      "Trainable params: 2,628,801\n",
      "Non-trainable params: 0\n",
      "_________________________________________________________________\n",
      "None\n"
     ]
    },
    {
     "name": "stderr",
     "output_type": "stream",
     "text": [
      "/users/usrlocal/artieres/.Virtualenvs/ENV2.7/lib/python2.7/site-packages/ipykernel_launcher.py:7: UserWarning: The `dropout` argument is no longer support in `Embedding`. You can apply a `keras.layers.SpatialDropout1D` layer right after the `Embedding` layer to get the same behavior.\n",
      "  import sys\n",
      "/users/usrlocal/artieres/.Virtualenvs/ENV2.7/lib/python2.7/site-packages/ipykernel_launcher.py:8: UserWarning: Update your `GRU` call to the Keras 2 API: `GRU(100, dropout=0.2, recurrent_dropout=0.2)`\n",
      "  \n"
     ]
    }
   ],
   "source": [
    "from keras.layers import GRU\n",
    "\n",
    "batch_size = 32\n",
    "\n",
    "print('Build model...')\n",
    "model = Sequential()\n",
    "model.add(Embedding(max_features, 128, dropout=0.2))\n",
    "model.add(GRU(100, dropout_W=0.2, dropout_U=0.2))  \n",
    "model.add(Dense(1))\n",
    "model.add(Activation('sigmoid'))\n",
    "\n",
    "model.compile(loss='binary_crossentropy',\n",
    "              optimizer='adam',\n",
    "              metrics=['accuracy'])\n",
    "\n",
    "\n",
    "print (model.summary())"
   ]
  },
  {
   "cell_type": "code",
   "execution_count": 59,
   "metadata": {},
   "outputs": [
    {
     "name": "stdout",
     "output_type": "stream",
     "text": [
      "Train on 25000 samples, validate on 25000 samples\n",
      "Epoch 1/5\n",
      "25000/25000 [==============================] - 61s - loss: 0.4783 - acc: 0.7684 - val_loss: 0.3916 - val_acc: 0.8302\n",
      "Epoch 2/5\n",
      "25000/25000 [==============================] - 60s - loss: 0.3232 - acc: 0.8671 - val_loss: 0.3639 - val_acc: 0.8446\n",
      "Epoch 3/5\n",
      "25000/25000 [==============================] - 61s - loss: 0.2357 - acc: 0.9086 - val_loss: 0.4201 - val_acc: 0.8264\n",
      "Epoch 4/5\n",
      "25000/25000 [==============================] - 61s - loss: 0.1634 - acc: 0.9404 - val_loss: 0.4387 - val_acc: 0.8367\n",
      "Epoch 5/5\n",
      "25000/25000 [==============================] - 60s - loss: 0.1073 - acc: 0.9631 - val_loss: 0.5005 - val_acc: 0.8290\n"
     ]
    },
    {
     "data": {
      "text/plain": [
       "<keras.callbacks.History at 0x7fd92b69f9d0>"
      ]
     },
     "execution_count": 59,
     "metadata": {},
     "output_type": "execute_result"
    }
   ],
   "source": [
    "model.fit(X_train, y_train,\n",
    "        epochs=5,\n",
    "        batch_size=64,\n",
    "        validation_split=0.33,\n",
    "        shuffle=True,\n",
    "        validation_data=(X_test, y_test))"
   ]
  },
  {
   "cell_type": "code",
   "execution_count": 60,
   "metadata": {},
   "outputs": [
    {
     "name": "stdout",
     "output_type": "stream",
     "text": [
      "Test score: 0.500490460186\n",
      "Test accuracy: 0.82896\n"
     ]
    }
   ],
   "source": [
    "score = model.evaluate(X_test, y_test, verbose=0)\n",
    "print('Test score:', score[0])\n",
    "print('Test accuracy:', score[1])"
   ]
  },
  {
   "cell_type": "markdown",
   "metadata": {},
   "source": [
    "#### Comparison of RNNs"
   ]
  },
  {
   "cell_type": "code",
   "execution_count": 94,
   "metadata": {},
   "outputs": [
    {
     "ename": "TypeError",
     "evalue": "'str' object is not callable",
     "output_type": "error",
     "traceback": [
      "\u001b[0;31m---------------------------------------------------------------------------\u001b[0m",
      "\u001b[0;31mTypeError\u001b[0m                                 Traceback (most recent call last)",
      "\u001b[0;32m<ipython-input-94-42773ebcb8a9>\u001b[0m in \u001b[0;36m<module>\u001b[0;34m()\u001b[0m\n\u001b[1;32m      3\u001b[0m \u001b[0mplt\u001b[0m\u001b[0;34m.\u001b[0m\u001b[0mplot\u001b[0m\u001b[0;34m(\u001b[0m\u001b[0;34m[\u001b[0m\u001b[0mparams\u001b[0m\u001b[0;34m]\u001b[0m\u001b[0;34m,\u001b[0m \u001b[0;34m[\u001b[0m\u001b[0macc\u001b[0m\u001b[0;34m]\u001b[0m\u001b[0;34m,\u001b[0m \u001b[0;34m'ro'\u001b[0m\u001b[0;34m)\u001b[0m\u001b[0;34m\u001b[0m\u001b[0m\n\u001b[1;32m      4\u001b[0m \u001b[0mplt\u001b[0m\u001b[0;34m.\u001b[0m\u001b[0mtitle\u001b[0m\u001b[0;34m(\u001b[0m\u001b[0;34m'model accuracy'\u001b[0m\u001b[0;34m)\u001b[0m\u001b[0;34m\u001b[0m\u001b[0m\n\u001b[0;32m----> 5\u001b[0;31m \u001b[0mplt\u001b[0m\u001b[0;34m.\u001b[0m\u001b[0mxlabel\u001b[0m\u001b[0;34m(\u001b[0m\u001b[0;34m'params card'\u001b[0m\u001b[0;34m)\u001b[0m\u001b[0;34m\u001b[0m\u001b[0m\n\u001b[0m\u001b[1;32m      6\u001b[0m \u001b[0mplt\u001b[0m\u001b[0;34m.\u001b[0m\u001b[0mylabel\u001b[0m\u001b[0;34m(\u001b[0m\u001b[0;34m'accuracy'\u001b[0m\u001b[0;34m)\u001b[0m\u001b[0;34m\u001b[0m\u001b[0m\n\u001b[1;32m      7\u001b[0m \u001b[0mplt\u001b[0m\u001b[0;34m.\u001b[0m\u001b[0mshow\u001b[0m\u001b[0;34m(\u001b[0m\u001b[0;34m)\u001b[0m\u001b[0;34m\u001b[0m\u001b[0m\n",
      "\u001b[0;31mTypeError\u001b[0m: 'str' object is not callable"
     ]
    },
    {
     "data": {
      "image/png": "[encoded data removed]",
      "text/plain": [
       "<matplotlib.figure.Figure at 0x7fd91cd85850>"
      ]
     },
     "metadata": {},
     "output_type": "display_data"
    }
   ],
   "source": [
    "params = [22900, 91600, 68700]\n",
    "acc = [0.75541, 0.83304, 0.82896]\n",
    "plt.plot([params], [acc], 'ro')\n",
    "plt.title('model accuracy')\n",
    "plt.xlabel('params card')\n",
    "plt.ylabel('accuracy')\n",
    "plt.show()"
   ]
  },
  {
   "cell_type": "markdown",
   "metadata": {},
   "source": [
    "## 4. RNN + convolution\n",
    "\n",
    "- The following model includes a 1D convolutional layer before the LSTM layer, followed by a 1D maxpooling layer.\n",
    "\n",
    "- Look at the keras documentations about these layers and guess the output dimensions of the layers of the model below.\n",
    "\n",
    "\n"
   ]
  },
  {
   "cell_type": "code",
   "execution_count": 93,
   "metadata": {},
   "outputs": [
    {
     "name": "stdout",
     "output_type": "stream",
     "text": [
      "Build model...\n",
      "_________________________________________________________________\n",
      "Layer (type)                 Output Shape              Param #   \n",
      "=================================================================\n",
      "embedding_20 (Embedding)     (None, 100, 128)          2560000   \n",
      "_________________________________________________________________\n",
      "dropout_3 (Dropout)          (None, 100, 128)          0         \n",
      "_________________________________________________________________\n",
      "conv1d_3 (Conv1D)            (None, 96, 16)            10256     \n",
      "_________________________________________________________________\n",
      "max_pooling1d_3 (MaxPooling1 (None, 24, 16)            0         \n",
      "_________________________________________________________________\n",
      "lstm_5 (LSTM)                (None, 50)                13400     \n",
      "_________________________________________________________________\n",
      "dense_20 (Dense)             (None, 1)                 51        \n",
      "_________________________________________________________________\n",
      "activation_20 (Activation)   (None, 1)                 0         \n",
      "=================================================================\n",
      "Total params: 2,583,707\n",
      "Trainable params: 2,583,707\n",
      "Non-trainable params: 0\n",
      "_________________________________________________________________\n",
      "None\n"
     ]
    },
    {
     "name": "stderr",
     "output_type": "stream",
     "text": [
      "/users/usrlocal/artieres/.Virtualenvs/ENV2.7/lib/python2.7/site-packages/ipykernel_launcher.py:29: UserWarning: Update your `Conv1D` call to the Keras 2 API: `Conv1D(activation=\"relu\", padding=\"valid\", strides=1, filters=16, kernel_size=5)`\n",
      "/users/usrlocal/artieres/.Virtualenvs/ENV2.7/lib/python2.7/site-packages/ipykernel_launcher.py:30: UserWarning: Update your `MaxPooling1D` call to the Keras 2 API: `MaxPooling1D(pool_size=4)`\n"
     ]
    }
   ],
   "source": [
    "\n",
    "from keras.layers import Convolution1D, MaxPooling1D, Dropout\n",
    "\n",
    "embedding_size = 128\n",
    "max_features = 20000\n",
    "maxlen = 100\n",
    "\n",
    "# Convolution\n",
    "filter_length = 5\n",
    "nb_filter = 16\n",
    "pool_length = 4\n",
    "\n",
    "# LSTM\n",
    "lstm_output_size = 50\n",
    "\n",
    "# Training\n",
    "batch_size = 30\n",
    "nb_epoch = 2\n",
    "\n",
    "print('Build model...')\n",
    "\n",
    "model = Sequential()\n",
    "model.add(Embedding(max_features, embedding_size, input_length=maxlen))\n",
    "model.add(Dropout(0.25))\n",
    "model.add(Convolution1D(nb_filter=nb_filter,\n",
    "                        filter_length=filter_length,\n",
    "                        border_mode='valid',\n",
    "                        activation='relu',\n",
    "                        subsample_length=1))\n",
    "model.add(MaxPooling1D(pool_length=pool_length))\n",
    "model.add(LSTM(lstm_output_size))\n",
    "model.add(Dense(1))\n",
    "model.add(Activation('sigmoid'))\n",
    "\n",
    "model.compile(loss='binary_crossentropy',\n",
    "              optimizer='adam',\n",
    "              metrics=['accuracy'])\n",
    "\n",
    "print (model.summary())"
   ]
  },
  {
   "cell_type": "markdown",
   "metadata": {},
   "source": [
    "### To do \n",
    "\n",
    "#### Explain the number of parameters in the model description\n",
    "\n",
    "How to compute the number of parameters of the RNNs as a function of all the quantities from which it is built. Write the formulas : \n",
    "\n",
    "- NbParameters(EmbeddingLayer) = max_features x embedding_size = 128 * 2 000 = 2 560 000\n",
    "\n",
    "- NbParameters(Convolution1DLayer) = InputDim x nb_filter x filter_length + nb_filters = 128 x 16 x 5 + 16 = 10256 \n",
    "\n",
    "- NbParameters(LSTMLayer) = 4 x (InputDim x dim + (dim + 1) x dim)\n",
    "\n",
    "- NbParameters(OutputLayer) = (InputDim + 1) x dim\n",
    "\n",
    "#### Compare these models with previous ones\n",
    "\n",
    "Do these convoltional LSTM models outperfom LSTM (meaning the best of the Convolutuinal LSTM models beats the best of the LSTM models) ?\n",
    "\n"
   ]
  },
  {
   "cell_type": "code",
   "execution_count": 85,
   "metadata": {},
   "outputs": [
    {
     "name": "stdout",
     "output_type": "stream",
     "text": [
      "Train on 25000 samples, validate on 25000 samples\n",
      "Epoch 1/5\n",
      "25000/25000 [==============================] - 19s - loss: 0.4173 - acc: 0.7981 - val_loss: 0.3343 - val_acc: 0.8548\n",
      "Epoch 2/5\n",
      "25000/25000 [==============================] - 19s - loss: 0.2102 - acc: 0.9184 - val_loss: 0.3336 - val_acc: 0.8539\n",
      "Epoch 3/5\n",
      "25000/25000 [==============================] - 19s - loss: 0.1051 - acc: 0.9641 - val_loss: 0.4846 - val_acc: 0.8406\n",
      "Epoch 4/5\n",
      "25000/25000 [==============================] - 19s - loss: 0.0447 - acc: 0.9858 - val_loss: 0.4704 - val_acc: 0.8406\n",
      "Epoch 5/5\n",
      "25000/25000 [==============================] - 19s - loss: 0.0215 - acc: 0.9933 - val_loss: 0.6915 - val_acc: 0.8344\n",
      "Test score: 0.691485763662\n",
      "Test accuracy: 0.8344\n"
     ]
    }
   ],
   "source": [
    "model.fit(X_train, y_train,\n",
    "        epochs=5,\n",
    "        batch_size=64,\n",
    "        validation_split=0.33,\n",
    "        shuffle=True,\n",
    "        validation_data=(X_test, y_test))\n",
    "\n",
    "score = model.evaluate(X_test, y_test, verbose=0)\n",
    "print('Test score:', score[0])\n",
    "print('Test accuracy:', score[1])"
   ]
  },
  {
   "cell_type": "markdown",
   "metadata": {},
   "source": [
    "This model barely outperforms the one without convolutioning."
   ]
  },
  {
   "cell_type": "markdown",
   "metadata": {},
   "source": [
    "# II. Get your best results on motion capture datas\n"
   ]
  },
  {
   "cell_type": "markdown",
   "metadata": {},
   "source": [
    "## Motion capture data\n",
    "\n",
    "The Emilya dataset is a database of motion capture data of actors performing daily activities under specific emotion. There were 11 actors, 8 emotions, 8 activities. \n",
    "\n",
    "- The actors were eleven (6 females and 5 males) graduate students. The mean age was 26 ranging from 23 to 28.\n",
    "\n",
    "- The activities are : walking,\n",
    "sitting down, knocking at the door, lifting and throwing objects\n",
    "(a piece of paper) with one hand, and moving objects\n",
    "(books) on a table with two hands. For the walking actions,\n",
    " the actors were asked to walk back and forth along the long\n",
    "side of the room. Walking was divided into a simple walk\n",
    "and a walk with an object in hand to capture two types of\n",
    "arms behavior during walking action. \n",
    "\n",
    "- The emotions are : Joy, Anger, Panic Fear, Anxiety, Sadness, Shame, Pride and Neutral. \n",
    "\n",
    "- Acquiring and processing data : 17 sensors were used to capture the movements of 23 body segments. The orientation and the position information\n",
    "are obtained for each body joint. These values are transformed into three joint angles per body segment so that the posture at time t of an actor is represented as a feature vector of size 69. One motion sequence is then a sequence of 69 dimensional feature vectors, called frames, with a rate of 120 frames per second.\n",
    "\n",
    "\n",
    "## To do\n",
    "\n",
    "- Design and learn recurrent models for activity recognition from motion capture sequences\n",
    "\n",
    "- You may load the data with the code below, provided the file MotionCaptureData.py is in your repository\n",
    "\n",
    "\n",
    "\n"
   ]
  },
  {
   "cell_type": "code",
   "execution_count": 98,
   "metadata": {},
   "outputs": [
    {
     "name": "stdout",
     "output_type": "stream",
     "text": [
      "(7582, 100, 72) (843, 100, 72) (7582, 8) (843, 8) (7582, 100) (843, 100)\n"
     ]
    },
    {
     "data": {
      "text/plain": [
       "<matplotlib.figure.Figure at 0x7fd91d0b2fd0>"
      ]
     },
     "metadata": {},
     "output_type": "display_data"
    }
   ],
   "source": [
    "%run MotionCaptureData.py\n",
    "\n",
    "print (motion_data_train.shape, motion_data_test.shape, target_train.shape, target_test.shape, emotion_data_train.shape, emotion_data_test.shape)"
   ]
  },
  {
   "cell_type": "code",
   "execution_count": 114,
   "metadata": {},
   "outputs": [
    {
     "name": "stdout",
     "output_type": "stream",
     "text": [
      "Build model...\n"
     ]
    },
    {
     "name": "stderr",
     "output_type": "stream",
     "text": [
      "/users/usrlocal/artieres/.Virtualenvs/ENV2.7/lib/python2.7/site-packages/ipykernel_launcher.py:24: UserWarning: Update your `Conv1D` call to the Keras 2 API: `Conv1D(activation=\"relu\", input_shape=(100, 72), padding=\"valid\", strides=1, filters=64, kernel_size=5)`\n",
      "/users/usrlocal/artieres/.Virtualenvs/ENV2.7/lib/python2.7/site-packages/ipykernel_launcher.py:26: UserWarning: Update your `MaxPooling1D` call to the Keras 2 API: `MaxPooling1D(pool_size=4)`\n"
     ]
    },
    {
     "name": "stdout",
     "output_type": "stream",
     "text": [
      "_________________________________________________________________\n",
      "Layer (type)                 Output Shape              Param #   \n",
      "=================================================================\n",
      "conv1d_9 (Conv1D)            (None, 96, 64)            23104     \n",
      "_________________________________________________________________\n",
      "max_pooling1d_9 (MaxPooling1 (None, 24, 64)            0         \n",
      "_________________________________________________________________\n",
      "lstm_11 (LSTM)               (None, 512)               1181696   \n",
      "_________________________________________________________________\n",
      "dense_26 (Dense)             (None, 8)                 4104      \n",
      "_________________________________________________________________\n",
      "activation_26 (Activation)   (None, 8)                 0         \n",
      "=================================================================\n",
      "Total params: 1,208,904\n",
      "Trainable params: 1,208,904\n",
      "Non-trainable params: 0\n",
      "_________________________________________________________________\n",
      "None\n"
     ]
    }
   ],
   "source": [
    "maxlen = 100\n",
    "nb_activities = 8\n",
    "\n",
    "# Convolution\n",
    "filter_length = 5\n",
    "nb_filter = 64\n",
    "pool_length = 4\n",
    "\n",
    "# LSTM\n",
    "lstm_output_size = 512\n",
    "\n",
    "# Training\n",
    "batch_size = 32\n",
    "nb_epoch = 5\n",
    "\n",
    "print('Build model...')\n",
    "\n",
    "model = Sequential()\n",
    "model.add(Convolution1D(input_shape = (100, 72),\n",
    "                        nb_filter=nb_filter,\n",
    "                        filter_length=filter_length,\n",
    "                        border_mode='valid',\n",
    "                        activation='relu',\n",
    "                        subsample_length=1))\n",
    "\n",
    "model.add(MaxPooling1D(pool_length=pool_length))\n",
    "model.add(LSTM(lstm_output_size))\n",
    "model.add(Dense(nb_activities))\n",
    "model.add(Activation('sigmoid'))\n",
    "\n",
    "\n",
    "model.compile(loss='binary_crossentropy',\n",
    "              optimizer='adam',\n",
    "              metrics=['accuracy'])\n",
    "\n",
    "print (model.summary())\n"
   ]
  },
  {
   "cell_type": "code",
   "execution_count": 115,
   "metadata": {},
   "outputs": [
    {
     "name": "stdout",
     "output_type": "stream",
     "text": [
      "Train on 7582 samples, validate on 843 samples\n",
      "Epoch 1/5\n",
      "7582/7582 [==============================] - 28s - loss: 0.1683 - acc: 0.9297 - val_loss: 0.1271 - val_acc: 0.9483\n",
      "Epoch 2/5\n",
      "7582/7582 [==============================] - 28s - loss: 0.1086 - acc: 0.9542 - val_loss: 0.1004 - val_acc: 0.9595\n",
      "Epoch 3/5\n",
      "7582/7582 [==============================] - 28s - loss: 0.0875 - acc: 0.9635 - val_loss: 0.0962 - val_acc: 0.9594\n",
      "Epoch 4/5\n",
      "7582/7582 [==============================] - 29s - loss: 0.0761 - acc: 0.9684 - val_loss: 0.0830 - val_acc: 0.9647\n",
      "Epoch 5/5\n",
      "7582/7582 [==============================] - 29s - loss: 0.0706 - acc: 0.9705 - val_loss: 0.0852 - val_acc: 0.9675\n"
     ]
    },
    {
     "data": {
      "text/plain": [
       "<keras.callbacks.History at 0x7fd9a6f81790>"
      ]
     },
     "execution_count": 115,
     "metadata": {},
     "output_type": "execute_result"
    }
   ],
   "source": [
    "model.fit(motion_data_train, target_train,\n",
    "        epochs=5,\n",
    "        batch_size=batch_size,\n",
    "        validation_split=0.33,\n",
    "        shuffle=True,\n",
    "        validation_data=(motion_data_test, target_test))"
   ]
  },
  {
   "cell_type": "code",
   "execution_count": 116,
   "metadata": {},
   "outputs": [
    {
     "name": "stdout",
     "output_type": "stream",
     "text": [
      "Test score: 0.0852193552758\n",
      "Test accuracy: 0.967526690179\n"
     ]
    }
   ],
   "source": [
    "score = model.evaluate(motion_data_test, target_test, verbose=0)\n",
    "print('Test score:', score[0])\n",
    "print('Test accuracy:', score[1])"
   ]
  },
  {
   "cell_type": "markdown",
   "metadata": {},
   "source": [
    "Plusieurs essais non-concluants quant à l'intégration des émotions...\n",
    "\n",
    "https://keras.io/models/model/"
   ]
  },
  {
   "cell_type": "code",
   "execution_count": null,
   "metadata": {},
   "outputs": [],
   "source": []
  }
 ],
 "metadata": {
  "kernelspec": {
   "display_name": "Python 3",
   "language": "python",
   "name": "python3"
  },
  "language_info": {
   "codemirror_mode": {
    "name": "ipython",
    "version": 2
   },
   "file_extension": ".py",
   "mimetype": "text/x-python",
   "name": "python",
   "nbconvert_exporter": "python",
   "pygments_lexer": "ipython2",
   "version": "2.7.13"
  }
 },
 "nbformat": 4,
 "nbformat_minor": 4
}
